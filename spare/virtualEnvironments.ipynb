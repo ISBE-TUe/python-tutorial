{
 "cells": [
  {
   "cell_type": "markdown",
   "metadata": {},
   "source": [
    "# Virtual Environments"
   ]
  },
  {
   "cell_type": "markdown",
   "metadata": {},
   "source": [
    "# Virtual Environment\n",
    "- different Python projects may use different versions of the same library\n",
    "- can't work with two different versions of the same library if you have them in one place\n",
    "- a Python virtual environment is a place you install all your libraries only for that project"
   ]
  },
  {
   "cell_type": "markdown",
   "metadata": {},
   "source": [
    "![alt text](images/Screenshot_20221205_105705.png \"Title\")"
   ]
  },
  {
   "cell_type": "markdown",
   "metadata": {},
   "source": [
    "## Creating a venv\n",
    "- Go to the folder that you downloaded python-workshop-dec-2022\n",
    "- Open command prompt from the folder that you created or change the directory to where you saved the file (cd/pyhton-workshop-dec-2022/) \n",
    "- Create a virtual environment\n",
    "- Windows\n",
    "    - Create venv\n",
    "~~~\n",
    "        python -m venv venv\n",
    "~~~\n",
    "    - Run venv\n",
    "~~~\n",
    "       .\\venv\\Scripts\\Activate.ps1\n",
    "~~~\n",
    "\n",
    "- MAC\n",
    "    - Create venv\n",
    "~~~\n",
    "        python3 -m venv venv\n",
    "~~~\n",
    "\n",
    "    - Run venv\n",
    "~~~\n",
    "        python3 source/venv/bin/activate\n",
    "~~~\n"
   ]
  },
  {
   "cell_type": "markdown",
   "metadata": {},
   "source": [
    "## Change the kernel to venv you created\n",
    "![alt text](images/Screenshot_20221205_105705.png \"Title\")"
   ]
  }
 ],
 "metadata": {
  "language_info": {
   "name": "python"
  }
 },
 "nbformat": 4,
 "nbformat_minor": 2
}
