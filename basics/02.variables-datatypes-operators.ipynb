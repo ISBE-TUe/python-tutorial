{
  "cells": [
    {
      "cell_type": "markdown",
      "metadata": {
        "slideshow": {
          "slide_type": "slide"
        }
      },
      "source": [
        "# 2. Variables, Data Types and Operators"
      ]
    },
    {
      "cell_type": "markdown",
      "metadata": {},
      "source": [
        "## 2.1 Variables\n",
        "### What is a variable?\n",
        "Python stores data in **Variables**. Variables are containers for storing values: you can put any value in it. It is then possible to do calculations and computations with these variables.\n",
        "\n",
        "In Python, we assign variables by using the equals symbol: `=`. "
      ]
    },
    {
      "cell_type": "code",
      "execution_count": 14,
      "metadata": {
        "trusted": true
      },
      "outputs": [
        {
          "name": "stdout",
          "output_type": "stream",
          "text": [
            "5\n",
            "Pieter\n"
          ]
        }
      ],
      "source": [
        "x = 5\n",
        "y = \"Pieter\"\n",
        "print(x)\n",
        "print(y)"
      ]
    },
    {
      "cell_type": "markdown",
      "metadata": {},
      "source": [
        "### Declaring variables\n",
        "In other programming languages, a variable often has to be `declared`. That means that one defines a name and characteristics for it. Characteristics of a variable are mainly its data type. Declaring a variable is not needed in the case of Python: Python finds out its name and characteristics on its own. One can simply create a variable by writing its name and assigning a value to it.\n",
        "\n",
        "This means that variables do not need to be declared with any particular type, and can even change type after they have been set."
      ]
    },
    {
      "cell_type": "code",
      "execution_count": 4,
      "metadata": {
        "trusted": true
      },
      "outputs": [
        {
          "name": "stdout",
          "output_type": "stream",
          "text": [
            "3\n",
            "5\n",
            "now it is a string\n"
          ]
        }
      ],
      "source": [
        "# declaring a variable is not needed in Python (SyntaxError for below line)\n",
        "# int x = 3\n",
        "\n",
        "# you can just place the name and data type\n",
        "y = 3\n",
        "\n",
        "print(y)\n",
        "\n",
        "# And a variable can change value (and data type!) any time. It keeps the last assigned value and data type all the time.\n",
        "# This is one of the reasons why Python is so popular: it is short and very flexible.\n",
        "y = \"now it is a string\"\n",
        "\n",
        "print(x)\n",
        "print(y)"
      ]
    },
    {
      "cell_type": "markdown",
      "metadata": {},
      "source": [
        "### Naming variables\n",
        "When naming variables, you cannot use reserved keywords. "
      ]
    },
    {
      "cell_type": "code",
      "execution_count": 10,
      "metadata": {
        "trusted": true
      },
      "outputs": [
        {
          "name": "stdout",
          "output_type": "stream",
          "text": [
            "['False', 'None', 'True', 'and', 'as', 'assert', 'async', 'await', 'break', 'class', 'continue', 'def', 'del', 'elif', 'else', 'except', 'finally', 'for', 'from', 'global', 'if', 'import', 'in', 'is', 'lambda', 'nonlocal', 'not', 'or', 'pass', 'raise', 'return', 'try', 'while', 'with', 'yield']\n"
          ]
        }
      ],
      "source": [
        "# You cannot use reserved keywords as variable names. Reserved keywords are printed below, using the keyword package in Python. \n",
        "# Normally, your IDE hints (different color) if you choose a keyword for a variable, so you can avoid it.\n",
        "\n",
        "import keyword\n",
        "\n",
        "print(keyword.kwlist)"
      ]
    },
    {
      "cell_type": "markdown",
      "metadata": {},
      "source": [
        "You can name a variable anything, as long as it obeys the following three rules:\n",
        "1. It can be only one word.\n",
        "2. It can use only letters, numbers, and the underscore (`_`) character.\n",
        "3. It cannot begin with a number.\n",
        "\n",
        "It is highly recommended and standard practice to give your variables **well-defined, good, and meaningful names**, so that you can understand them as a developer. This is the very basic starting point in coding."
      ]
    },
    {
      "cell_type": "code",
      "execution_count": 13,
      "metadata": {
        "trusted": true
      },
      "outputs": [
        {
          "name": "stdout",
          "output_type": "stream",
          "text": [
            "10\n",
            "15 November\n"
          ]
        }
      ],
      "source": [
        "# Do not use variable names that are not meaningful\n",
        "myVariable = 3\n",
        "myRealVar = 5\n",
        "NoThisIsTheRealVariable = 7\n",
        "OhNeverMind = myVariable + NoThisIsTheRealVariable\n",
        "\n",
        "print(OhNeverMind)\n",
        "\n",
        "temperature = 27\n",
        "day = 15\n",
        "month = \"November\"\n",
        "\n",
        "print(str(day) + \" \" + month)"
      ]
    },
    {
      "cell_type": "markdown",
      "metadata": {},
      "source": [
        "### Working with variables\n",
        "If the context of a program changes, we can update a variable but perform the same logical process on it. \n",
        "\n",
        "We want to create a variable `message_string`, assign a welcome message if a customer enters our online store, and print the greeting. Then we want to wish them goodbye at the end. We then update `message_string` to a departure message and print that out."
      ]
    },
    {
      "cell_type": "code",
      "execution_count": 6,
      "metadata": {
        "trusted": true
      },
      "outputs": [
        {
          "name": "stdout",
          "output_type": "stream",
          "text": [
            "Hello there!\n",
            "Thank you, good bye!\n"
          ]
        }
      ],
      "source": [
        "# Greeting\n",
        "message_string = \"Hello there!\"\n",
        "print(message_string)\n",
        "\n",
        "# Farewell\n",
        "message_string = \"Thank you, good bye!\"\n",
        "print(message_string)"
      ]
    },
    {
      "cell_type": "markdown",
      "metadata": {},
      "source": [
        "## 2.2 Data Types\n",
        "### Five simple data types\n",
        "Variables can hold data of several **data types**. Python uses 5 simple data types:\n",
        "1. `int` - integer: integer value (number with no floating point)\n",
        "2. `float` - float: floating point number\n",
        "3. `str` - string: sequence of characters\n",
        "4. `list` - list: list of datatypes\n",
        "5. `bool` - boolean: binary value (True or False)"
      ]
    },
    {
      "cell_type": "code",
      "execution_count": 9,
      "metadata": {
        "trusted": true
      },
      "outputs": [
        {
          "name": "stdout",
          "output_type": "stream",
          "text": [
            "False\n"
          ]
        }
      ],
      "source": [
        "myInt = 1\n",
        "myFloat = 3.1415\n",
        "myStr = \"Eindhoven University of Technology ... !?\"\n",
        "myList = [2, 4, 42, 3.1415, 5000]\n",
        "myBool = False\n",
        "\n",
        "print(myBool)"
      ]
    },
    {
      "cell_type": "markdown",
      "metadata": {
        "slideshow": {
          "slide_type": "slide"
        }
      },
      "source": [
        "### Working with number types (int and float)\n",
        "Python has two main number types: integers and floats. Which one you use depends on your intended purpose. \n",
        "\n",
        "Integers (`int`) are a set of numbers that include all whole numbers (zero and positive numbers) as well as negative numbers. Integers do not include fractions or decimals. They are used to count whole numbers. For example, if you were counting the number of people in a room, you would likely use an integer.\n",
        "\n",
        "> {..., -5, -4, -3, -2, -1, 0, 1, 2, 3, 4, 5, ...}\n",
        "\n",
        "Floating point numbers (`float`) are real numbers a floating decimal point. Floating point numbers get their name from the way the decimal point can \"float\" to any position necessary. It can be used to represent fractional quantities as well as precise measurements. If you were measuring the length of your table, or temperature in a room, you would likely use a float.\n",
        "\n",
        "> {..., -5.3492, -1.2, 0.547, -102342.15, ...}"
      ]
    },
    {
      "cell_type": "code",
      "execution_count": 15,
      "metadata": {
        "slideshow": {
          "slide_type": "subslide"
        },
        "trusted": true
      },
      "outputs": [
        {
          "name": "stdout",
          "output_type": "stream",
          "text": [
            "<class 'int'>\n",
            "<class 'float'>\n"
          ]
        }
      ],
      "source": [
        "num_people = 35 # This is an integer\n",
        "table_length = 128.3 # This is a float\n",
        "\n",
        "print(type(num_people))\n",
        "print(type(table_length))"
      ]
    },
    {
      "cell_type": "markdown",
      "metadata": {},
      "source": [
        "### Working with text types (string)\n",
        "Developers refer to blocks of text as strings. In Python, a string is either surrounded by double quotes (\"Hello world\") or single quotes ('Hello world')."
      ]
    },
    {
      "cell_type": "code",
      "execution_count": null,
      "metadata": {
        "slideshow": {
          "slide_type": "fragment"
        }
      },
      "outputs": [
        {
          "name": "stdout",
          "output_type": "stream",
          "text": [
            "It is 13°C in Eindhoven today.\n"
          ]
        }
      ],
      "source": [
        "print(\"It is 13°C in Eindhoven today.\")"
      ]
    },
    {
      "cell_type": "markdown",
      "metadata": {
        "slideshow": {
          "slide_type": "skip"
        }
      },
      "source": [
        "By using three quote-marks (double or single quote symbol) instead of one, we tell the program that the string covers multiple lines, up until the next triple-quote (`\"\"\"`)."
      ]
    },
    {
      "cell_type": "code",
      "execution_count": 28,
      "metadata": {
        "slideshow": {
          "slide_type": "skip"
        },
        "trusted": true
      },
      "outputs": [
        {
          "name": "stdout",
          "output_type": "stream",
          "text": [
            "\n",
            "This is a mutiline text!.\n",
            "This is a mutiline text!.\n",
            "This is a mutiline text!.\n",
            "This is a mutiline text!.\n",
            "This is a mutiline text!.\n",
            "\n"
          ]
        }
      ],
      "source": [
        "multiline_text = \"\"\"\n",
        "This is a mutiline text!.\n",
        "This is a mutiline text!.\n",
        "This is a mutiline text!.\n",
        "This is a mutiline text!.\n",
        "This is a mutiline text!.\n",
        "\"\"\"\n",
        "\n",
        "print(multiline_text)"
      ]
    },
    {
      "cell_type": "markdown",
      "metadata": {},
      "source": [
        "Be careful, in Python, strings are actually **arrays of characters** (character = string with a length of 1). Square brackets (`[]`) can be used to access elements of the string. Like in any programming language, counting starts at zero (0), not one (1)."
      ]
    },
    {
      "cell_type": "code",
      "execution_count": 32,
      "metadata": {
        "trusted": true
      },
      "outputs": [
        {
          "name": "stdout",
          "output_type": "stream",
          "text": [
            "T\n",
            "h\n",
            "i\n",
            "s\n",
            " \n",
            "i\n",
            "s\n",
            "...\n"
          ]
        }
      ],
      "source": [
        "myString = \"This is Eindhoven!\"\n",
        "\n",
        "print(myString[0])\n",
        "print(myString[1])\n",
        "print(myString[2])\n",
        "print(myString[3])\n",
        "print(myString[4])\n",
        "print(myString[5])\n",
        "print(myString[6])\n",
        "print(\"...\")"
      ]
    },
    {
      "cell_type": "markdown",
      "metadata": {
        "slideshow": {
          "slide_type": "skip"
        }
      },
      "source": [
        "## 2.3 Operators"
      ]
    },
    {
      "cell_type": "markdown",
      "metadata": {
        "slideshow": {
          "slide_type": "skip"
        }
      },
      "source": [
        "Operators allow to perform operations on variables of particular data types. As such, you can make all kinds of calculations, computations, and operations. Depending on the datatype, different operators are available, such as a summation, a comparison of values, selection of characters, etc.\n",
        "\n",
        "### Arithmetic operators\n",
        "Python performs the arithmetic operations of addition, subtraction, multiplication, division, and exponent with `+`, `-`, `*`, `/`, and `**`."
      ]
    },
    {
      "cell_type": "code",
      "execution_count": 17,
      "metadata": {
        "slideshow": {
          "slide_type": "skip"
        },
        "trusted": true
      },
      "outputs": [
        {
          "name": "stdout",
          "output_type": "stream",
          "text": [
            "500\n",
            "50\n",
            "2.0\n",
            "4\n"
          ]
        }
      ],
      "source": [
        "# Addition and subtraction\n",
        "print(573 - 74 + 1)\n",
        " \n",
        "# Multiplication\n",
        "print(25 * 2)\n",
        " \n",
        "# Division\n",
        "print(10 / 5)\n",
        "\n",
        "# Exponent\n",
        "print(2 ** 2)"
      ]
    },
    {
      "cell_type": "markdown",
      "metadata": {
        "slideshow": {
          "slide_type": "skip"
        }
      },
      "source": [
        "The modulo operator is indicated by `%` and gives the remainder of a division calculation. If the number is divisible, then the result of the modulo operator will be 0."
      ]
    },
    {
      "cell_type": "code",
      "execution_count": 2,
      "metadata": {
        "slideshow": {
          "slide_type": "skip"
        }
      },
      "outputs": [
        {
          "name": "stdout",
          "output_type": "stream",
          "text": [
            "4\n"
          ]
        }
      ],
      "source": [
        "# Prints 4 because 29 / 5 is 5 with a remainder of 4\n",
        "print(29 % 5)"
      ]
    },
    {
      "cell_type": "markdown",
      "metadata": {
        "slideshow": {
          "slide_type": "skip"
        }
      },
      "source": [
        "### Assignment operators\n",
        "Using the equals sign (`=`), it is possible to assign values to variables. The same symbol can be used to update the value of the variable."
      ]
    },
    {
      "cell_type": "code",
      "execution_count": null,
      "metadata": {},
      "outputs": [],
      "source": [
        "a = 2"
      ]
    },
    {
      "cell_type": "markdown",
      "metadata": {
        "slideshow": {
          "slide_type": "skip"
        }
      },
      "source": [
        "Python offers a shorthand for updating variables. When you have a number saved in a variable and want to add to the current value of the variable, you can use the `+=` (plus-equals) operator.\n",
        "\n",
        "> `x += y`\n",
        "> is the same as\n",
        "> `x = x + y`"
      ]
    },
    {
      "cell_type": "code",
      "execution_count": 21,
      "metadata": {
        "slideshow": {
          "slide_type": "skip"
        },
        "trusted": true
      },
      "outputs": [
        {
          "name": "stdout",
          "output_type": "stream",
          "text": [
            "Total of hours - long notation 1: 8\n",
            "Total of hours - long notation 2: 8\n",
            "Total of hours - short notation: 8\n"
          ]
        }
      ],
      "source": [
        "# Two variables as inputs\n",
        "number_of_hours_studied = 2\n",
        "additionalHours = 6\n",
        "\n",
        "# Totalhours\n",
        "totalHours = number_of_hours_studied + additionalHours\n",
        "totalHours_alt = number_of_hours_studied + 6\n",
        "number_of_hours_studied += 6\n",
        "print(\"Total of hours - long notation 1: \" + str(totalHours))\n",
        "print(\"Total of hours - long notation 2: \" + str(totalHours_alt))\n",
        "print(\"Total of hours - short notation: \" + str(number_of_hours_studied))"
      ]
    },
    {
      "cell_type": "markdown",
      "metadata": {},
      "source": [
        "### Comparison operators\n",
        "Comparison operators are used to compare two values. The outcome from a comparison operator is a boolean value (`True` or `False`)."
      ]
    },
    {
      "cell_type": "code",
      "execution_count": 29,
      "metadata": {
        "trusted": true
      },
      "outputs": [
        {
          "name": "stdout",
          "output_type": "stream",
          "text": [
            "False\n",
            "True\n",
            "False\n",
            "True\n",
            "False\n"
          ]
        }
      ],
      "source": [
        "# input values\n",
        "x = 3\n",
        "y = 5\n",
        "\n",
        "# making comparisons\n",
        "print(x==y)\n",
        "print(x!=y)\n",
        "print(x>y)\n",
        "print(x<y)\n",
        "print(x>=y)\n"
      ]
    },
    {
      "cell_type": "markdown",
      "metadata": {},
      "source": [
        "### Logical operators\n",
        "Logical operators are used to combine conditional statements. These logical operators are `and`, `or`, and `not`.\n",
        "\n",
        "> `x and y`: output is `True` only if both are `True`\n",
        "> \n",
        "> `x or y`: output is `True` as soon as one is `True`"
      ]
    },
    {
      "cell_type": "code",
      "execution_count": 25,
      "metadata": {
        "trusted": true
      },
      "outputs": [
        {
          "name": "stdout",
          "output_type": "stream",
          "text": [
            "False\n",
            "True\n",
            "False\n"
          ]
        }
      ],
      "source": [
        "# input values\n",
        "x = False\n",
        "y = True\n",
        "\n",
        "# making comparisons\n",
        "print(x and y)\n",
        "print(x or y)\n",
        "print(not y)"
      ]
    },
    {
      "cell_type": "markdown",
      "metadata": {
        "slideshow": {
          "slide_type": "slide"
        }
      },
      "source": [
        "### String operators\n",
        "A number of operators allows to operate with strings. This includes **string concatenation** and **selection in strings**.\n",
        "\n",
        "#### String concatenation: \n",
        "\n",
        "The `+` operator does not just add two numbers, it can also \"add\" two strings! The process of combining two strings is called string concatenation. Performing string concatenation creates a brand new string comprised of the first string's contents followed by the second string's contents (without any added space in-between)."
      ]
    },
    {
      "cell_type": "code",
      "execution_count": 1,
      "metadata": {
        "slideshow": {
          "slide_type": "subslide"
        }
      },
      "outputs": [
        {
          "name": "stdout",
          "output_type": "stream",
          "text": [
            "It is 13°C in Eindhoven today.How are you feeling?\n"
          ]
        }
      ],
      "source": [
        "weather_text = \"It is 13°C in Eindhoven today.\"\n",
        "greeting_text = \"How are you feeling?\"\n",
        "full_text = weather_text + greeting_text\n",
        "\n",
        "print(full_text)"
      ]
    },
    {
      "cell_type": "code",
      "execution_count": null,
      "metadata": {
        "slideshow": {
          "slide_type": "skip"
        }
      },
      "outputs": [
        {
          "name": "stdout",
          "output_type": "stream",
          "text": [
            "It is 13°C in Eindhoven today. How are you feeling today?\n"
          ]
        }
      ],
      "source": [
        "full_text = weather_text + \" \" + greeting_text\n",
        "\n",
        "print(full_text)"
      ]
    },
    {
      "cell_type": "markdown",
      "metadata": {
        "slideshow": {
          "slide_type": "skip"
        }
      },
      "source": [
        "If you want to concatenate a string with a number you will need to make the number a string first, using the `str()` function. If you are trying to `print()` a numeric variable, you can use commas to pass it as a different argument rather than converting it to a string."
      ]
    },
    {
      "cell_type": "code",
      "execution_count": null,
      "metadata": {
        "slideshow": {
          "slide_type": "skip"
        }
      },
      "outputs": [
        {
          "name": "stdout",
          "output_type": "stream",
          "text": [
            "It is 13°C in Eindhoven today. How are you feeling?\n"
          ]
        }
      ],
      "source": [
        "greeting_string_1 = \"It is \"\n",
        "temp = 13\n",
        "greeting_string_2 = \"°C in Eindhoven today.\"\n",
        "greeting_string_3 = \" How are you feeling?\"\n",
        " \n",
        "# Concatenating an integer with strings is possible \n",
        "# if we turn the integer into a string first\n",
        "full_greeting_string = greeting_string_1 + str(temp) + greeting_string_2 + greeting_string_3\n",
        " \n",
        "\n",
        "print(full_greeting_string)"
      ]
    },
    {
      "cell_type": "markdown",
      "metadata": {
        "slideshow": {
          "slide_type": "skip"
        }
      },
      "source": [
        "Using `str()`, we can convert variables that are not strings to strings and then concatenate them. But we don’t need to convert a number to a string for it to be an argument to a print statement."
      ]
    },
    {
      "cell_type": "code",
      "execution_count": null,
      "metadata": {
        "slideshow": {
          "slide_type": "skip"
        }
      },
      "outputs": [
        {
          "name": "stdout",
          "output_type": "stream",
          "text": [
            "It is  13 °C in Eindhoven today.  How are you feeling?\n"
          ]
        }
      ],
      "source": [
        "# If we just want to print an integer \n",
        "# we can pass a variable as an argument to \n",
        "# print() regardless of whether \n",
        "# it is a string.\n",
        " \n",
        "# This also prints \"I am 10 years old today!\"\n",
        "print(greeting_string_1, temp, greeting_string_2, greeting_string_3)"
      ]
    },
    {
      "cell_type": "markdown",
      "metadata": {},
      "source": [
        "#### Selecting parts of a string, and handling string length\n",
        "As a string is an array of characters, it is possible to select specific characters in a string, or count the length of a string, for example. This can be done using the square bracket symbols `[]`, as well as the `len()` function."
      ]
    },
    {
      "cell_type": "code",
      "execution_count": 37,
      "metadata": {
        "trusted": true
      },
      "outputs": [
        {
          "name": "stdout",
          "output_type": "stream",
          "text": [
            "character 0: E\n",
            "character 1 to 5 excluded: indh\n",
            "character up until 3 excluded: Ein\n",
            "character from 3 onwards: dhoven\n",
            "string length: 9\n"
          ]
        }
      ],
      "source": [
        "CityName = \"Eindhoven\"\n",
        "\n",
        "# Check out what these operators do\n",
        "print(\"character 0: \" + CityName[0])\n",
        "print(\"character 1 to 5 excluded: \" + CityName[1:5])\n",
        "print(\"character up until 3 excluded: \" + CityName[:3])\n",
        "print(\"character from 3 onwards: \" + CityName[3:])\n",
        "print(\"string length: \" + str(len(CityName)))\n",
        "\n",
        "# Remember that Python starts counting at zero"
      ]
    },
    {
      "cell_type": "markdown",
      "metadata": {
        "slideshow": {
          "slide_type": "slide"
        }
      },
      "source": [
        "#### Formatted strings\n",
        "The idea behind f-strings is to make string interpolation simpler. \n",
        "To create an f-string, prefix the string with the letter “ f ”. The string itself can be formatted in much the same way that you would with str.format(). F-strings provide a concise and convenient way to embed python expressions inside string literals for formatting."
      ]
    },
    {
      "cell_type": "code",
      "execution_count": null,
      "metadata": {
        "slideshow": {
          "slide_type": "fragment"
        }
      },
      "outputs": [
        {
          "name": "stdout",
          "output_type": "stream",
          "text": [
            "It is 13°C (55.4°F) in Eindhoven today.\n"
          ]
        }
      ],
      "source": [
        "print(f\"It is 13°C ({13* 9/5 + 32}°F) in Eindhoven today.\")"
      ]
    },
    {
      "cell_type": "markdown",
      "metadata": {
        "slideshow": {
          "slide_type": "slide"
        }
      },
      "source": [
        "Now I want to customize the message based on temperature of each day."
      ]
    },
    {
      "cell_type": "code",
      "execution_count": 5,
      "metadata": {
        "slideshow": {
          "slide_type": "subslide"
        }
      },
      "outputs": [
        {
          "name": "stdout",
          "output_type": "stream",
          "text": [
            "It is 2°C (35.6°F) in Eindhoven today.\n",
            "\n",
            "It is 14°C (57.2°F) in Eindhoven today.\n"
          ]
        }
      ],
      "source": [
        "# It is 2 degrees\n",
        "print(f\"It is 2°C ({2* 9/5 + 32}°F) in Eindhoven today.\")\n",
        "\n",
        "# It is 14 degrees\n",
        "print(f\"It is 14°C ({14* 9/5 + 32}°F) in Eindhoven today.\")\n",
        "\n"
      ]
    },
    {
      "cell_type": "markdown",
      "metadata": {
        "slideshow": {
          "slide_type": "slide"
        }
      },
      "source": [
        "## 2.4 Combining multiple operators\n",
        "One can of course combine operators freely. Assume that we want to see the temperature in Fahrenheit as well. This requires a combination of arithmetic and string operators."
      ]
    },
    {
      "cell_type": "code",
      "execution_count": 2,
      "metadata": {
        "slideshow": {
          "slide_type": "fragment"
        }
      },
      "outputs": [
        {
          "name": "stdout",
          "output_type": "stream",
          "text": [
            "55.4\n"
          ]
        }
      ],
      "source": [
        "# converting 13°C to °F\n",
        "\n",
        "print(13* 9/5 + 32)"
      ]
    },
    {
      "cell_type": "code",
      "execution_count": 1,
      "metadata": {
        "slideshow": {
          "slide_type": "subslide"
        },
        "trusted": true
      },
      "outputs": [
        {
          "name": "stdout",
          "output_type": "stream",
          "text": [
            "It is 13°C or 55.4 °F in Eindhoven today.\n"
          ]
        }
      ],
      "source": [
        "# Let's print this nicely to: \"It is 13°C or 55.4 °F in Eindhoven today.\n",
        "\n",
        "print(\"It is 13°C or \" + str(13* 9/5 + 32) + \" °F in Eindhoven today.\")"
      ]
    },
    {
      "cell_type": "markdown",
      "metadata": {
        "slideshow": {
          "slide_type": "fragment"
        }
      },
      "source": [
        "What we just did is called **type casting**. Type casting is a method used to change the values declared in a certain data type into a different data type to match the operation required to be performed by the code snippet. So we can change a float data type, for example, to a string data type and vice versa. Be careful, this sometimes leads to data loss if data types are not very compatible (e.g. casting a float to an integer)."
      ]
    },
    {
      "cell_type": "markdown",
      "metadata": {
        "slideshow": {
          "slide_type": "subslide"
        }
      },
      "source": [
        "## Is there a better way to use the same logic again and again?🤔🤔"
      ]
    }
  ],
  "metadata": {
    "celltoolbar": "Slideshow",
    "kernelspec": {
      "display_name": "Python 3",
      "language": "python",
      "name": "python3"
    },
    "language_info": {
      "codemirror_mode": {
        "name": "ipython",
        "version": 3
      },
      "file_extension": ".py",
      "mimetype": "text/x-python",
      "name": "python",
      "nbconvert_exporter": "python",
      "pygments_lexer": "ipython3",
      "version": "3.9.1"
    }
  },
  "nbformat": 4,
  "nbformat_minor": 4
}
