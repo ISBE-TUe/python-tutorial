{
 "cells": [
  {
   "cell_type": "markdown",
   "metadata": {},
   "source": [
    "# Conditionals - If \\ else for Validation"
   ]
  },
  {
   "cell_type": "code",
   "execution_count": 5,
   "metadata": {},
   "outputs": [],
   "source": [
    "def celsius_to_fahrenheit(deg_c):\n",
    "    deg_f = deg_c * 9/5 + 32\n",
    "    return f\"It is {deg_c}°C ({deg_f}°F) in Eindhoven today.\""
   ]
  },
  {
   "cell_type": "code",
   "execution_count": 6,
   "metadata": {},
   "outputs": [
    {
     "name": "stdout",
     "output_type": "stream",
     "text": [
      "It is 12°C (53.6°F) in Eindhoven today.\n"
     ]
    }
   ],
   "source": [
    "user_input = input('Give the temperature in degrees celsius and I will convert it to Fahrenheit!')\n",
    "\n",
    "if user_input.isdigit(): # validation\n",
    "    user_input_as_num = int(user_input) # type casting\n",
    "    deg_f = celsius_to_fahrenheit(user_input_as_num) # calling the conversion function\n",
    "    print(deg_f)\n",
    "else: # validation\n",
    "    print('Cannot convert a non numeric value, sorry!')\n",
    "\n",
    "# Now, our code runs without a problem, even if the inout is a text!"
   ]
  },
  {
   "cell_type": "markdown",
   "metadata": {},
   "source": [
    "Let's define a function for validating the user input and perform the conversion"
   ]
  },
  {
   "cell_type": "code",
   "execution_count": 7,
   "metadata": {},
   "outputs": [],
   "source": [
    "user_input = input('Give the temperature in degrees celsius and I will convert it to Fahrenheit!')\n",
    "\n",
    "def validate_input_and_convert():\n",
    "    if user_input.isdigit():\n",
    "        user_input_as_num = int(user_input)\n",
    "        deg_f = celsius_to_fahrenheit(user_input_as_num)\n",
    "        print(deg_f)\n",
    "    else:\n",
    "     print('Cannot convert a non numeric value, sorry!')"
   ]
  },
  {
   "cell_type": "code",
   "execution_count": null,
   "metadata": {},
   "outputs": [
    {
     "name": "stdout",
     "output_type": "stream",
     "text": [
      "It is 12°C (53.6°F) in Eindhoven today.\n"
     ]
    }
   ],
   "source": [
    "user_input = input('Give the temperature in degrees celsius and I will convert it to Fahrenheit!')\n",
    "validate_input_and_convert()"
   ]
  }
 ],
 "metadata": {
  "kernelspec": {
   "display_name": "Python 3.10.7 ('venv': venv)",
   "language": "python",
   "name": "python3"
  },
  "language_info": {
   "codemirror_mode": {
    "name": "ipython",
    "version": 3
   },
   "file_extension": ".py",
   "mimetype": "text/x-python",
   "name": "python",
   "nbconvert_exporter": "python",
   "pygments_lexer": "ipython3",
   "version": "3.10.7"
  },
  "orig_nbformat": 4,
  "vscode": {
   "interpreter": {
    "hash": "328d38edb4a47e72717e062bae5904cf5f8811ba316934a40a547226342d9fc7"
   }
  }
 },
 "nbformat": 4,
 "nbformat_minor": 2
}
