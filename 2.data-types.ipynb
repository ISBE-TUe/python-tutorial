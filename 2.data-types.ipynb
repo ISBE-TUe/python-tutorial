{
 "cells": [
  {
   "cell_type": "markdown",
   "metadata": {},
   "source": [
    "# Data Types"
   ]
  },
  {
   "cell_type": "markdown",
   "metadata": {},
   "source": [
    "## Number types"
   ]
  },
  {
   "cell_type": "markdown",
   "metadata": {},
   "source": [
    "  Python has a few numeric data types. It has multiple ways of storing numbers. Which one you use depends on your intended purpose for the number you are saving."
   ]
  },
  {
   "cell_type": "markdown",
   "metadata": {},
   "source": [
    "An integer, or int, is a whole number. It has no decimal point and contains all counting numbers (1, 2, 3, …) as well as their negative counterparts and the number 0. For example, yf you were counting the number of people in a room, you would likely use an integer.\n",
    "\n",
    "A floating-point number, or a float, is a decimal number. It can be used to represent fractional quantities as well as precise measurements. If you were measuring the length of your table, you would likely use a float."
   ]
  },
  {
   "cell_type": "code",
   "execution_count": null,
   "metadata": {},
   "outputs": [
    {
     "name": "stdout",
     "output_type": "stream",
     "text": [
      "<class 'int'> <class 'float'>\n"
     ]
    }
   ],
   "source": [
    "num_people = 35\n",
    "table_length = 128.3\n",
    "\n",
    "print(type(num_people),type(table_length))"
   ]
  },
  {
   "cell_type": "markdown",
   "metadata": {},
   "source": [
    "### Calculations on Numbers"
   ]
  },
  {
   "cell_type": "markdown",
   "metadata": {},
   "source": [
    "Python performs the arithmetic operations of addition, subtraction, multiplication, and division with +, -, *, and /."
   ]
  },
  {
   "cell_type": "code",
   "execution_count": null,
   "metadata": {},
   "outputs": [
    {
     "name": "stdout",
     "output_type": "stream",
     "text": [
      "500\n",
      "50\n",
      "2.0\n"
     ]
    }
   ],
   "source": [
    "# Prints \"500\"\n",
    "print(573 - 74 + 1)\n",
    " \n",
    "# Prints \"50\"\n",
    "print(25 * 2)\n",
    " \n",
    "# Prints \"2.0\"\n",
    "print(10 / 5)"
   ]
  },
  {
   "cell_type": "markdown",
   "metadata": {},
   "source": [
    "### Exponents: Calculate $ 2^{10} $"
   ]
  },
  {
   "cell_type": "code",
   "execution_count": null,
   "metadata": {},
   "outputs": [
    {
     "name": "stdout",
     "output_type": "stream",
     "text": [
      "1024\n"
     ]
    }
   ],
   "source": [
    "# 2 to the 10th power, or 1024\n",
    "print(2 ** 10)"
   ]
  },
  {
   "cell_type": "markdown",
   "metadata": {},
   "source": [
    "### Modulo"
   ]
  },
  {
   "cell_type": "markdown",
   "metadata": {},
   "source": [
    "Python offers a companion to the division operator called the modulo operator. The modulo operator is indicated by % and gives the remainder of a division calculation. If the number is divisible, then the result of the modulo operator will be 0."
   ]
  },
  {
   "cell_type": "code",
   "execution_count": null,
   "metadata": {},
   "outputs": [
    {
     "name": "stdout",
     "output_type": "stream",
     "text": [
      "4\n",
      "2\n",
      "0\n"
     ]
    }
   ],
   "source": [
    "# Prints 4 because 29 / 5 is 5 with a remainder of 4\n",
    "print(29 % 5)\n",
    " \n",
    "# Prints 2 because 32 / 3 is 10 with a remainder of 2\n",
    "print(32 % 3)\n",
    " \n",
    "# Modulo by 2 returns 0 for even numbers and 1 for odd numbers\n",
    "# Prints 0\n",
    "print(44 % 2)"
   ]
  },
  {
   "cell_type": "markdown",
   "metadata": {},
   "source": [
    "### Plus Equals += operator"
   ]
  },
  {
   "cell_type": "markdown",
   "metadata": {},
   "source": [
    "Python offers a shorthand for updating variables. When you have a number saved in a variable and want to add to the current value of the variable, you can use the += (plus-equals) operator."
   ]
  },
  {
   "cell_type": "code",
   "execution_count": null,
   "metadata": {},
   "outputs": [
    {
     "name": "stdout",
     "output_type": "stream",
     "text": [
      "4\n"
     ]
    }
   ],
   "source": [
    "# First we have a variable with a number saved\n",
    "number_of_hours_studied = 2\n",
    " \n",
    "# Let's say we study two more hours\n",
    "number_of_hours_studied += 2\n",
    " \n",
    "# The new value is the old value\n",
    "# Plus the number after the plus-equals\n",
    "print(number_of_hours_studied)"
   ]
  },
  {
   "cell_type": "markdown",
   "metadata": {},
   "source": [
    "## Text Type: String (str)"
   ]
  },
  {
   "cell_type": "markdown",
   "metadata": {},
   "source": [
    "Computer programmers refer to blocks of text as strings. In Python a string is either surrounded by double quotes (\"Hello world\") or single quotes ('Hello world'). It doesn’t matter which kind you use, just be consistent."
   ]
  },
  {
   "cell_type": "code",
   "execution_count": null,
   "metadata": {},
   "outputs": [
    {
     "name": "stdout",
     "output_type": "stream",
     "text": [
      "It is 13°C in Eindhoven today.\n"
     ]
    }
   ],
   "source": [
    "print(\"It is 13°C in Eindhoven today.\")"
   ]
  },
  {
   "cell_type": "code",
   "execution_count": null,
   "metadata": {},
   "outputs": [
    {
     "name": "stdout",
     "output_type": "stream",
     "text": [
      "It is 13°C in Eindhoven today.\n"
     ]
    }
   ],
   "source": [
    "print(\"It is 13°C in Eindhoven today.\")"
   ]
  },
  {
   "cell_type": "markdown",
   "metadata": {},
   "source": [
    "### String Concatenation\n",
    "The + operator doesn’t just add two numbers, it can also “add” two strings! The process of combining two strings is called string concatenation. Performing string concatenation creates a brand new string comprised of the first string’s contents followed by the second string’s contents (without any added space in-between)."
   ]
  },
  {
   "cell_type": "code",
   "execution_count": null,
   "metadata": {},
   "outputs": [
    {
     "name": "stdout",
     "output_type": "stream",
     "text": [
      "It is 13°C in Eindhoven today.How are you feeling today?\n"
     ]
    }
   ],
   "source": [
    "weather_text = \"It is 13°C in Eindhoven today.\"\n",
    "greeting_text = \"How are you feeling today?\"\n",
    "full_text = weather_text + greeting_text\n",
    "\n",
    "print(full_text)"
   ]
  },
  {
   "cell_type": "code",
   "execution_count": null,
   "metadata": {},
   "outputs": [
    {
     "name": "stdout",
     "output_type": "stream",
     "text": [
      "It is 13°C in Eindhoven today. How are you feeling today?\n"
     ]
    }
   ],
   "source": [
    "full_text = weather_text + \" \" + greeting_text\n",
    "\n",
    "print(full_text)"
   ]
  },
  {
   "cell_type": "markdown",
   "metadata": {},
   "source": [
    "If you want to concatenate a string with a number you will need to make the number a string first, using the str() function. If you’re trying to print() a numeric variable you can use commas to pass it as a different argument rather than converting it to a string."
   ]
  },
  {
   "cell_type": "code",
   "execution_count": null,
   "metadata": {},
   "outputs": [
    {
     "name": "stdout",
     "output_type": "stream",
     "text": [
      "It is 13°C in Eindhoven today. How are you feeling?\n"
     ]
    }
   ],
   "source": [
    "greeting_string_1 = \"It is \"\n",
    "temp = 13\n",
    "greeting_string_2 = \"°C in Eindhoven today.\"\n",
    "greeting_string_3 = \" How are you feeling?\"\n",
    " \n",
    "# Concatenating an integer with strings is possible if we turn the integer into a string first\n",
    "full_greeting_string = greeting_string_1 + str(temp) + greeting_string_2 + greeting_string_3\n",
    " \n",
    "\n",
    "print(full_greeting_string)"
   ]
  },
  {
   "cell_type": "markdown",
   "metadata": {},
   "source": [
    "Using str() we can convert variables that are not strings to strings and then concatenate them. But we don’t need to convert a number to a string for it to be an argument to a print statement."
   ]
  },
  {
   "cell_type": "code",
   "execution_count": null,
   "metadata": {},
   "outputs": [
    {
     "name": "stdout",
     "output_type": "stream",
     "text": [
      "It is  13 °C in Eindhoven today.  How are you feeling?\n"
     ]
    }
   ],
   "source": [
    "# If we just want to print an integer \n",
    "# we can pass a variable as an argument to \n",
    "# print() regardless of whether \n",
    "# it is a string.\n",
    " \n",
    "# This also prints \"I am 10 years old today!\"\n",
    "print(greeting_string_1, temp, greeting_string_2, greeting_string_3)"
   ]
  },
  {
   "cell_type": "markdown",
   "metadata": {},
   "source": [
    "Now we want to see the temperature in Fahrenheit as well"
   ]
  },
  {
   "cell_type": "code",
   "execution_count": null,
   "metadata": {},
   "outputs": [
    {
     "name": "stdout",
     "output_type": "stream",
     "text": [
      "55.4\n"
     ]
    }
   ],
   "source": [
    "print(13* 9/5 + 32)"
   ]
  },
  {
   "cell_type": "code",
   "execution_count": null,
   "metadata": {},
   "outputs": [
    {
     "ename": "TypeError",
     "evalue": "can only concatenate str (not \"float\") to str",
     "output_type": "error",
     "traceback": [
      "\u001b[1;31m---------------------------------------------------------------------------\u001b[0m\n",
      "\u001b[1;31mTypeError\u001b[0m                                 Traceback (most recent call last)\n",
      "Cell \u001b[1;32mIn[28], line 1\u001b[0m\n",
      "\u001b[1;32m----> 1\u001b[0m \u001b[39mprint\u001b[39m(\u001b[39m\"\u001b[39;49m\u001b[39mIt is 13°C \u001b[39;49m\u001b[39m\"\u001b[39;49m \u001b[39m+\u001b[39;49m (\u001b[39m13\u001b[39;49m\u001b[39m*\u001b[39;49m \u001b[39m9\u001b[39;49m\u001b[39m/\u001b[39;49m\u001b[39m5\u001b[39;49m \u001b[39m+\u001b[39;49m \u001b[39m32\u001b[39;49m) \u001b[39m+\u001b[39m \u001b[39m\"\u001b[39m\u001b[39m °F in Eindhoven today.\u001b[39m\u001b[39m\"\u001b[39m)\n",
      "\n",
      "\u001b[1;31mTypeError\u001b[0m: can only concatenate str (not \"float\") to str"
     ]
    }
   ],
   "source": [
    "print(\"It is 13°C \" + (13* 9/5 + 32) + \" °F in Eindhoven today.\")"
   ]
  },
  {
   "cell_type": "code",
   "execution_count": null,
   "metadata": {},
   "outputs": [
    {
     "name": "stdout",
     "output_type": "stream",
     "text": [
      "It is 13°C 55.4 °F in Eindhoven today.\n"
     ]
    }
   ],
   "source": [
    "print(\"It is 13°C \" + str(13* 9/5 + 32) + \" °F in Eindhoven today.\")"
   ]
  },
  {
   "cell_type": "markdown",
   "metadata": {},
   "source": [
    "## F-strings\n",
    "The idea behind f-strings is to make string interpolation simpler. \n",
    "To create an f-string, prefix the string with the letter “ f ”. The string itself can be formatted in much the same way that you would with str.format(). F-strings provide a concise and convenient way to embed python expressions inside string literals for formatting."
   ]
  },
  {
   "cell_type": "code",
   "execution_count": null,
   "metadata": {},
   "outputs": [
    {
     "name": "stdout",
     "output_type": "stream",
     "text": [
      "It is 13°C (55.4°F) in Eindhoven today.\n"
     ]
    }
   ],
   "source": [
    "print(f\"It is 13°C ({13* 9/5 + 32}°F) in Eindhoven today.\")"
   ]
  },
  {
   "cell_type": "code",
   "execution_count": 1,
   "metadata": {},
   "outputs": [
    {
     "name": "stdout",
     "output_type": "stream",
     "text": [
      "It is 13°C (55.4°F) in Eindhoven today.\n",
      "It is 14°C (57.2°F) in Eindhoven today.\n",
      "It is 15°C (59.0°F) in Eindhoven today.\n",
      "It is 16°C (60.8°F) in Eindhoven today.\n"
     ]
    }
   ],
   "source": [
    "print(f\"It is 13°C ({13* 9/5 + 32}°F) in Eindhoven today.\")\n",
    "print(f\"It is 14°C ({14* 9/5 + 32}°F) in Eindhoven today.\")\n",
    "print(f\"It is 15°C ({15* 9/5 + 32}°F) in Eindhoven today.\")\n",
    "print(f\"It is 16°C ({16* 9/5 + 32}°F) in Eindhoven today.\")"
   ]
  }
 ],
 "metadata": {
  "kernelspec": {
   "display_name": "Python 3.10.7 ('venv': venv)",
   "language": "python",
   "name": "python3"
  },
  "language_info": {
   "codemirror_mode": {
    "name": "ipython",
    "version": 3
   },
   "file_extension": ".py",
   "mimetype": "text/x-python",
   "name": "python",
   "nbconvert_exporter": "python",
   "pygments_lexer": "ipython3",
   "version": "3.10.7"
  },
  "orig_nbformat": 4,
  "vscode": {
   "interpreter": {
    "hash": "328d38edb4a47e72717e062bae5904cf5f8811ba316934a40a547226342d9fc7"
   }
  }
 },
 "nbformat": 4,
 "nbformat_minor": 2
}
