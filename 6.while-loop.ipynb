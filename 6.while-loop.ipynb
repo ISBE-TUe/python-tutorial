{
 "cells": [
  {
   "cell_type": "markdown",
   "metadata": {},
   "source": [
    "# Loops (for, while) to execute logic multiple times\n",
    "Our program only run once. Let's try to run it continuously. A While loop permits code to execute repeatedly until a certain condition is met. This is useful if the number of iterations required to complete a task is unknown prior to flow entering the loop."
   ]
  },
  {
   "cell_type": "code",
   "execution_count": null,
   "metadata": {},
   "outputs": [],
   "source": [
    "# while True:\n",
    "#     user_input = input('Give the temperature in degrees celsius and I will convert it to Fahrenheit!')\n",
    "#     validate_input_and_convert()"
   ]
  },
  {
   "cell_type": "code",
   "execution_count": 1,
   "metadata": {},
   "outputs": [],
   "source": [
    "def celsius_to_fahrenheit(deg_c):\n",
    "    deg_f = deg_c * 9/5 + 32\n",
    "    return f\"It is {deg_c}°C ({deg_f}°F) in Eindhoven today.\""
   ]
  },
  {
   "cell_type": "code",
   "execution_count": 2,
   "metadata": {},
   "outputs": [],
   "source": [
    "user_input = input('Give the temperature in degrees celsius and I will convert it to Fahrenheit!')\n",
    "\n",
    "def validate_input_and_convert():\n",
    "    if user_input.isdigit():\n",
    "        user_input_as_num = int(user_input)\n",
    "        deg_f = celsius_to_fahrenheit(user_input_as_num)\n",
    "        print(deg_f)\n",
    "    else:\n",
    "     print('Cannot convert a non numeric value, sorry!')"
   ]
  },
  {
   "cell_type": "code",
   "execution_count": 3,
   "metadata": {},
   "outputs": [
    {
     "name": "stdout",
     "output_type": "stream",
     "text": [
      "It is 12°C (53.6°F) in Eindhoven today.\n",
      "Cannot convert a non numeric value, sorry!\n",
      "It is 4°C (39.2°F) in Eindhoven today.\n",
      "Cannot convert a non numeric value, sorry!\n",
      "Cannot convert a non numeric value, sorry!\n"
     ]
    }
   ],
   "source": [
    "user_input = input('Give the temperature in degrees celsius and I will convert it to Fahrenheit!')\n",
    "\n",
    "while user_input != \"exit\": # Note the colon and indentation.\n",
    "    user_input = input('Give the temperature in degrees celsius and I will convert it to Fahrenheit!')\n",
    "    validate_input_and_convert()"
   ]
  }
 ],
 "metadata": {
  "kernelspec": {
   "display_name": "Python 3.10.7 ('venv': venv)",
   "language": "python",
   "name": "python3"
  },
  "language_info": {
   "codemirror_mode": {
    "name": "ipython",
    "version": 3
   },
   "file_extension": ".py",
   "mimetype": "text/x-python",
   "name": "python",
   "nbconvert_exporter": "python",
   "pygments_lexer": "ipython3",
   "version": "3.10.7"
  },
  "orig_nbformat": 4,
  "vscode": {
   "interpreter": {
    "hash": "328d38edb4a47e72717e062bae5904cf5f8811ba316934a40a547226342d9fc7"
   }
  }
 },
 "nbformat": 4,
 "nbformat_minor": 2
}
