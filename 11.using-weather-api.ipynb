{
 "cells": [
  {
   "cell_type": "markdown",
   "metadata": {},
   "source": [
    "# Getting data from a weather API"
   ]
  },
  {
   "cell_type": "markdown",
   "metadata": {},
   "source": [
    "There’s an amazing amount of data available on the Web. Many web services, like YouTube and GitHub, make their data accessible to third-party applications through an application programming interface (API). One of the most popular ways to build APIs is the REST architecture style. Python provides some great tools not only to get data from REST APIs but also to build your own Python REST APIs.\n",
    "\n",
    "https://realpython.com/api-integration-in-python/"
   ]
  },
  {
   "cell_type": "code",
   "execution_count": 1,
   "metadata": {},
   "outputs": [
    {
     "name": "stdout",
     "output_type": "stream",
     "text": [
      "Requirement already satisfied: requests in c:\\users\\lasit\\documents\\softwarephd\\pythonworkshop\\venv\\lib\\site-packages (2.28.1)\n",
      "Requirement already satisfied: charset-normalizer<3,>=2 in c:\\users\\lasit\\documents\\softwarephd\\pythonworkshop\\venv\\lib\\site-packages (from requests) (2.1.1)\n",
      "Requirement already satisfied: certifi>=2017.4.17 in c:\\users\\lasit\\documents\\softwarephd\\pythonworkshop\\venv\\lib\\site-packages (from requests) (2022.9.24)\n",
      "Requirement already satisfied: idna<4,>=2.5 in c:\\users\\lasit\\documents\\softwarephd\\pythonworkshop\\venv\\lib\\site-packages (from requests) (3.4)\n",
      "Requirement already satisfied: urllib3<1.27,>=1.21.1 in c:\\users\\lasit\\documents\\softwarephd\\pythonworkshop\\venv\\lib\\site-packages (from requests) (1.26.13)\n"
     ]
    },
    {
     "name": "stderr",
     "output_type": "stream",
     "text": [
      "\n",
      "[notice] A new release of pip available: 22.2.2 -> 22.3.1\n",
      "[notice] To update, run: python.exe -m pip install --upgrade pip\n"
     ]
    }
   ],
   "source": [
    "# cmd\n",
    "!pip install requests"
   ]
  },
  {
   "cell_type": "code",
   "execution_count": 2,
   "metadata": {},
   "outputs": [
    {
     "name": "stdout",
     "output_type": "stream",
     "text": [
      "Requirement already satisfied: python-dotenv in c:\\users\\lasit\\documents\\softwarephd\\pythonworkshop\\venv\\lib\\site-packages (0.21.0)\n"
     ]
    },
    {
     "name": "stderr",
     "output_type": "stream",
     "text": [
      "\n",
      "[notice] A new release of pip available: 22.2.2 -> 22.3.1\n",
      "[notice] To update, run: python.exe -m pip install --upgrade pip\n"
     ]
    }
   ],
   "source": [
    "!pip install python-dotenv"
   ]
  },
  {
   "cell_type": "markdown",
   "metadata": {},
   "source": [
    "https://openweathermap.org/current#name"
   ]
  },
  {
   "cell_type": "code",
   "execution_count": 3,
   "metadata": {},
   "outputs": [
    {
     "name": "stdout",
     "output_type": "stream",
     "text": [
      "{\n",
      "  \"coord\": {\n",
      "    \"lon\": 5.4667,\n",
      "    \"lat\": 51.4333\n",
      "  },\n",
      "  \"weather\": [\n",
      "    {\n",
      "      \"id\": 741,\n",
      "      \"main\": \"Fog\",\n",
      "      \"description\": \"fog\",\n",
      "      \"icon\": \"50n\"\n",
      "    }\n",
      "  ],\n",
      "  \"base\": \"stations\",\n",
      "  \"main\": {\n",
      "    \"temp\": 6.2,\n",
      "    \"feels_like\": 6.2,\n",
      "    \"temp_min\": 4.96,\n",
      "    \"temp_max\": 8.35,\n",
      "    \"pressure\": 1012,\n",
      "    \"humidity\": 84\n",
      "  },\n",
      "  \"visibility\": 550,\n",
      "  \"wind\": {\n",
      "    \"speed\": 1.03,\n",
      "    \"deg\": 150\n",
      "  },\n",
      "  \"clouds\": {\n",
      "    \"all\": 100\n",
      "  },\n",
      "  \"dt\": 1669674137,\n",
      "  \"sys\": {\n",
      "    \"type\": 1,\n",
      "    \"id\": 1527,\n",
      "    \"country\": \"NL\",\n",
      "    \"sunrise\": 1669619806,\n",
      "    \"sunset\": 1669649742\n",
      "  },\n",
      "  \"timezone\": 3600,\n",
      "  \"id\": 2756252,\n",
      "  \"name\": \"Gemeente Eindhoven\",\n",
      "  \"cod\": 200\n",
      "}\n"
     ]
    }
   ],
   "source": [
    "import requests\n",
    "import json\n",
    "import os\n",
    "from dotenv import load_dotenv\n",
    "\n",
    "load_dotenv()\n",
    " \n",
    "API_key= os.getenv('API_KEY')\n",
    "\n",
    "city_name = 'Eindhoven'\n",
    "api_url = f'https://api.openweathermap.org/data/2.5/weather?q={city_name}&appid={API_key}&units=metric'\n",
    "response = requests.get(api_url)\n",
    "res = response.json()\n",
    "res\n",
    "print(json.dumps(res, indent=2))"
   ]
  },
  {
   "cell_type": "markdown",
   "metadata": {},
   "source": [
    "This code calls requests.get() to send a GET request to /todos/1, which responds with the todo item with the ID 1. Then you can call .json() on the response object to view the data that came back from the API.\n",
    "\n",
    "The response data is formatted as JSON, a key-value store similar to a Python dictionary. It’s a very popular data format and the de facto interchange format for most REST APIs."
   ]
  },
  {
   "cell_type": "markdown",
   "metadata": {},
   "source": [
    "How to extract the temperature data?"
   ]
  },
  {
   "cell_type": "code",
   "execution_count": 4,
   "metadata": {},
   "outputs": [
    {
     "data": {
      "text/plain": [
       "6.2"
      ]
     },
     "execution_count": 4,
     "metadata": {},
     "output_type": "execute_result"
    }
   ],
   "source": [
    "res[\"main\"]['temp']"
   ]
  },
  {
   "cell_type": "code",
   "execution_count": 5,
   "metadata": {},
   "outputs": [
    {
     "data": {
      "text/plain": [
       "float"
      ]
     },
     "execution_count": 5,
     "metadata": {},
     "output_type": "execute_result"
    }
   ],
   "source": [
    "type(res[\"main\"]['temp'])"
   ]
  },
  {
   "cell_type": "code",
   "execution_count": 6,
   "metadata": {},
   "outputs": [
    {
     "name": "stdout",
     "output_type": "stream",
     "text": [
      "It is 1°C (33.8°F) in Toronto today.\n"
     ]
    }
   ],
   "source": [
    "import requests\n",
    "import json\n",
    " \n",
    "API_key= os.getenv('API_KEY')\n",
    "\n",
    "city_name = 'Toronto' # Give any city name that you like to see its weather!\n",
    "\n",
    "api_url = f'https://api.openweathermap.org/data/2.5/weather?q={city_name}&appid={API_key}&units=metric'\n",
    "response = requests.get(api_url)\n",
    "res = response.json()\n",
    "\n",
    "def celsius_to_fahrenheit(deg_c, city):\n",
    "    deg_f = deg_c * 9/5 + 32\n",
    "    return f\"It is {deg_c}°C ({deg_f}°F) in {city} today.\"\n",
    "\n",
    "def validate_input_and_convert():\n",
    "    # print(temp_and_city[0])\n",
    "    # if temp_and_city_dictionary['temp'].isfloat():\n",
    "        user_input_as_num = int(temp_and_city_dictionary['temp'])\n",
    "        deg_f = celsius_to_fahrenheit(user_input_as_num, temp_and_city_dictionary['city'])\n",
    "        print(deg_f)\n",
    "    # else:\n",
    "    #  print('Cannot convert a non numeric value, sorry!')\n",
    "\n",
    "# user_input = ''\n",
    "# while user_input != \"exit\":\n",
    "    # user_input = input('Give the temperature in degrees celsius and I will convert it to Fahrenheit!')\n",
    "    # temp_and_city = user_input.split(\",\")\n",
    "    # print(temp_and_city)\n",
    "    # if user_input != 'exit':\n",
    "temp_and_city_dictionary = {\"temp\": res[\"main\"]['temp'], \"city\": city_name}\n",
    "# print(temp_and_city_dictionary)\n",
    "validate_input_and_convert()"
   ]
  }
 ],
 "metadata": {
  "kernelspec": {
   "display_name": "Python 3.10.7 ('venv': venv)",
   "language": "python",
   "name": "python3"
  },
  "language_info": {
   "codemirror_mode": {
    "name": "ipython",
    "version": 3
   },
   "file_extension": ".py",
   "mimetype": "text/x-python",
   "name": "python",
   "nbconvert_exporter": "python",
   "pygments_lexer": "ipython3",
   "version": "3.10.7"
  },
  "orig_nbformat": 4,
  "vscode": {
   "interpreter": {
    "hash": "328d38edb4a47e72717e062bae5904cf5f8811ba316934a40a547226342d9fc7"
   }
  }
 },
 "nbformat": 4,
 "nbformat_minor": 2
}
