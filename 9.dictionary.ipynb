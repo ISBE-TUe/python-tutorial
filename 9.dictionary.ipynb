{
 "cells": [
  {
   "cell_type": "markdown",
   "metadata": {},
   "source": [
    "# Dictionary"
   ]
  },
  {
   "cell_type": "markdown",
   "metadata": {},
   "source": [
    "Dictionaries contain key-value pairs, which refer to pairs of a key and a value separated by a colon :.\n",
    "The values can hold and be a mix of different data types, including lists or even nested dictionaries. However, keys must be an immutable data type such as strings, numbers or tuples."
   ]
  },
  {
   "cell_type": "code",
   "execution_count": null,
   "metadata": {},
   "outputs": [],
   "source": [
    "groceries = {'fruits': ['mangoes', 'bananas', 'kiwis'],\n",
    "            'protein': ['beef', 'pork', 'salmon'],\n",
    "            'carbs': ['rice', 'pasta', 'bread'],\n",
    "            'veggies': ['lettuce', 'cabbage', 'onions']}"
   ]
  },
  {
   "cell_type": "markdown",
   "metadata": {},
   "source": [
    "In contrast to other data structures such as lists and tuples, there are no built-in ways to use indexing and slicing to access the values in a certain order in the dictionaries. A value within a dictionary can be accessed with its key."
   ]
  },
  {
   "cell_type": "code",
   "execution_count": null,
   "metadata": {},
   "outputs": [
    {
     "data": {
      "text/plain": [
       "['mangoes', 'bananas', 'kiwis']"
      ]
     },
     "metadata": {},
     "output_type": "display_data"
    }
   ],
   "source": [
    "groceries['fruits']"
   ]
  },
  {
   "cell_type": "code",
   "execution_count": null,
   "metadata": {},
   "outputs": [
    {
     "data": {
      "text/plain": [
       "['mangoes', 'bananas', 'kiwis']"
      ]
     },
     "metadata": {},
     "output_type": "display_data"
    }
   ],
   "source": [
    "groceries.get('fruits')"
   ]
  },
  {
   "cell_type": "markdown",
   "metadata": {},
   "source": [
    "Likewise, values can be updated in the dictionary using its key:"
   ]
  },
  {
   "cell_type": "code",
   "execution_count": null,
   "metadata": {},
   "outputs": [
    {
     "data": {
      "text/plain": [
       "['apple', 'grapes']"
      ]
     },
     "metadata": {},
     "output_type": "display_data"
    }
   ],
   "source": [
    "groceries['fruits'] = ['apple', 'grapes']\n",
    "groceries['fruits']"
   ]
  },
  {
   "cell_type": "markdown",
   "metadata": {},
   "source": [
    "Similarly, a new key-value pair can be added to a dictionary:"
   ]
  },
  {
   "cell_type": "code",
   "execution_count": null,
   "metadata": {},
   "outputs": [
    {
     "data": {
      "text/plain": [
       "{'fruits': ['apple', 'grapes'],\n",
       " 'protein': ['beef', 'pork', 'salmon'],\n",
       " 'carbs': ['rice', 'pasta', 'bread'],\n",
       " 'veggies': ['lettuce', 'cabbage', 'onions'],\n",
       " 'grains': ['beans', 'chickpeas']}"
      ]
     },
     "metadata": {},
     "output_type": "display_data"
    }
   ],
   "source": [
    "groceries['grains'] = ['beans', 'chickpeas']\n",
    "groceries"
   ]
  },
  {
   "cell_type": "code",
   "execution_count": null,
   "metadata": {},
   "outputs": [],
   "source": [
    "groceries['grains'] = ['beans', 'chickpea']"
   ]
  },
  {
   "cell_type": "markdown",
   "metadata": {},
   "source": [
    "# Coming back to our example with a dictionary"
   ]
  },
  {
   "cell_type": "markdown",
   "metadata": {},
   "source": [
    "Let's input temperature and city both. And store them in a Python dictionary."
   ]
  },
  {
   "cell_type": "code",
   "execution_count": null,
   "metadata": {},
   "outputs": [
    {
     "name": "stdout",
     "output_type": "stream",
     "text": [
      "['12', ' Amsterdam']\n",
      "{'temp': '12', 'city': ' Amsterdam'}\n",
      "['']\n"
     ]
    },
    {
     "ename": "IndexError",
     "evalue": "list index out of range",
     "output_type": "error",
     "traceback": [
      "\u001b[1;31m---------------------------------------------------------------------------\u001b[0m\n",
      "\u001b[1;31mIndexError\u001b[0m                                Traceback (most recent call last)\n",
      "Cell \u001b[1;32mIn[135], line 7\u001b[0m\n",
      "\u001b[0;32m      5\u001b[0m \u001b[39mprint\u001b[39m(temp_and_city)\n",
      "\u001b[0;32m      6\u001b[0m \u001b[39mif\u001b[39;00m user_input \u001b[39m!=\u001b[39m \u001b[39m'\u001b[39m\u001b[39mexit\u001b[39m\u001b[39m'\u001b[39m:\n",
      "\u001b[1;32m----> 7\u001b[0m     temp_and_city_dictionary \u001b[39m=\u001b[39m {\u001b[39m\"\u001b[39m\u001b[39mtemp\u001b[39m\u001b[39m\"\u001b[39m: temp_and_city[\u001b[39m0\u001b[39m], \u001b[39m\"\u001b[39m\u001b[39mcity\u001b[39m\u001b[39m\"\u001b[39m: temp_and_city[\u001b[39m1\u001b[39;49m]}\n",
      "\u001b[0;32m      8\u001b[0m \u001b[39mprint\u001b[39m(temp_and_city_dictionary)\n",
      "\n",
      "\u001b[1;31mIndexError\u001b[0m: list index out of range"
     ]
    }
   ],
   "source": [
    "user_input = ''\n",
    "while user_input != \"exit\":\n",
    "    user_input = input('Give the temperature in degrees celsius and I will convert it to Fahrenheit!')\n",
    "    temp_and_city = user_input.split(\",\")\n",
    "    print(temp_and_city)\n",
    "    if user_input != 'exit':\n",
    "        temp_and_city_dictionary = {\"temp\": temp_and_city[0], \"city\": temp_and_city[1]}\n",
    "    print(temp_and_city_dictionary)"
   ]
  },
  {
   "cell_type": "code",
   "execution_count": null,
   "metadata": {},
   "outputs": [
    {
     "data": {
      "text/plain": [
       "{'temp': '12', 'city': ' Amsterdam'}"
      ]
     },
     "metadata": {},
     "output_type": "display_data"
    }
   ],
   "source": [
    "temp_and_city_dictionary"
   ]
  },
  {
   "cell_type": "code",
   "execution_count": null,
   "metadata": {},
   "outputs": [],
   "source": [
    "def celsius_to_fahrenheit(deg_c):\n",
    "    deg_f = deg_c * 9/5 + 32\n",
    "    return f\"It is {deg_c}°C ({deg_f}°F) in {temp_and_city_dictionary['city']} today.\""
   ]
  },
  {
   "cell_type": "code",
   "execution_count": null,
   "metadata": {},
   "outputs": [],
   "source": [
    "def validate_input_and_convert():\n",
    "    print(temp_and_city[0])\n",
    "    if temp_and_city_dictionary['temp'].isdigit():\n",
    "        user_input_as_num = int(temp_and_city_dictionary['temp'])\n",
    "        deg_f = celsius_to_fahrenheit(user_input_as_num)\n",
    "        print(deg_f)\n",
    "    else:\n",
    "     print('Cannot convert a non numeric value, sorry!')"
   ]
  },
  {
   "cell_type": "code",
   "execution_count": null,
   "metadata": {},
   "outputs": [
    {
     "name": "stdout",
     "output_type": "stream",
     "text": [
      "\n",
      "It is 12°C (53.6°F) in  Amsterdam today.\n"
     ]
    }
   ],
   "source": [
    "validate_input_and_convert()"
   ]
  },
  {
   "cell_type": "code",
   "execution_count": null,
   "metadata": {},
   "outputs": [
    {
     "name": "stdout",
     "output_type": "stream",
     "text": [
      "['24', ' colombo']\n",
      "{'temp': '24', 'city': ' colombo'}\n",
      "It is 24°C (75.2°F) in  colombo today.\n",
      "['2', ' eindhoven']\n",
      "{'temp': '2', 'city': ' eindhoven'}\n",
      "It is 2°C (35.6°F) in  eindhoven today.\n",
      "['exit']\n",
      "{'temp': '2', 'city': ' eindhoven'}\n",
      "It is 2°C (35.6°F) in  eindhoven today.\n"
     ]
    }
   ],
   "source": [
    "def celsius_to_fahrenheit(deg_c, city):\n",
    "    deg_f = deg_c * 9/5 + 32\n",
    "    return f\"It is {deg_c}°C ({deg_f}°F) in {city} today.\"\n",
    "\n",
    "def validate_input_and_convert():\n",
    "    # print(temp_and_city[0])\n",
    "    if temp_and_city_dictionary['temp'].isdigit():\n",
    "        user_input_as_num = int(temp_and_city_dictionary['temp'])\n",
    "        deg_f = celsius_to_fahrenheit(user_input_as_num, temp_and_city_dictionary['city'])\n",
    "        print(deg_f)\n",
    "    else:\n",
    "     print('Cannot convert a non numeric value, sorry!')\n",
    "\n",
    "user_input = ''\n",
    "while user_input != \"exit\":\n",
    "    user_input = input('Give the temperature in degrees celsius and I will convert it to Fahrenheit!')\n",
    "    temp_and_city = user_input.split(\",\")\n",
    "    print(temp_and_city)\n",
    "    if user_input != 'exit':\n",
    "        temp_and_city_dictionary = {\"temp\": temp_and_city[0], \"city\": temp_and_city[1]}\n",
    "    print(temp_and_city_dictionary)\n",
    "    validate_input_and_convert()"
   ]
  }
 ],
 "metadata": {
  "kernelspec": {
   "display_name": "Python 3.10.7 ('venv': venv)",
   "language": "python",
   "name": "python3"
  },
  "language_info": {
   "name": "python",
   "version": "3.10.7"
  },
  "orig_nbformat": 4,
  "vscode": {
   "interpreter": {
    "hash": "328d38edb4a47e72717e062bae5904cf5f8811ba316934a40a547226342d9fc7"
   }
  }
 },
 "nbformat": 4,
 "nbformat_minor": 2
}
