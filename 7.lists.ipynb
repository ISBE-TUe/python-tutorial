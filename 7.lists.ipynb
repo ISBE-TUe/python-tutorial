{
 "cells": [
  {
   "cell_type": "markdown",
   "metadata": {},
   "source": [
    "# Lists and List Operations\n",
    "Lists are created using square brackets. A Python data type that holds an ordered collection of values, which can be of any type. Lists are Python’s ordered mutable data type. \n",
    "\n",
    "https://www.w3schools.com/python/python_lists.asp"
   ]
  },
  {
   "cell_type": "code",
   "execution_count": null,
   "metadata": {},
   "outputs": [],
   "source": [
    "list1 = [\"apple\", \"banana\", \"cherry\"]\n",
    "list2 = [1, 5, 7, 9, 3]\n",
    "list3 = [True, False, False]\n",
    "my_list = [\"item 1\", 2, \"item 3\", False, 5.8] # List can also store different data types, but it may make little sense"
   ]
  },
  {
   "cell_type": "code",
   "execution_count": null,
   "metadata": {},
   "outputs": [
    {
     "data": {
      "text/plain": [
       "'banana'"
      ]
     },
     "metadata": {},
     "output_type": "display_data"
    }
   ],
   "source": [
    "# List items are indexed, the first item has index [0], the second item has index [1] etc.\n",
    "list1[1]"
   ]
  },
  {
   "cell_type": "code",
   "execution_count": null,
   "metadata": {},
   "outputs": [
    {
     "data": {
      "text/plain": [
       "['apple', 'banana', 'cherry', 'pineapple']"
      ]
     },
     "metadata": {},
     "output_type": "display_data"
    }
   ],
   "source": [
    "list1.append('pineapple')\n",
    "list1"
   ]
  },
  {
   "cell_type": "code",
   "execution_count": null,
   "metadata": {},
   "outputs": [
    {
     "data": {
      "text/plain": [
       "['apple', 'banana', 'cherry', 'pineapple', 'pineapple']"
      ]
     },
     "metadata": {},
     "output_type": "display_data"
    }
   ],
   "source": [
    "list1.append(\"pineapple\")\n",
    "list1\n",
    "# list can contain duplicate values"
   ]
  },
  {
   "cell_type": "code",
   "execution_count": null,
   "metadata": {},
   "outputs": [
    {
     "data": {
      "text/plain": [
       "['apple', 'banana', 'cherry', 'pineapple']"
      ]
     },
     "metadata": {},
     "output_type": "display_data"
    }
   ],
   "source": [
    "list1.remove('pineapple')\n",
    "list1\n",
    "# it removes the first occurance"
   ]
  },
  {
   "cell_type": "markdown",
   "metadata": {},
   "source": [
    "How to remove all occurances of 'pineapple' from the list?\n",
    "Try googling the method to do it!\n"
   ]
  },
  {
   "cell_type": "code",
   "execution_count": null,
   "metadata": {},
   "outputs": [
    {
     "data": {
      "text/plain": [
       "['apple', 'banana', 'cherry']"
      ]
     },
     "metadata": {},
     "output_type": "display_data"
    }
   ],
   "source": [
    "# code here\n",
    "list(filter(lambda a: a != 'pineapple', list1))"
   ]
  },
  {
   "cell_type": "markdown",
   "metadata": {},
   "source": [
    "## List Comprehensions\n",
    "\n",
    "Convenient ways to generate or extract information from lists.\n",
    "\n",
    "Syntax --> [variable for variable in iterable condition]"
   ]
  },
  {
   "cell_type": "code",
   "execution_count": null,
   "metadata": {},
   "outputs": [
    {
     "data": {
      "text/plain": [
       "[2, 4, 6]"
      ]
     },
     "metadata": {},
     "output_type": "display_data"
    }
   ],
   "source": [
    "x_list = [1,2,3,4,5,6,7]\n",
    "\n",
    "even_list = [num for num in x_list if (num % 2 == 0)]\n",
    "\n",
    "even_list"
   ]
  },
  {
   "cell_type": "code",
   "execution_count": null,
   "metadata": {},
   "outputs": [],
   "source": [
    "# odd list = "
   ]
  },
  {
   "cell_type": "code",
   "execution_count": null,
   "metadata": {},
   "outputs": [
    {
     "data": {
      "text/plain": [
       "[0, 1, 2, 3, 4, 5, 6, 7, 8, 9]"
      ]
     },
     "metadata": {},
     "output_type": "display_data"
    }
   ],
   "source": [
    "newlist = [x for x in range(10)]\n",
    "newlist"
   ]
  },
  {
   "cell_type": "code",
   "execution_count": null,
   "metadata": {},
   "outputs": [
    {
     "data": {
      "text/plain": [
       "[0, 1, 2, 3, 4]"
      ]
     },
     "metadata": {},
     "output_type": "display_data"
    }
   ],
   "source": [
    "newlist = [x for x in range(10) if x < 5]\n",
    "newlist"
   ]
  },
  {
   "cell_type": "code",
   "execution_count": null,
   "metadata": {},
   "outputs": [
    {
     "data": {
      "text/plain": [
       "['APPLE', 'BANANA', 'CHERRY', 'PINEAPPLE']"
      ]
     },
     "metadata": {},
     "output_type": "display_data"
    }
   ],
   "source": [
    "newlist = [x.upper() for x in list1]\n",
    "newlist"
   ]
  },
  {
   "cell_type": "markdown",
   "metadata": {},
   "source": [
    "## Let's take a list of inputs for our example"
   ]
  },
  {
   "cell_type": "code",
   "execution_count": 1,
   "metadata": {},
   "outputs": [
    {
     "name": "stdout",
     "output_type": "stream",
     "text": [
      "12 13 14\n",
      "['12', '13', '14']\n"
     ]
    }
   ],
   "source": [
    "user_input = input('Give the temperature in degrees celsius and I will convert it to Fahrenheit!')\n",
    "print(user_input)\n",
    "print(user_input.split()) # Gives an array"
   ]
  },
  {
   "cell_type": "code",
   "execution_count": 2,
   "metadata": {},
   "outputs": [],
   "source": [
    "def celsius_to_fahrenheit(deg_c):\n",
    "    deg_f = deg_c * 9/5 + 32\n",
    "    return f\"It is {deg_c}°C ({deg_f}°F) in Eindhoven today.\""
   ]
  },
  {
   "cell_type": "code",
   "execution_count": 3,
   "metadata": {},
   "outputs": [],
   "source": [
    "def validate_input_and_convert():\n",
    "    if user_input.isdigit():\n",
    "        user_input_as_num = int(user_input)\n",
    "        deg_f = celsius_to_fahrenheit(user_input_as_num)\n",
    "        print(deg_f)\n",
    "    else:\n",
    "     print('Cannot convert a non numeric value, sorry!')"
   ]
  },
  {
   "cell_type": "code",
   "execution_count": null,
   "metadata": {},
   "outputs": [
    {
     "name": "stdout",
     "output_type": "stream",
     "text": [
      "It is 1°C (33.8°F) in Eindhoven today.\n",
      "It is 2°C (35.6°F) in Eindhoven today.\n",
      "It is 3°C (37.4°F) in Eindhoven today.\n",
      "It is 4°C (39.2°F) in Eindhoven today.\n",
      "Cannot convert a non numeric value, sorry!\n"
     ]
    }
   ],
   "source": [
    "user_input = ''\n",
    "while user_input != \"exit\":\n",
    "    user_input = input('Give the temperature in degrees celsius and I will convert it to Fahrenheit!')\n",
    "    for temperature in user_input.split(): # split() converts a string in to an array\n",
    "        validate_input_and_convert()"
   ]
  },
  {
   "cell_type": "markdown",
   "metadata": {},
   "source": [
    "Let's give inputs by seperated by a , instead of space"
   ]
  },
  {
   "cell_type": "code",
   "execution_count": null,
   "metadata": {},
   "outputs": [
    {
     "name": "stdout",
     "output_type": "stream",
     "text": [
      "It is 1°C (33.8°F) in Eindhoven today.\n",
      "It is 2°C (35.6°F) in Eindhoven today.\n",
      "It is 3°C (37.4°F) in Eindhoven today.\n",
      "It is 4°C (39.2°F) in Eindhoven today.\n",
      "Cannot convert a non numeric value, sorry!\n",
      "Cannot convert a non numeric value, sorry!\n"
     ]
    }
   ],
   "source": [
    "user_input = ''\n",
    "while user_input != \"exit\":\n",
    "    user_input = input('Give the temperature in degrees celsius and I will convert it to Fahrenheit!')\n",
    "    for temperature in user_input.split(','): # split() converts a string in to an array, seperation by a comma (,)\n",
    "        validate_input_and_convert()"
   ]
  }
 ],
 "metadata": {
  "kernelspec": {
   "display_name": "Python 3.10.7 ('venv': venv)",
   "language": "python",
   "name": "python3"
  },
  "language_info": {
   "codemirror_mode": {
    "name": "ipython",
    "version": 3
   },
   "file_extension": ".py",
   "mimetype": "text/x-python",
   "name": "python",
   "nbconvert_exporter": "python",
   "pygments_lexer": "ipython3",
   "version": "3.10.7"
  },
  "orig_nbformat": 4,
  "vscode": {
   "interpreter": {
    "hash": "328d38edb4a47e72717e062bae5904cf5f8811ba316934a40a547226342d9fc7"
   }
  }
 },
 "nbformat": 4,
 "nbformat_minor": 2
}
