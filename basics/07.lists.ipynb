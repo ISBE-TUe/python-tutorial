{
 "cells": [
  {
   "cell_type": "markdown",
   "metadata": {
    "slideshow": {
     "slide_type": "slide"
    }
   },
   "source": [
    "# 7. Lists and List Operations"
   ]
  },
  {
   "cell_type": "markdown",
   "metadata": {},
   "source": [
    "## 7.1 The List data type\n",
    "Lists are simply yet another data type that can be used. In addition, corresponding operators are available for lists as well.\n",
    "\n",
    "Lists are created using square brackets `[]`. It is a simple Python data type that holds **an ordered collection of items**, which can be of any type. Lists are Python's ordered mutable data type. A list can thus also include variables of different data types, e.g. integers and strings in one list."
   ]
  },
  {
   "cell_type": "code",
   "execution_count": 1,
   "metadata": {
    "slideshow": {
     "slide_type": "subslide"
    }
   },
   "outputs": [],
   "source": [
    "list1 = [\"apple\", \"banana\", \"cherry\"]\n",
    "list2 = [1, 5, 7, 9, 3]\n",
    "list3 = [True, False, False]\n",
    "my_list = [\"item 1\", 2, \"item 3\", False, 5.8] # List can also store different data types, but it may make little sense"
   ]
  },
  {
   "cell_type": "markdown",
   "metadata": {},
   "source": [
    "A `List` is one of the several available collection data types. These are all collection data types:\n",
    "- `List` is a collection which is ordered and changeable. Allows duplicate members.\n",
    "- `Tuple` is a collection which is ordered and unchangeable. Allows duplicate members.\n",
    "- `Set` is a collection which is unordered, unchangeable, and unindexed. No duplicate members.\n",
    "- `Dictionary` is a collection which is ordered and changeable. No duplicate members."
   ]
  },
  {
   "cell_type": "markdown",
   "metadata": {
    "slideshow": {
     "slide_type": "fragment"
    }
   },
   "source": [
    "List items are indexed, the first item has index `[0]`, the second item has index `[1]` etc."
   ]
  },
  {
   "cell_type": "code",
   "execution_count": 5,
   "metadata": {},
   "outputs": [
    {
     "name": "stdout",
     "output_type": "stream",
     "text": [
      "banana\n",
      "9\n",
      "True\n",
      "5.8\n"
     ]
    }
   ],
   "source": [
    "#retrieve item 1 from list1\n",
    "print(list1[1])\n",
    "\n",
    "#retrieve item 3 from list2\n",
    "print(list2[3])\n",
    "\n",
    "#retrieve item 0 from list3\n",
    "print(list3[0])\n",
    "\n",
    "#retrieve item 4 from list2\n",
    "print(my_list[4])"
   ]
  },
  {
   "cell_type": "markdown",
   "metadata": {},
   "source": [
    "## 7.2 Built-in functions for Lists"
   ]
  },
  {
   "cell_type": "markdown",
   "metadata": {},
   "source": [
    "It is possible to add items to a `list` using the `append()` function."
   ]
  },
  {
   "cell_type": "code",
   "execution_count": 7,
   "metadata": {
    "slideshow": {
     "slide_type": "fragment"
    }
   },
   "outputs": [
    {
     "data": {
      "text/plain": [
       "['apple', 'banana', 'cherry', 'pineapple', 'pineapple']"
      ]
     },
     "execution_count": 7,
     "metadata": {},
     "output_type": "execute_result"
    }
   ],
   "source": [
    "# Python List append() Method\n",
    "list1.append('pineapple')\n",
    "list1"
   ]
  },
  {
   "cell_type": "markdown",
   "metadata": {},
   "source": [
    "It is also perfectly okay for a list to contain duplicate values"
   ]
  },
  {
   "cell_type": "code",
   "execution_count": 5,
   "metadata": {
    "slideshow": {
     "slide_type": "fragment"
    }
   },
   "outputs": [
    {
     "data": {
      "text/plain": [
       "['apple', 'banana', 'cherry', 'pineapple', 'pineapple']"
      ]
     },
     "execution_count": 5,
     "metadata": {},
     "output_type": "execute_result"
    }
   ],
   "source": [
    "list1.append(\"pineapple\")\n",
    "list1"
   ]
  },
  {
   "cell_type": "markdown",
   "metadata": {},
   "source": [
    "When removing items from a list, only the first occurrence of an item will be removed."
   ]
  },
  {
   "cell_type": "code",
   "execution_count": 8,
   "metadata": {
    "slideshow": {
     "slide_type": "fragment"
    }
   },
   "outputs": [
    {
     "data": {
      "text/plain": [
       "['apple', 'banana', 'cherry', 'pineapple']"
      ]
     },
     "execution_count": 8,
     "metadata": {},
     "output_type": "execute_result"
    }
   ],
   "source": [
    "list1.remove('pineapple')\n",
    "list1\n",
    "# it removes the first occurrence"
   ]
  },
  {
   "cell_type": "markdown",
   "metadata": {
    "slideshow": {
     "slide_type": "slide"
    }
   },
   "source": [
    "Lists are very useful in combination with loops (for-loops and while-loops). A list often contains a lot of information, and using loops, you can iterate over each item in a list and perform certain operations and functions on it. Let's iterate over a list and apply some logic for each element, in this case printing the value."
   ]
  },
  {
   "cell_type": "code",
   "execution_count": 9,
   "metadata": {
    "slideshow": {
     "slide_type": "fragment"
    }
   },
   "outputs": [
    {
     "name": "stdout",
     "output_type": "stream",
     "text": [
      "apple\n",
      "banana\n",
      "cherry\n",
      "pineapple\n"
     ]
    }
   ],
   "source": [
    "for item in list1:\n",
    "    print(item)"
   ]
  },
  {
   "cell_type": "markdown",
   "metadata": {
    "slideshow": {
     "slide_type": "skip"
    }
   },
   "source": [
    "How to remove all occurrences of 'pineapple' from the list?\n",
    "Try googling the method to do it!\n"
   ]
  },
  {
   "cell_type": "code",
   "execution_count": 10,
   "metadata": {
    "slideshow": {
     "slide_type": "skip"
    }
   },
   "outputs": [
    {
     "data": {
      "text/plain": [
       "['apple', 'banana', 'cherry']"
      ]
     },
     "execution_count": 10,
     "metadata": {},
     "output_type": "execute_result"
    }
   ],
   "source": [
    "# code here\n",
    "list(filter(lambda a: a != 'pineapple', list1))"
   ]
  },
  {
   "cell_type": "markdown",
   "metadata": {
    "slideshow": {
     "slide_type": "skip"
    }
   },
   "source": [
    "## 7.3 Basic List Operations\n",
    "A number of basic operators are available to work with the data in lists. These can be used to generate lists or extract information from lists, for example.\n",
    "\n",
    "The following example shows how one can select all items in a list (`x_list`) which have a *modulo* that is zero (`num % 2 == 0`), i.e. all even numbers in a list, and add them to a new list (`even_list`)."
   ]
  },
  {
   "cell_type": "code",
   "execution_count": 11,
   "metadata": {
    "slideshow": {
     "slide_type": "skip"
    }
   },
   "outputs": [
    {
     "data": {
      "text/plain": [
       "[2, 4, 6]"
      ]
     },
     "execution_count": 11,
     "metadata": {},
     "output_type": "execute_result"
    }
   ],
   "source": [
    "x_list = [1,2,3,4,5,6,7]\n",
    "even_list = [num for num in x_list if (num % 2 == 0)]\n",
    "even_list"
   ]
  },
  {
   "cell_type": "code",
   "execution_count": 12,
   "metadata": {
    "slideshow": {
     "slide_type": "skip"
    }
   },
   "outputs": [
    {
     "data": {
      "text/plain": [
       "[1, 3, 5, 7]"
      ]
     },
     "execution_count": 12,
     "metadata": {},
     "output_type": "execute_result"
    }
   ],
   "source": [
    "# Try to do something similar to get the list of odd numbers\n",
    "# odd_list = "
   ]
  },
  {
   "cell_type": "markdown",
   "metadata": {},
   "source": [
    "It is possible to create a list by iterating over a number of values with a `for` loop."
   ]
  },
  {
   "cell_type": "code",
   "execution_count": null,
   "metadata": {
    "slideshow": {
     "slide_type": "skip"
    }
   },
   "outputs": [
    {
     "data": {
      "text/plain": [
       "[0, 1, 2, 3, 4, 5, 6, 7, 8, 9]"
      ]
     },
     "metadata": {},
     "output_type": "display_data"
    }
   ],
   "source": [
    "newlist = [x for x in range(10)]\n",
    "newlist"
   ]
  },
  {
   "cell_type": "markdown",
   "metadata": {},
   "source": [
    "It is possible to create a list by iterating over a number of values with a `for` loop, and also limiting to a certain conditional statement (`if x < 5`)."
   ]
  },
  {
   "cell_type": "code",
   "execution_count": null,
   "metadata": {
    "slideshow": {
     "slide_type": "skip"
    }
   },
   "outputs": [
    {
     "data": {
      "text/plain": [
       "[0, 1, 2, 3, 4]"
      ]
     },
     "metadata": {},
     "output_type": "display_data"
    }
   ],
   "source": [
    "newlist = [x for x in range(10) if x < 5]\n",
    "newlist"
   ]
  },
  {
   "cell_type": "markdown",
   "metadata": {},
   "source": [
    "Similarly, many other operations can be made on items in a list. In the below example, the code iterates through a list, and capitalizes all characters in each item (`upper()`)."
   ]
  },
  {
   "cell_type": "code",
   "execution_count": null,
   "metadata": {
    "slideshow": {
     "slide_type": "skip"
    }
   },
   "outputs": [
    {
     "data": {
      "text/plain": [
       "['APPLE', 'BANANA', 'CHERRY', 'PINEAPPLE']"
      ]
     },
     "metadata": {},
     "output_type": "display_data"
    }
   ],
   "source": [
    "newlist = [x.upper() for x in list1]\n",
    "newlist"
   ]
  },
  {
   "cell_type": "markdown",
   "metadata": {
    "slideshow": {
     "slide_type": "skip"
    }
   },
   "source": [
    "## 7.4 Example: A list of inputs can be used in our example"
   ]
  },
  {
   "cell_type": "markdown",
   "metadata": {},
   "source": [
    "In the below example, we want to modify our code, and immediately pass on a number of temperature values to our temperature converter code. So, let's assume that the user input is able to collect multiple data input values, each value separate with a white space (` `). Using the `split()` function, a list of values can be obtained."
   ]
  },
  {
   "cell_type": "code",
   "execution_count": 13,
   "metadata": {
    "slideshow": {
     "slide_type": "skip"
    }
   },
   "outputs": [
    {
     "name": "stdout",
     "output_type": "stream",
     "text": [
      "12 13 14\n",
      "['12', '13', '14']\n"
     ]
    }
   ],
   "source": [
    "user_input = input('Give the temperature in degrees celsius and I will convert them all to Fahrenheit!')\n",
    "print(user_input)\n",
    "print(user_input.split()) # Gives an array output"
   ]
  },
  {
   "cell_type": "markdown",
   "metadata": {},
   "source": [
    "Analyse the below code, and run it line by line."
   ]
  },
  {
   "cell_type": "code",
   "execution_count": 20,
   "metadata": {
    "slideshow": {
     "slide_type": "skip"
    }
   },
   "outputs": [
    {
     "name": "stdout",
     "output_type": "stream",
     "text": [
      "It is 10°C (50.0°F) in Eindhoven today.\n",
      "It is 20°C (68.0°F) in Eindhoven today.\n",
      "It is 15°C (59.0°F) in Eindhoven today.\n",
      "It is 16°C (60.8°F) in Eindhoven today.\n",
      "Cannot convert a non-numeric value, sorry!\n"
     ]
    }
   ],
   "source": [
    "def celsius_to_fahrenheit(deg_c):\n",
    "    deg_f = deg_c * 9/5 + 32\n",
    "    return f\"It is {deg_c}°C ({deg_f}°F) in Eindhoven today.\"\n",
    "\n",
    "def validate_input_and_convert(the_user_input):\n",
    "    if the_user_input.isdigit():\n",
    "        user_input_as_num = int(the_user_input)\n",
    "        deg_f = celsius_to_fahrenheit(user_input_as_num)\n",
    "        print(deg_f)\n",
    "    else:\n",
    "        print('Cannot convert a non-numeric value, sorry!')\n",
    "    \n",
    "user_input = input('Give the temperature in degrees celsius and I will convert it to Fahrenheit!')\n",
    "while user_input != \"exit\": # Note the colon and indentation.\n",
    "    for temperature in user_input.split(): # split() converts a string in to an array\n",
    "        validate_input_and_convert(temperature)\n",
    "    user_input = input('Give the temperature in degrees celsius and I will convert it to Fahrenheit!')"
   ]
  }
 ],
 "metadata": {
  "celltoolbar": "Slideshow",
  "kernelspec": {
   "display_name": "Python 3 (ipykernel)",
   "language": "python",
   "name": "python3"
  },
  "language_info": {
   "codemirror_mode": {
    "name": "ipython",
    "version": 3
   },
   "file_extension": ".py",
   "mimetype": "text/x-python",
   "name": "python",
   "nbconvert_exporter": "python",
   "pygments_lexer": "ipython3",
   "version": "3.9.1"
  },
  "vscode": {
   "interpreter": {
    "hash": "328d38edb4a47e72717e062bae5904cf5f8811ba316934a40a547226342d9fc7"
   }
  }
 },
 "nbformat": 4,
 "nbformat_minor": 2
}
