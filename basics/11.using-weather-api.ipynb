{
 "cells": [
  {
   "cell_type": "markdown",
   "metadata": {
    "slideshow": {
     "slide_type": "slide"
    }
   },
   "source": [
    "# 11. Getting data from a weather API\n",
    "- There’s an amazing amount of data available on the Web. \n",
    "- Many web services, like Twitter and GitHub, make their data accessible to third-party applications through an application programming interface (API). \n",
    "- One of the most popular ways to build APIs is the REST architecture style. \n",
    "- Python provides some great tools not only to get data from REST APIs but also to build your own Python REST APIs.\n",
    "\n",
    "https://realpython.com/api-integration-in-python/"
   ]
  },
  {
   "cell_type": "markdown",
   "metadata": {},
   "source": [
    "## 11.1 Loading needed modules\n",
    "First, we will load the modules that are required to query for the current weather."
   ]
  },
  {
   "cell_type": "code",
   "execution_count": 1,
   "metadata": {
    "slideshow": {
     "slide_type": "subslide"
    }
   },
   "outputs": [
    {
     "name": "stdout",
     "output_type": "stream",
     "text": [
      "Requirement already satisfied: requests in c:\\users\\20194060\\appdata\\local\\programs\\python\\python39\\lib\\site-packages (2.25.1)\n",
      "Requirement already satisfied: idna<3,>=2.5 in c:\\users\\20194060\\appdata\\local\\programs\\python\\python39\\lib\\site-packages (from requests) (2.10)\n",
      "Requirement already satisfied: chardet<5,>=3.0.2 in c:\\users\\20194060\\appdata\\local\\programs\\python\\python39\\lib\\site-packages (from requests) (4.0.0)\n",
      "Requirement already satisfied: certifi>=2017.4.17 in c:\\users\\20194060\\appdata\\local\\programs\\python\\python39\\lib\\site-packages (from requests) (2020.12.5)\n",
      "Requirement already satisfied: urllib3<1.27,>=1.21.1 in c:\\users\\20194060\\appdata\\local\\programs\\python\\python39\\lib\\site-packages (from requests) (1.26.3)\n"
     ]
    },
    {
     "name": "stderr",
     "output_type": "stream",
     "text": [
      "WARNING: You are using pip version 21.1.3; however, version 23.3.1 is available.\n",
      "You should consider upgrading via the 'c:\\users\\20194060\\appdata\\local\\programs\\python\\python39\\python.exe -m pip install --upgrade pip' command.\n"
     ]
    }
   ],
   "source": [
    "# requests library allows us to send HTTP requests\n",
    "!pip install requests"
   ]
  },
  {
   "cell_type": "code",
   "execution_count": 2,
   "metadata": {
    "slideshow": {
     "slide_type": "subslide"
    }
   },
   "outputs": [
    {
     "name": "stdout",
     "output_type": "stream",
     "text": [
      "Collecting python-dotenv\n",
      "  Downloading python_dotenv-1.0.0-py3-none-any.whl (19 kB)\n",
      "Installing collected packages: python-dotenv\n",
      "Successfully installed python-dotenv-1.0.0\n"
     ]
    },
    {
     "name": "stderr",
     "output_type": "stream",
     "text": [
      "WARNING: You are using pip version 21.1.3; however, version 23.3.1 is available.\n",
      "You should consider upgrading via the 'c:\\users\\20194060\\appdata\\local\\programs\\python\\python39\\python.exe -m pip install --upgrade pip' command.\n"
     ]
    }
   ],
   "source": [
    "# Read key-value pairs from a .env file and set them as environment variables\n",
    "!pip install python-dotenv"
   ]
  },
  {
   "cell_type": "markdown",
   "metadata": {},
   "source": [
    "## 11.2 Querying an open API to retrieve current temperature in a city\n",
    "With the needed modules available, our next step is to obtain the current temperature for a city from an open API, namely: https://openweathermap.org/current#name. In this API, it is possible to *request the weather by city name*. The API provides the following description:\n",
    "\n",
    "*You can call by city name or city name, state code and country code. Please note that searching by states is available only for the USA locations.*"
   ]
  },
  {
   "cell_type": "code",
   "execution_count": 6,
   "metadata": {
    "slideshow": {
     "slide_type": "subslide"
    }
   },
   "outputs": [
    {
     "name": "stdout",
     "output_type": "stream",
     "text": [
      "{\n",
      "  \"cod\": 401,\n",
      "  \"message\": \"Invalid API key. Please see https://openweathermap.org/faq#error401 for more info.\"\n",
      "}\n"
     ]
    }
   ],
   "source": [
    "import requests\n",
    "import json\n",
    "import os\n",
    "from dotenv import load_dotenv\n",
    "\n",
    "load_dotenv()\n",
    " \n",
    "API_key= os.getenv('API_KEY')\n",
    "\n",
    "city_name = 'Eindhoven'\n",
    "api_url = f'https://api.openweathermap.org/data/2.5/weather?q={city_name}&appid={API_key}&units=metric'\n",
    "response = requests.get(api_url)\n",
    "res = response.json()\n",
    "res\n",
    "print(json.dumps(res, indent=2)) # prints the json with a readable format"
   ]
  },
  {
   "cell_type": "markdown",
   "metadata": {
    "slideshow": {
     "slide_type": "subslide"
    }
   },
   "source": [
    "This code calls requests.get() to send a GET request to the API URL.\n",
    "\n",
    "The response data is formatted as JSON, a key-value store similar to a Python dictionary. It’s a very popular data format and the de facto interchange format for most REST APIs."
   ]
  },
  {
   "cell_type": "markdown",
   "metadata": {
    "slideshow": {
     "slide_type": "subslide"
    }
   },
   "source": [
    "How to extract the temperature data?"
   ]
  },
  {
   "cell_type": "code",
   "execution_count": 9,
   "metadata": {
    "slideshow": {
     "slide_type": "fragment"
    }
   },
   "outputs": [
    {
     "data": {
      "text/plain": [
       "6.61"
      ]
     },
     "execution_count": 9,
     "metadata": {},
     "output_type": "execute_result"
    }
   ],
   "source": [
    "res[\"main\"]['temp']"
   ]
  },
  {
   "cell_type": "code",
   "execution_count": 6,
   "metadata": {
    "slideshow": {
     "slide_type": "fragment"
    }
   },
   "outputs": [
    {
     "data": {
      "text/plain": [
       "float"
      ]
     },
     "execution_count": 6,
     "metadata": {},
     "output_type": "execute_result"
    }
   ],
   "source": [
    "type(res[\"main\"]['temp'])"
   ]
  },
  {
   "cell_type": "code",
   "execution_count": 12,
   "metadata": {
    "slideshow": {
     "slide_type": "slide"
    }
   },
   "outputs": [
    {
     "data": {
      "text/plain": [
       "'It is 6°C (42.8°F) in Rotterdam today.'"
      ]
     },
     "execution_count": 12,
     "metadata": {},
     "output_type": "execute_result"
    }
   ],
   "source": [
    "import requests\n",
    "import json\n",
    "import os\n",
    "from dotenv import load_dotenv\n",
    " \n",
    "API_key= os.getenv('API_KEY')\n",
    "\n",
    "city_name = 'Rotterdam' # Give any city name that you like to see its weather!\n",
    "\n",
    "api_url = f'https://api.openweathermap.org/data/2.5/weather?q={city_name}&appid={API_key}&units=metric'\n",
    "response = requests.get(api_url)\n",
    "res = response.json()\n",
    "\n",
    "def celsius_to_fahrenheit(deg_c):\n",
    "    return deg_c * 9/5 + 32\n",
    "\n",
    "def validate_input_and_convert():\n",
    "        temp = int(temp_and_city_dictionary['temp'])\n",
    "        deg_f = celsius_to_fahrenheit(temp)\n",
    "        return f\"It is {temp}°C ({deg_f}°F) in {temp_and_city_dictionary['city']} today.\"\n",
    "\n",
    "temp_and_city_dictionary = {\"temp\": res[\"main\"]['temp'], \"city\": city_name}\n",
    "# print(temp_and_city_dictionary)\n",
    "validate_input_and_convert()"
   ]
  }
 ],
 "metadata": {
  "celltoolbar": "Slideshow",
  "kernelspec": {
   "display_name": "Python 3 (ipykernel)",
   "language": "python",
   "name": "python3"
  },
  "language_info": {
   "codemirror_mode": {
    "name": "ipython",
    "version": 3
   },
   "file_extension": ".py",
   "mimetype": "text/x-python",
   "name": "python",
   "nbconvert_exporter": "python",
   "pygments_lexer": "ipython3",
   "version": "3.9.1"
  },
  "vscode": {
   "interpreter": {
    "hash": "328d38edb4a47e72717e062bae5904cf5f8811ba316934a40a547226342d9fc7"
   }
  }
 },
 "nbformat": 4,
 "nbformat_minor": 4
}
