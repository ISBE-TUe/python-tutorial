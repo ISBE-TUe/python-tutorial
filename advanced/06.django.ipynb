{
 "cells": [
  {
   "cell_type": "markdown",
   "metadata": {},
   "source": [
    "# 6. Django\n",
    "In this tutorial, we will set up a simple Django project. This tutorial is based on the basic intro tutorial that is made available by Django in this location: https://docs.djangoproject.com/en/5.1/intro/ (Django Getting Started). The first steps in this tutorial (setup) are the same, however, we will model a website that displays 'students' participating in a number of 'courses.\n",
    "\n",
    "## 6.1 Starting setup\n",
    "Setting up a good draft Django project is not easy, and requires several steps. After doing the below tutorial, you should have the file structure and project as available here: https://github.com/ISBE-TUe/python-tutorial/tree/main/advanced/django/universityProject. Another reference Django project can be found in https://github.com/ISBE-TUe/DUTO-BIM-Projectresultaten/tree/main/3.%20DUTO-BIM%20Validator/3.%20Validatietool (see https://github.com/ISBE-TUe/DUTO-BIM-Projectresultaten/ for general information about that project).\n",
    "\n",
    "### 6.1.1 Setting up a local project and virtual environment\n",
    "To achieve the initial setup, a few steps need to be taken. First, it is recommended to setup a local project on your laptop (and thus not work with these Python notebooks), using Visual Studio Code. Within this local project, you are strongly recommended to set up a `virtual environment` and activate it. If you don't know how to do this, then please use the following resources to get you started: https://github.com/ISBE-TUe/python-tutorial/tree/main/advanced/files/PythonSetup.\n",
    "\n",
    "### 6.1.2 Installing Django\n",
    "After you have set up this project folder, your second step is to install Django. You ideally do this only AFTER creating and activating the above virtual environment, such that Django is installed locally in your project folder. To install Django in your project folder, you have to execute the following command in the command line terminal in visual studio:"
   ]
  },
  {
   "cell_type": "code",
   "execution_count": null,
   "metadata": {
    "vscode": {
     "languageId": "plaintext"
    }
   },
   "outputs": [],
   "source": [
    "python -m pip install Django"
   ]
  },
  {
   "cell_type": "markdown",
   "metadata": {},
   "source": [
    "For more information on how to install Django, refer to https://docs.djangoproject.com/en/5.1/topics/install/.\n",
    "\n",
    "### 6.1.3 Creating a clean Django project\n",
    "As a first step in creating your first Django project, you have the great opportunity to generate a draft Django project structure with sample files and code available that can get you started quickly. To achieve this, make sure to be in the project folder that you just created in Section 6.1.1 (use `cd` in the command line terminal in visual studio), and execute the following command (see also https://docs.djangoproject.com/en/5.1/intro/tutorial01/#creating-a-project). This will create the `universityProject` directory in your project folder."
   ]
  },
  {
   "cell_type": "code",
   "execution_count": null,
   "metadata": {
    "vscode": {
     "languageId": "plaintext"
    }
   },
   "outputs": [],
   "source": [
    "mkdir universityProject"
   ]
  },
  {
   "cell_type": "markdown",
   "metadata": {},
   "source": [
    "Verify in your file explorer of your computer that you can find this newly created folder.\n",
    "\n",
    "Now, execute the following command to create your draft Django project structure `myUniversity` in the folder `universityProject`:"
   ]
  },
  {
   "cell_type": "code",
   "execution_count": null,
   "metadata": {
    "vscode": {
     "languageId": "plaintext"
    }
   },
   "outputs": [],
   "source": [
    "django-admin startproject myUniversity universityProject"
   ]
  },
  {
   "cell_type": "markdown",
   "metadata": {},
   "source": []
  },
  {
   "cell_type": "markdown",
   "metadata": {},
   "source": [
    "After executing this command, you should have obtained the following project structure:\n",
    "\n",
    "```\n",
    "universityProject/\n",
    "    manage.py\n",
    "    myUniversity/\n",
    "        __init__.py\n",
    "        settings.py\n",
    "        urls.py\n",
    "        asgi.py\n",
    "        wsgi.py\n",
    "```"
   ]
  },
  {
   "cell_type": "markdown",
   "metadata": {},
   "source": [
    "You now have obtained the most basic version of a Django website. Verify that everything is working correctly by running:"
   ]
  },
  {
   "cell_type": "code",
   "execution_count": null,
   "metadata": {
    "vscode": {
     "languageId": "plaintext"
    }
   },
   "outputs": [],
   "source": [
    "python manage.py runserver"
   ]
  },
  {
   "cell_type": "markdown",
   "metadata": {},
   "source": [
    "You’ll see the following output on the command line:\n",
    "\n",
    "```\n",
    "Performing system checks...\n",
    "\n",
    "System check identified no issues (0 silenced).\n",
    "\n",
    "You have unapplied migrations; your app may not work properly until they are applied.\n",
    "Run 'python manage.py migrate' to apply them.\n",
    "\n",
    "November 19, 2024 - 15:50:53\n",
    "Django version 5.1, using settings 'mysite.settings'\n",
    "Starting development server at https://127.0.0.1:8000/\n",
    "Quit the server with CONTROL-C.\n",
    "```\n",
    "\n",
    "You can now open your browser and find the output in https://127.0.0.1:8000/"
   ]
  },
  {
   "cell_type": "markdown",
   "metadata": {},
   "source": [
    "# 6.2 Your first Django application\n",
    "\n",
    "## 6.2.1 Making an App in the Django project"
   ]
  },
  {
   "cell_type": "markdown",
   "metadata": {},
   "source": [
    "Now that your environment – a \"project\" – is set up, you’re set to fill in further details. This starts with creating an \"application\" inside the \"project. The combination of the two can be very confusing, as both have similar file structures and use the same file names (e.g. `urls.py`). So it is important from this point onwards to know in which file you are working.\n",
    "\n",
    "Start by creating a default basic 'application' file structure, using the following basic command. Make sure that your terminal is in the same directory as the `manage.py` file (use `cd` on the commandline) and run this in the command line. This will create the `students` application. That name is custom, and you can create a number of 'applications' with different names. In this tutorial, you will only make 1 application."
   ]
  },
  {
   "cell_type": "code",
   "execution_count": null,
   "metadata": {
    "vscode": {
     "languageId": "plaintext"
    }
   },
   "outputs": [],
   "source": [
    "python manage.py startapp students"
   ]
  },
  {
   "cell_type": "markdown",
   "metadata": {},
   "source": [
    "You should now see an additional folder being created, with the following content:\n",
    "\n",
    "```\n",
    "students/\n",
    "    __init__.py\n",
    "    admin.py\n",
    "    apps.py\n",
    "    migrations/\n",
    "        __init__.py\n",
    "    models.py\n",
    "    tests.py\n",
    "    views.py\n",
    "```"
   ]
  },
  {
   "cell_type": "markdown",
   "metadata": {},
   "source": [
    "## 6.2.2 Your first 'application'\n",
    "For your first 'application', you need to two things configured appropriately:\n",
    "- views (step 1)\n",
    "- urls (step 2-3)\n",
    "\n",
    "### Step 1\n",
    "Now we create a first 'view'. This needs to happen in the `students` folder. \n",
    "\n",
    "- Go to this folder and create a file `views.py` in this Folder. \n",
    "- Open the file and add this content:\n",
    "\n",
    "``` python\n",
    "from django.http import HttpResponse\n",
    "\n",
    "def index(request):\n",
    "    return HttpResponse(\"Hello, world. You're at the students index.\")\n",
    "```"
   ]
  },
  {
   "cell_type": "markdown",
   "metadata": {},
   "source": [
    "### Step 2\n",
    "\n",
    "This is the most basic view possible in Django. To access it in a browser, we need to map it to a URL. For this, we need to define a URL configuration, or `URLconf` for short. These URL configurations are defined inside each Django app, and they are Python files named `urls.py`. To enable this, do the following:\n",
    "\n",
    "- go to the folder `students/`\n",
    "- create a file `urls.py`\n",
    "- Open the file and add this content:\n",
    "\n",
    "``` python\n",
    "from django.urls import path\n",
    "\n",
    "from . import views\n",
    "\n",
    "urlpatterns = [\n",
    "    path(\"\", views.index, name=\"index\"),\n",
    "]\n",
    "```"
   ]
  },
  {
   "cell_type": "markdown",
   "metadata": {},
   "source": [
    "### Step 3\n",
    "\n",
    "The next step is to configure the global URLconf in the `myUniversity` project to include the `URLconf` defined in `students.urls`. To do this, add an import for `django.urls.include` in `myUniversity/urls.py` and insert an `include()` in the `urlpatterns` list, so you have:\n",
    "\n",
    "``` python\n",
    "from django.contrib import admin\n",
    "from django.urls import include, path\n",
    "\n",
    "urlpatterns = [\n",
    "    path(\"students/\", include(\"students.urls\")), # be careful, this path is important and needs to be findable\n",
    "    path(\"admin/\", admin.site.urls),\n",
    "]\n",
    "```"
   ]
  },
  {
   "cell_type": "markdown",
   "metadata": {},
   "source": [
    "### Step 4\n",
    "Check your result by running the familiar command:"
   ]
  },
  {
   "cell_type": "code",
   "execution_count": null,
   "metadata": {
    "vscode": {
     "languageId": "plaintext"
    }
   },
   "outputs": [],
   "source": [
    "python manage.py runserver"
   ]
  },
  {
   "cell_type": "markdown",
   "metadata": {},
   "source": [
    "Find the result in your browser at https://localhost:8000/students/. Be careful: not http://localhost:8000/ (why not?)"
   ]
  },
  {
   "cell_type": "markdown",
   "metadata": {},
   "source": [
    "# 6.3 The model and the database\n",
    "At the core of every Django application, there is an object model, which allows to handle the information that goes through this application. In our case, we need to be able to handle `student` and `course` information (minimal setup). So these are the two classes that we want to have objects for. This is the `model` in our Application.\n",
    "\n",
    "Second, Django allows storing these objects in a relational database. Learning more about these databases is possible through the pointers and information that is given in https://docs.djangoproject.com/en/5.1/intro/tutorial02/. For the below tutorial, we will include a simple `SQLite` database.\n",
    "\n",
    "## 6.3.1 Creating the model\n",
    "To create a model in which multiple courses are available, and multiple students in those courses, go to the `students` folder and edit the `models.py` file such that it includes the following content:\n",
    "\n",
    "``` python\n",
    "from django.db import models\n",
    "\n",
    "class Course(models.Model):\n",
    "    created = models.DateTimeField(auto_now_add=True)\n",
    "    name = models.CharField(max_length=200)\n",
    "    teacher = models.CharField(max_length=200)\n",
    "\n",
    "class Student(models.Model):\n",
    "    course = models.ForeignKey(Course, on_delete=models.CASCADE)\n",
    "    firstName = models.CharField(max_length=200)\n",
    "    lastName = models.CharField(max_length=200)\n",
    "    identifier = models.IntegerField(blank=True, default=0, null=True)    \n",
    "    course = models.ForeignKey(Course, on_delete=models.CASCADE, blank=True, null=True)\n",
    "```\n",
    "\n",
    "Analyse the above: can you create the UML Class Diagram for this? Can you also create a UML Object Diagram?"
   ]
  },
  {
   "cell_type": "markdown",
   "metadata": {},
   "source": [
    "## 6.3.2 Where is the database?\n",
    "The objects that are created in the above model, are stored in an in-memory relational database. This database needs to be created, which happens through a concept called `migration` (see https://docs.djangoproject.com/en/5.1/intro/tutorial02/). \n",
    "\n",
    "In order to get started, first run the following command, which creates an empty database instance."
   ]
  },
  {
   "cell_type": "code",
   "execution_count": null,
   "metadata": {
    "vscode": {
     "languageId": "plaintext"
    }
   },
   "outputs": [],
   "source": [
    "python manage.py migrate"
   ]
  },
  {
   "cell_type": "markdown",
   "metadata": {},
   "source": [
    "Next, we need to 'register' the earlier created database in our Application. To do so: \n",
    "- open the file `myUniversity/settings.py`, and \n",
    "- add the `StudentsConfig` file to this file, by adding the line `students.apps.StudentsConfig` to the parameter `INSTALLED_APPS`.\n",
    "\n",
    "``` python\n",
    "INSTALLED_APPS = [\n",
    "    \"students.apps.StudentsConfig\",\n",
    "    \"django.contrib.admin\",\n",
    "    \"django.contrib.auth\",\n",
    "    \"django.contrib.contenttypes\",\n",
    "    \"django.contrib.sessions\",\n",
    "    \"django.contrib.messages\",\n",
    "    \"django.contrib.staticfiles\",\n",
    "]\n",
    "```"
   ]
  },
  {
   "cell_type": "markdown",
   "metadata": {},
   "source": [
    "As soon as you have made this change, you are ready to create the correct database structure based on the model that you have defined. This database structure comprises in our case of two tables `Course` and `Student`. To create this database, run the following command:"
   ]
  },
  {
   "cell_type": "code",
   "execution_count": null,
   "metadata": {
    "vscode": {
     "languageId": "plaintext"
    }
   },
   "outputs": [],
   "source": [
    "python manage.py makemigrations students"
   ]
  },
  {
   "cell_type": "markdown",
   "metadata": {},
   "source": [
    "By running makemigrations, you’re telling Django that you’ve made some changes to your model (in this case, you’ve made a new one), and that you’d like the changes to be stored as a `migration`.\n",
    "\n",
    "After making this new migration, you can do the actual migration, by running the following command:"
   ]
  },
  {
   "cell_type": "code",
   "execution_count": null,
   "metadata": {
    "vscode": {
     "languageId": "plaintext"
    }
   },
   "outputs": [],
   "source": [
    "python manage.py migrate"
   ]
  },
  {
   "cell_type": "markdown",
   "metadata": {},
   "source": [
    "You are now finished and can inspect the database using the SQLite extension in VS Code. Make sure to have this extension installed in VSCode. After that, right-click the file `db.sqlite3` and click `Open Database`.\n",
    "\n",
    "Remember that, as soon as you make a change to your model, you will have to redo this migration. It is therefore helpful to have a good model from the start."
   ]
  }
 ],
 "metadata": {
  "language_info": {
   "name": "python"
  }
 },
 "nbformat": 4,
 "nbformat_minor": 2
}
