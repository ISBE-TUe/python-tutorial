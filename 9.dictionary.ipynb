{
 "cells": [
  {
   "cell_type": "markdown",
   "metadata": {
    "slideshow": {
     "slide_type": "slide"
    }
   },
   "source": [
    "# Dictionary\n",
    "- Dictionaries contain key-value pairs, which refer to pairs of a key and a value separated by a colon :.\n",
    "- The values can hold and be a mix of different data types, including lists or even nested dictionaries. "
   ]
  },
  {
   "cell_type": "code",
   "execution_count": 5,
   "metadata": {
    "slideshow": {
     "slide_type": "subslide"
    }
   },
   "outputs": [
    {
     "data": {
      "text/plain": [
       "{'city': 'Eindhoven', 'universities': ['TUe', 'Fontys']}"
      ]
     },
     "execution_count": 5,
     "metadata": {},
     "output_type": "execute_result"
    }
   ],
   "source": [
    "my_dictionary = {\n",
    "  \"city\": \"Eindhoven\",\n",
    "  \"universities\": [\"TUe\", \"Fontys\"],\n",
    "}\n",
    "\n",
    "my_dictionary"
   ]
  },
  {
   "cell_type": "markdown",
   "metadata": {
    "slideshow": {
     "slide_type": "fragment"
    }
   },
   "source": [
    "In contrast to other data structures such as lists and tuples, there are no built-in ways to use indexing and slicing to access the values in a certain order in the dictionaries. A value within a dictionary can be accessed with its key."
   ]
  },
  {
   "cell_type": "code",
   "execution_count": 16,
   "metadata": {
    "slideshow": {
     "slide_type": "fragment"
    }
   },
   "outputs": [
    {
     "data": {
      "text/plain": [
       "'Eindhoven'"
      ]
     },
     "execution_count": 16,
     "metadata": {},
     "output_type": "execute_result"
    }
   ],
   "source": [
    "my_dictionary['city']"
   ]
  },
  {
   "cell_type": "code",
   "execution_count": 17,
   "metadata": {
    "slideshow": {
     "slide_type": "fragment"
    }
   },
   "outputs": [
    {
     "data": {
      "text/plain": [
       "['TUe', 'Fontys']"
      ]
     },
     "execution_count": 17,
     "metadata": {},
     "output_type": "execute_result"
    }
   ],
   "source": [
    "my_dictionary.get('universities')"
   ]
  },
  {
   "cell_type": "markdown",
   "metadata": {
    "slideshow": {
     "slide_type": "subslide"
    }
   },
   "source": [
    "Likewise, values can be updated in the dictionary using its key:"
   ]
  },
  {
   "cell_type": "code",
   "execution_count": 19,
   "metadata": {},
   "outputs": [
    {
     "data": {
      "text/plain": [
       "{'city': 'Eindhoven', 'universities': ['TUe', 'Fontys', 'ABC']}"
      ]
     },
     "execution_count": 19,
     "metadata": {},
     "output_type": "execute_result"
    }
   ],
   "source": [
    "my_dictionary['universities'] = [\"TUe\", \"Fontys\", \"ABC\"]\n",
    "my_dictionary"
   ]
  },
  {
   "cell_type": "markdown",
   "metadata": {},
   "source": [
    "Similarly, a new key-value pair can be added to a dictionary:"
   ]
  },
  {
   "cell_type": "code",
   "execution_count": 13,
   "metadata": {
    "scrolled": true,
    "slideshow": {
     "slide_type": "fragment"
    }
   },
   "outputs": [
    {
     "data": {
      "text/plain": [
       "{'country': 'Netherlands',\n",
       " 'city': 'Eindhoven',\n",
       " 'universities': ['TUe', 'Fontys'],\n",
       " 'population': 200000}"
      ]
     },
     "execution_count": 13,
     "metadata": {},
     "output_type": "execute_result"
    }
   ],
   "source": [
    "my_dictionary['population'] = 200000\n",
    "my_dictionary"
   ]
  },
  {
   "cell_type": "markdown",
   "metadata": {
    "slideshow": {
     "slide_type": "slide"
    }
   },
   "source": [
    "# Coming back to our example with a dictionary\n",
    "- Let's input temperature and city both. And store them in a Python dictionary."
   ]
  },
  {
   "cell_type": "code",
   "execution_count": 2,
   "metadata": {
    "slideshow": {
     "slide_type": "subslide"
    }
   },
   "outputs": [
    {
     "name": "stdout",
     "output_type": "stream",
     "text": [
      "['10', ' eindhoven']\n",
      "{'temp': '10', 'city': ' eindhoven'}\n",
      "['exit']\n"
     ]
    },
    {
     "ename": "IndexError",
     "evalue": "list index out of range",
     "output_type": "error",
     "traceback": [
      "\u001b[1;31m---------------------------------------------------------------------------\u001b[0m",
      "\u001b[1;31mIndexError\u001b[0m                                Traceback (most recent call last)",
      "Cell \u001b[1;32mIn[2], line 11\u001b[0m\n\u001b[0;32m      8\u001b[0m \u001b[39mprint\u001b[39m(temp_and_city) \u001b[39m#prints the array\u001b[39;00m\n\u001b[0;32m     10\u001b[0m \u001b[39m#creating a dictionary using the array objects\u001b[39;00m\n\u001b[1;32m---> 11\u001b[0m temp_and_city_dictionary \u001b[39m=\u001b[39m {\u001b[39m\"\u001b[39m\u001b[39mtemp\u001b[39m\u001b[39m\"\u001b[39m: temp_and_city[\u001b[39m0\u001b[39m], \u001b[39m\"\u001b[39m\u001b[39mcity\u001b[39m\u001b[39m\"\u001b[39m: temp_and_city[\u001b[39m1\u001b[39;49m]}\n\u001b[0;32m     12\u001b[0m \u001b[39mprint\u001b[39m(temp_and_city_dictionary) \u001b[39m#prints the dictionary\u001b[39;00m\n",
      "\u001b[1;31mIndexError\u001b[0m: list index out of range"
     ]
    }
   ],
   "source": [
    "user_input = ''\n",
    "while user_input != 'exit':\n",
    "\n",
    "    user_input = input('Give the temperature and City seperated by a ,: ')\n",
    "    \n",
    "    # .split() produces an array containing the elemnts\n",
    "    temp_and_city = user_input.split(\",\")\n",
    "    print(temp_and_city) #prints the array\n",
    "    \n",
    "    #creating a dictionary using the array objects\n",
    "    temp_and_city_dictionary = {\"temp\": temp_and_city[0], \"city\": temp_and_city[1]}\n",
    "    print(temp_and_city_dictionary) #prints the dictionary"
   ]
  },
  {
   "cell_type": "code",
   "execution_count": 3,
   "metadata": {
    "slideshow": {
     "slide_type": "fragment"
    }
   },
   "outputs": [
    {
     "data": {
      "text/plain": [
       "{'temp': '10', 'city': ' eindhoven'}"
      ]
     },
     "execution_count": 3,
     "metadata": {},
     "output_type": "execute_result"
    }
   ],
   "source": [
    "temp_and_city_dictionary"
   ]
  },
  {
   "cell_type": "code",
   "execution_count": 4,
   "metadata": {
    "slideshow": {
     "slide_type": "skip"
    }
   },
   "outputs": [],
   "source": [
    "def celsius_to_fahrenheit(deg_c):\n",
    "    return deg_c * 9/5 + 32"
   ]
  },
  {
   "cell_type": "code",
   "execution_count": 7,
   "metadata": {
    "slideshow": {
     "slide_type": "skip"
    }
   },
   "outputs": [],
   "source": [
    "def validate_input_and_convert(user_input):\n",
    "    \n",
    "    temp_and_city = user_input.split(\",\")\n",
    "    temp_and_city_dictionary = {\"temp\": temp_and_city[0], \"city\": temp_and_city[1]}\n",
    "\n",
    "    if temp_and_city_dictionary['temp'].isdigit():\n",
    "        user_input_as_num = int(temp_and_city_dictionary['temp'])\n",
    "        deg_f = celsius_to_fahrenheit(user_input_as_num)\n",
    "        return f\"It is {user_input_as_num}°C ({deg_f}°F) in{temp_and_city_dictionary['city']} today.\"\n",
    "    else:\n",
    "     print('Cannot convert a non numeric value, sorry!')"
   ]
  },
  {
   "cell_type": "code",
   "execution_count": null,
   "metadata": {
    "slideshow": {
     "slide_type": "skip"
    }
   },
   "outputs": [],
   "source": [
    "user_input = ''\n",
    "while user_input != 'exit':\n",
    "   user_input = input('Give the temperature and City seperated by a ,!')\n",
    "   output = validate_input_and_convert(user_input)\n",
    "   print(output)"
   ]
  }
 ],
 "metadata": {
  "celltoolbar": "Slideshow",
  "kernelspec": {
   "display_name": "Python 3 (ipykernel)",
   "language": "python",
   "name": "python3"
  },
  "language_info": {
   "codemirror_mode": {
    "name": "ipython",
    "version": 3
   },
   "file_extension": ".py",
   "mimetype": "text/x-python",
   "name": "python",
   "nbconvert_exporter": "python",
   "pygments_lexer": "ipython3",
   "version": "3.10.7"
  },
  "vscode": {
   "interpreter": {
    "hash": "328d38edb4a47e72717e062bae5904cf5f8811ba316934a40a547226342d9fc7"
   }
  }
 },
 "nbformat": 4,
 "nbformat_minor": 2
}
