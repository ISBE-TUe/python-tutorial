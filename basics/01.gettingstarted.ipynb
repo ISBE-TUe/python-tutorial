{
 "cells": [
  {
   "cell_type": "markdown",
   "metadata": {
    "slideshow": {
     "slide_type": "slide"
    }
   },
   "source": [
    "# 1. Getting Started\n",
    "\n"
   ]
  },
  {
   "cell_type": "markdown",
   "metadata": {},
   "source": [
    "## 1.1 Installation\n",
    "### Install Python on your computer\n",
    "<img src=\"images/pythonDownload.png\" alt=\"image\" width=\"600\" height=\"auto\"></img>\n",
    "\n",
    "If you want to use Python on your computer, you need to download it:\n",
    "- Visit https://www.python.org/downloads/ and download the latest version. This tutorial assumes Python 3.12, which is available since October 2023.\n",
    "- During installation, make sure to also `add python.exe to PATH`.\n",
    "\n",
    "<img src=\"images/pythonInstallation.png\" alt=\"image\" width=\"600\" height=\"auto\"></img>\n",
    "\n",
    "We will use Python over the web, so you do not have to install it on your computer now. For this tutorial, it is sufficient to use the provided Python Notebooks. They can be executed using online coding environments, such as:\n",
    "- **Google Colab: https://colab.google/**\n",
    "- JupyterLab: https://jupyter.org/\n",
    "\n",
    "### Check which version of Python you have\n",
    "<img src=\"images/pythonVersion.png\" alt=\"image\" width=\"800\" height=\"auto\"></img>\n",
    "\n",
    "To check the version of Python on your machine, you need to open a Console window, Bash window, PowerShell Window, Shell Window, or Command Line Interface (CLI). Depending on your machine, you have one or more of these. They all provide the same functionality, namely running code on your machine. For more information, see https://en.wikipedia.org/wiki/Command-line_interface.\n",
    "\n",
    "> *Windows*\n",
    ">\n",
    "> `python --version`\n",
    "\n",
    "> *MAC*\n",
    ">\n",
    "> `python3 --version`\n",
    "\n",
    "\n",
    "Depending on your machine, you may have to use `py`, `python`, `python3` or any other alias."
   ]
  },
  {
   "cell_type": "markdown",
   "metadata": {},
   "source": [
    "# 1.2 How to use Python on your computer\n",
    "You can use Python in a few ways on your computer. The most common methods are listed below, namely (1) from a Command Line Interface (CLI), from a regular text editor (not Word, but NotePad++, for example), or using an Integrated Development Environment (IDE).\n",
    "\n",
    "## Using Python from Command Line Interface (CLI)\n",
    "A first method to run Python commands, is to type them in, one by one in the Command Line Interface of your computer.\n",
    "\n",
    "1. Open the Command Line Interface\n",
    "2. Enable the Python interpreter prompt (`>>`) by typing `python` and enter.\n",
    "3. Now you can run python commands from here\n",
    "\n",
    "> ```\n",
    "> print(“Hello World”)\n",
    "> print(3+2)\n",
    "> exit()\n",
    "> ```\n",
    "\n",
    "<img src=\"images/helloWorldInCLI.png\" alt=\"image\" width=\"800\" height=\"auto\"></img>\n",
    "\n",
    "\n",
    "## Using a text editor\n",
    "A second method to run a Python script, is to collect your python commands in a `.py` file, and then execute the complete `.py` file.\n",
    "1. Create a folder to save your code\n",
    "2. Create a python file called `myFirstScript.py`. Always use the extension .py for a Python script file.\n",
    "3. Open a command prompt from the folder that you created, or change the directory to where you saved the file (cd python-workshop/)\n",
    "4. Run the `.py` file using the command `python myFirstScript.py`.\n",
    "\n",
    "<img src=\"images/cdMyFirstScript.png\" alt=\"image\" width=\"800\" height=\"auto\"></img>\n",
    "\n",
    "## Using an IDE (e.g. Visual Studio Code)\n",
    "The third, most complete and advanced method, is to use an Integrated Development Environment (IDE). An IDE is a collection of software development tools that are intended to simplify the process of coding. It offers support for:\n",
    "- extensions\n",
    "- version control (git)\n",
    "- auto-complete functionality\n",
    "- highlighting\n",
    "- debugging and error-handling\n",
    "\n",
    "There are many IDEs out there, one of them is Visual Studio Code. To use Python in VSCode:\n",
    "1. Open VS Code\n",
    "2. Install the Python extension in VSCode\n",
    "3. Create a `.py` file and run it.\n"
   ]
  },
  {
   "cell_type": "markdown",
   "metadata": {
    "slideshow": {
     "slide_type": "subslide"
    }
   },
   "source": [
    "# 1.3 Open the first ipynb Notebook file\n",
    "To get started with scripting, we now switch to using the Python Notebooks in Google Colab.\n",
    "1. Open Google Colab in your web browser\n",
    "2. Open the Python Notebook `01.gettingstarted.ipynb` from the ISBE GitHub: https://github.com/ISBE-TUe/python-tutorial/ \n",
    "3. Go to section 1.3\n",
    "4. Run the below cell using \"Shift + Enter\" for the cell"
   ]
  },
  {
   "cell_type": "code",
   "execution_count": null,
   "metadata": {},
   "outputs": [],
   "source": [
    "print('hello world')"
   ]
  },
  {
   "cell_type": "markdown",
   "metadata": {
    "slideshow": {
     "slide_type": "slide"
    }
   },
   "source": [
    "# 1.4 Basic Functionality\n",
    "\n",
    "## Comments\n",
    "Comments are for the reader of the code, not for the computer. We sometimes need to write down why we did something in the code, so when we come back to our code, it makes sense why we did what we did. Also, when you pass your code to somebody else, you can write meaningful comments for them to understand your code better.\n",
    "\n",
    "Comments are for free, use them as much as you can to help yourself and clarify what is written.\n",
    "\n",
    "Comments can be made by placing the `#`-symbol in front of the line that you want to comment. If you want to comment out many lines, then place `#` in front of every line."
   ]
  },
  {
   "cell_type": "code",
   "execution_count": 2,
   "metadata": {
    "slideshow": {
     "slide_type": "fragment"
    }
   },
   "outputs": [
    {
     "name": "stdout",
     "output_type": "stream",
     "text": [
      "Hello World\n"
     ]
    }
   ],
   "source": [
    "# Example of commenting\n",
    "print(\"Hello World\")  # This is a print function\n"
   ]
  },
  {
   "cell_type": "code",
   "execution_count": null,
   "metadata": {},
   "outputs": [],
   "source": [
    "# It is perfectly fine\n",
    "# To comment over\n",
    "# Multiple lines\n",
    "print(\"Hello World\")\n",
    "\n",
    "# By `commenting out` lines, it is possible to temporarily ignore certain lines that you wrote\n",
    "# This is handy if you simply want to `switch off` a line of code that is still work in progress and does not work (yet)\n",
    "# Example:\n",
    "# printBetterNotWorking(\"Hello World\")"
   ]
  },
  {
   "cell_type": "markdown",
   "metadata": {
    "slideshow": {
     "slide_type": "slide"
    }
   },
   "source": [
    "## Print function\n",
    "The `print` function in Python prints the specified message to the screen. This is a very useful function to indicate information that is available in the middle of the code. Sometimes, it is not clear what the value of certain variables is, or what is actually happening in the code. In that case, adding a `print` function in between the lines helps to find out what the code is doing at that point in time."
   ]
  },
  {
   "cell_type": "code",
   "execution_count": null,
   "metadata": {
    "slideshow": {
     "slide_type": "fragment"
    }
   },
   "outputs": [
    {
     "name": "stdout",
     "output_type": "stream",
     "text": [
      "Hello World.\n"
     ]
    }
   ],
   "source": [
    "# Example of a print function\n",
    "print(\"Hello World.\")\n",
    "\n",
    "# Using the print function to keep track of certain values in the code.\n",
    "a = 2+3\n",
    "b = a+6\n",
    "print('b: ' + b)\n",
    "c = a+b\n",
    "print('c: ' + c)\n",
    "d = c/2+3\n",
    "print('d: ' + d)"
   ]
  },
  {
   "cell_type": "code",
   "execution_count": 1,
   "metadata": {
    "slideshow": {
     "slide_type": "fragment"
    }
   },
   "outputs": [
    {
     "name": "stdout",
     "output_type": "stream",
     "text": [
      "Hello and welcome to Pyhton workshop, Lasitha!\n"
     ]
    }
   ],
   "source": [
    "my_name = \"Lasitha\"  # This is a variable to store the user name\n",
    "print(\"Hello and welcome to Pyhton workshop, \" + my_name + \"!\")\n"
   ]
  },
  {
   "cell_type": "markdown",
   "metadata": {
    "slideshow": {
     "slide_type": "slide"
    }
   },
   "source": [
    "## Variables\n",
    "Variables are containers for storing values. In Python, we assign variables by using the equals sign (`=`). Variables can hold data of many types such as text, numbers, sequences, boolean. Python has no command for declaring a variable (unlike other programming languages). A variable is created the moment you first assign a value to it. Variables do not need to be declared with any particular type, and can even change type after they have been set. When naming variables, you cannot use reserved keywords. Variables can’t have spaces or symbols in their names other than an underscore (_). They can’t begin with numbers but they can have numbers after the first letter."
   ]
  },
  {
   "cell_type": "code",
   "execution_count": 1,
   "metadata": {
    "slideshow": {
     "slide_type": "subslide"
    }
   },
   "outputs": [
    {
     "name": "stdout",
     "output_type": "stream",
     "text": [
      "['False', 'None', 'True', 'and', 'as', 'assert', 'async', 'await', 'break', 'class', 'continue', 'def', 'del', 'elif', 'else', 'except', 'finally', 'for', 'from', 'global', 'if', 'import', 'in', 'is', 'lambda', 'nonlocal', 'not', 'or', 'pass', 'raise', 'return', 'try', 'while', 'with', 'yield']\n"
     ]
    }
   ],
   "source": [
    "# we cannot use these keywords as our variable names. but they can be a part of the variable like 'from_line = 100'\n",
    "# normally, your IDE hints (different color) if you chose a keyword for a variable, so you can avoid it\n",
    "# see the keyword in python\n",
    "import keyword\n",
    "\n",
    "print(keyword.kwlist)\n"
   ]
  },
  {
   "cell_type": "markdown",
   "metadata": {
    "slideshow": {
     "slide_type": "subslide"
    }
   },
   "source": [
    "If the context of a program changes, we can update a variable but perform the same logical process on it. \n",
    "\n",
    "We want to create a variable message_string, assign a welcome message if a customer enters our online store, and print the greeting. Then we want to wish them goodbye at the end. We then update message_string to a departure message and print that out."
   ]
  },
  {
   "cell_type": "code",
   "execution_count": 12,
   "metadata": {
    "slideshow": {
     "slide_type": "fragment"
    }
   },
   "outputs": [
    {
     "name": "stdout",
     "output_type": "stream",
     "text": [
      "Hello there!\n",
      "Thank you, good bye!\n"
     ]
    }
   ],
   "source": [
    "# Greeting\n",
    "message_string = \"Hello there!\"\n",
    "print(message_string)\n",
    "\n",
    "# Farewell\n",
    "message_string = \"Thank you, good bye!\"\n",
    "print(message_string)\n"
   ]
  },
  {
   "cell_type": "markdown",
   "metadata": {
    "slideshow": {
     "slide_type": "skip"
    }
   },
   "source": [
    "## Errors\n",
    "- Python shows the location where an error occurs with a `^` symbol. \n",
    "- Two common errors that we encounter while writing Python are **SyntaxError** and **NameError**.\n",
    "- A **SyntaxError** means that there is something wrong with the way your program is written: punctuation that does not belong, a command where it is not expected, or a missing parenthesis can all trigger a **SyntaxError**.\n",
    "- A **NameError** occurs when the Python interpreter sees a word that it does not recognize. Code that contains something that looks like a variable but was never defined will throw a **NameError**."
   ]
  },
  {
   "cell_type": "code",
   "execution_count": 13,
   "metadata": {
    "slideshow": {
     "slide_type": "skip"
    }
   },
   "outputs": [
    {
     "ename": "SyntaxError",
     "evalue": "unterminated string literal (detected at line 1) (277418550.py, line 1)",
     "output_type": "error",
     "traceback": [
      "\u001b[1;36m  Cell \u001b[1;32mIn[13], line 1\u001b[1;36m\u001b[0m\n\u001b[1;33m    print('This string has mismatched quote marks!\")\u001b[0m\n\u001b[1;37m          ^\u001b[0m\n\u001b[1;31mSyntaxError\u001b[0m\u001b[1;31m:\u001b[0m unterminated string literal (detected at line 1)\n"
     ]
    }
   ],
   "source": [
    "print('This string has mismatching quotation marks and will throw an error!\")\n"
   ]
  },
  {
   "cell_type": "code",
   "execution_count": 14,
   "metadata": {
    "slideshow": {
     "slide_type": "skip"
    }
   },
   "outputs": [
    {
     "name": "stdout",
     "output_type": "stream",
     "text": [
      "This string has matched quote marks!\n"
     ]
    }
   ],
   "source": [
    "print('This string has matching quotation marks and will not throw an error!')\n"
   ]
  },
  {
   "cell_type": "code",
   "execution_count": 15,
   "metadata": {
    "slideshow": {
     "slide_type": "skip"
    }
   },
   "outputs": [
    {
     "ename": "NameError",
     "evalue": "name 'my_age' is not defined",
     "output_type": "error",
     "traceback": [
      "\u001b[1;31m---------------------------------------------------------------------------\u001b[0m",
      "\u001b[1;31mNameError\u001b[0m                                 Traceback (most recent call last)",
      "Cell \u001b[1;32mIn[15], line 2\u001b[0m\n\u001b[0;32m      1\u001b[0m \u001b[39m# we have not define a variable called my_age\u001b[39;00m\n\u001b[1;32m----> 2\u001b[0m \u001b[39mprint\u001b[39m(my_age)\n",
      "\u001b[1;31mNameError\u001b[0m: name 'my_age' is not defined"
     ]
    }
   ],
   "source": [
    "# we have not defined a variable called my_age\n",
    "print(my_age)\n"
   ]
  }
 ],
 "metadata": {
  "celltoolbar": "Slideshow",
  "kernelspec": {
   "display_name": "Python 3 (ipykernel)",
   "language": "python",
   "name": "python3"
  },
  "language_info": {
   "codemirror_mode": {
    "name": "ipython",
    "version": 3
   },
   "file_extension": ".py",
   "mimetype": "text/x-python",
   "name": "python",
   "nbconvert_exporter": "python",
   "pygments_lexer": "ipython3",
   "version": "3.10.7"
  },
  "toc-autonumbering": true,
  "toc-showcode": false,
  "vscode": {
   "interpreter": {
    "hash": "f2dd3983abb08711ebf993e9d2c0a41f3cbbd887271685058242b02efa6cdf3e"
   }
  }
 },
 "nbformat": 4,
 "nbformat_minor": 4
}
