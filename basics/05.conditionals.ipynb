{
 "cells": [
  {
   "cell_type": "markdown",
   "metadata": {
    "slideshow": {
     "slide_type": "slide"
    }
   },
   "source": [
    "# 5. Conditionals: if, then, else statements\n"
   ]
  },
  {
   "cell_type": "markdown",
   "metadata": {},
   "source": [
    "## 5.1 What is a conditional statement?\n",
    "A very important part of Python scripting, is the use of **conditional statements**. They make it possible to execute different operations and functions depending on certain conditions (if, then, else). Such a conditional statement has the following structure:\n",
    "\n",
    "<img src=\"images/ifelse.png\" alt=\"image\" width=\"400\" height=\"auto\"></img>\n",
    "\n",
    "Let's consider a very simple numeric example first:"
   ]
  },
  {
   "cell_type": "code",
   "execution_count": 1,
   "metadata": {},
   "outputs": [
    {
     "name": "stdout",
     "output_type": "stream",
     "text": [
      "a is greater than b\n"
     ]
    }
   ],
   "source": [
    "a = 12\n",
    "b = 5\n",
    "if a > b:\n",
    "    print(\"a is greater than b\")\n",
    "else:\n",
    "    print(\"a is not greater than b\")"
   ]
  },
  {
   "cell_type": "markdown",
   "metadata": {},
   "source": [
    "Notice the use of:\n",
    "- the keywords `if` and `else`\n",
    "- the colon symbol (`:`) to mark the end of the conditional and the beginning of the body block.\n",
    "- the comparison operator `>`\n",
    "- the indentation for the two body blocks."
   ]
  },
  {
   "cell_type": "markdown",
   "metadata": {},
   "source": [
    "## 5.2 if, elif, else\n",
    "Conditional statements can be combined and nested in a number of ways. The correct and clean use of indentation is critical in that case."
   ]
  },
  {
   "cell_type": "code",
   "execution_count": 2,
   "metadata": {},
   "outputs": [
    {
     "name": "stdout",
     "output_type": "stream",
     "text": [
      "a is greater than b\n"
     ]
    }
   ],
   "source": [
    "a = 12\n",
    "b = 5\n",
    "if a > b:\n",
    "    print(\"a is greater than b\")\n",
    "elif a == b: \n",
    "    print(\"a is equal to b\")\n",
    "else:\n",
    "    print(\"b is greater than a\")"
   ]
  },
  {
   "cell_type": "code",
   "execution_count": 3,
   "metadata": {},
   "outputs": [
    {
     "name": "stdout",
     "output_type": "stream",
     "text": [
      "a is greater than b\n",
      "Also, b is smaller than c\n"
     ]
    }
   ],
   "source": [
    "a = 12\n",
    "b = 5\n",
    "c = 13\n",
    "if a > b:\n",
    "    print(\"a is greater than b\")\n",
    "    if b < c:\n",
    "        print(\"Also, b is smaller than c\")\n",
    "    else:\n",
    "        print(\"Also, b is not smaller than c\")        \n",
    "elif a == b: \n",
    "    print(\"a is equal to b\")\n",
    "    if b < c:\n",
    "        print(\"Also, b is smaller than c\")\n",
    "    else:\n",
    "        print(\"Also, b is not smaller than c\")   \n",
    "else:\n",
    "    print(\"b is greater than a\")\n",
    "    if b < c:\n",
    "        print(\"Also, b is smaller than c\")\n",
    "    else:\n",
    "        print(\"Also, b is not smaller than c\")   "
   ]
  },
  {
   "cell_type": "markdown",
   "metadata": {},
   "source": [
    "## 5.3 If, else applied to user input example\n",
    "As an example, we are going to check here if the earlier given user input is a number or not, such that we can prevent the errors that we had. \n",
    "- If the input is a number, then we can proceed. \n",
    "- Else, if the input is not a number, we cannot make a conversion and we have to do something else."
   ]
  },
  {
   "cell_type": "code",
   "execution_count": 4,
   "metadata": {
    "slideshow": {
     "slide_type": "slide"
    }
   },
   "outputs": [],
   "source": [
    "def celsius_to_fahrenheit(deg_c):\n",
    "    deg_f = deg_c * 9/5 + 32\n",
    "    return f\"It is {deg_c}°C ({deg_f}°F) in Eindhoven today.\""
   ]
  },
  {
   "cell_type": "code",
   "execution_count": 5,
   "metadata": {
    "slideshow": {
     "slide_type": "subslide"
    }
   },
   "outputs": [
    {
     "name": "stdout",
     "output_type": "stream",
     "text": [
      "Cannot convert a non numeric value, sorry!\n"
     ]
    }
   ],
   "source": [
    "user_input = input('Give the temperature in degrees celsius and I will convert it to Fahrenheit!')\n",
    "\n",
    "if user_input.isdigit(): # validation. isdigit method checks if all the characters in the text are digits.\n",
    "    user_input_as_num = int(user_input) # type casting\n",
    "    deg_f = celsius_to_fahrenheit(user_input_as_num) # calling the conversion function\n",
    "    print(deg_f)\n",
    "else: # validation\n",
    "    print('Cannot convert a non-numeric value, sorry!')\n",
    "\n",
    "# Now, our code runs without a problem, even if the input is a text!"
   ]
  },
  {
   "cell_type": "markdown",
   "metadata": {
    "slideshow": {
     "slide_type": "slide"
    }
   },
   "source": [
    "Let's define a function for validating the user input and perform the conversion"
   ]
  },
  {
   "cell_type": "code",
   "execution_count": 6,
   "metadata": {
    "slideshow": {
     "slide_type": "fragment"
    }
   },
   "outputs": [],
   "source": [
    "def validate_input_and_convert():\n",
    "    \n",
    "    user_input = input('Give the temperature in degrees celsius and I will convert it to Fahrenheit!')\n",
    "    \n",
    "    if user_input.isdigit():\n",
    "        user_input_as_num = int(user_input)\n",
    "        deg_f = celsius_to_fahrenheit(user_input_as_num)\n",
    "        print(deg_f)\n",
    "    else:\n",
    "        print('Cannot convert a non numeric value, sorry!')"
   ]
  },
  {
   "cell_type": "markdown",
   "metadata": {},
   "source": [
    "Now we have our full function available that we can use as needed and preferred."
   ]
  },
  {
   "cell_type": "code",
   "execution_count": 5,
   "metadata": {
    "slideshow": {
     "slide_type": "fragment"
    }
   },
   "outputs": [
    {
     "name": "stdout",
     "output_type": "stream",
     "text": [
      "It is 12°C (53.6°F) in Eindhoven today.\n"
     ]
    }
   ],
   "source": [
    "validate_input_and_convert()"
   ]
  }
 ],
 "metadata": {
  "celltoolbar": "Slideshow",
  "kernelspec": {
   "display_name": "Python 3 (ipykernel)",
   "language": "python",
   "name": "python3"
  },
  "language_info": {
   "codemirror_mode": {
    "name": "ipython",
    "version": 3
   },
   "file_extension": ".py",
   "mimetype": "text/x-python",
   "name": "python",
   "nbconvert_exporter": "python",
   "pygments_lexer": "ipython3",
   "version": "3.9.1"
  },
  "vscode": {
   "interpreter": {
    "hash": "328d38edb4a47e72717e062bae5904cf5f8811ba316934a40a547226342d9fc7"
   }
  }
 },
 "nbformat": 4,
 "nbformat_minor": 2
}
