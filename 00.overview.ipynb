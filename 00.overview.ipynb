{
 "cells": [
  {
   "cell_type": "markdown",
   "metadata": {
    "slideshow": {
     "slide_type": "slide"
    }
   },
   "source": [
    "# 0. Python Tutorial - Welcome\n",
    "This is a tutorial created at the ISBE Information Systems group of the Built Environment Department of Eindhoven University of Technology. This tutorial targets beginning users, and helps you on your way step by step using several Python notebooks. \n"
   ]
  },
  {
   "cell_type": "markdown",
   "metadata": {},
   "source": [
    "## 0.1 About Python\n",
    "![Python logo](images/pythonlogo.png \"Python logo\")\n",
    "\n",
    "Python is a powerful, general-purpose programming language with a wide range of applications such as: \n",
    " - Data science: analytics and visualization\n",
    " - Machine learning\n",
    " - Web development: websites and web apps\n",
    "\n",
    "Python supports a large collection of libraries and frameworks, and so it can be used for many purposes. Popular libraries are:\n",
    " - Data science: pandas, numpy, matplotlib\n",
    " - Machine learning: scikit-learn, TensorFlow, openCV\n",
    " - Web development: Django, Flask, FastAPI"
   ]
  },
  {
   "cell_type": "markdown",
   "metadata": {
    "slideshow": {
     "slide_type": "subslide"
    }
   },
   "source": [
    "# 0.2 How to go through the Tutorial\n",
    "All material in this tutorial is made available via the TUe-ISBE GitHub environment: https://github.com/ISBE-TUe/python-tutorial. This repository contains several Python notebooks (.ipynb). \n",
    "\n",
    "<img src=\"images/githubRepo.png\" alt=\"image\" width=\"600\" height=\"auto\"></img>\n",
    "\n",
    "Python notebooks provide:\n",
    "- an interactive document to write, execute and share code,\n",
    "- a front-end interface to write code, \n",
    "- and an ipykernel to run code\n",
    "\n",
    "The advantages of using Python notebooks is that you can run each cell of a Notebook individually. This makes the tutorial easy to follow. And thus Python Notebooks are suitable for exploring code, incl. this tutorial. It is possible to execute these Python notebooks on your own machine, yet we will run the notebooks using Google Colab.\n",
    "\n",
    "<img src=\"images/runningCodeInPyNB.png\" alt=\"image\" width=\"800\" height=\"auto\"></img>\n",
    "\n",
    "To go through this tutorial step by step, it is recommended to follow these steps:\n",
    "1. Go to Google Colab: https://colab.google/\n",
    "2. Open Google Colab\n",
    "3. In Google Colab, click `Open Notebook`\n",
    "4. Select `GitHub`\n",
    "5. Enter the correct GitHub URL: https://github.com/ISBE-TUe/python-tutorial\n",
    "6. Select the .ipynb Python Notebook that you wish to open, e.g. 01.gettingstarted.ipynb\n",
    "\n",
    "<img src=\"images/GoogleColab.png\" alt=\"image\" width=\"600\" height=\"auto\"></img>"
   ]
  },
  {
   "cell_type": "markdown",
   "metadata": {
    "slideshow": {
     "slide_type": "slide"
    }
   },
   "source": [
    "## 0.3 Outline\n",
    "The tutorial has a few parts. The first part introduces all basic information about Python. This information helps you on your way for data analytics and basic scripts. The second part focuses more on objects and classes, which is of use for more complex object-oriented scripting. The third part of the tutorial focuses entirely on the use of IfcOpenShell, which allows you to process IFC files that are available in BIM software.\n",
    "\n",
    "1- Basics\n",
    "01. Getting started\n",
    "02. Variables, Data types, and Operators\n",
    "03. Functions\n",
    "04. User input\n",
    "05. Conditionals: if else\n",
    "06. Loops: while, for\n",
    "07. Lists\n",
    "08. Sets\n",
    "09. Dictionaries\n",
    "10. Modules\n",
    "11. Using an API\n",
    "\n",
    "2- Advanced\n",
    "01. Object-oriented coding\n",
    "02. IfcOpenShell coding\n",
    "03. Pandas Data Handling\n",
    "04. Matplotlib plotting\n",
    "05. Regression models\n",
    "06. Django\n"
   ]
  },
  {
   "cell_type": "markdown",
   "metadata": {
    "slideshow": {
     "slide_type": "slide"
    }
   },
   "source": [
    "# 0.4 Success, Good Luck, and Enjoy🎉🎉🎉\n",
    "Whenever you code, remember to:\n",
    "1. Use Google a lot:\n",
    "    - to find out what an error message means\n",
    "    - to find example scripts (do not copy blindly)\n",
    "    - to find answers to the simplest questions\n",
    "2. Celebrate your wins\n",
    "3. Not panic\n",
    "4. Sleep"
   ]
  }
 ],
 "metadata": {
  "celltoolbar": "Slideshow",
  "kernelspec": {
   "display_name": "Python 3 (ipykernel)",
   "language": "python",
   "name": "python3"
  },
  "language_info": {
   "codemirror_mode": {
    "name": "ipython",
    "version": 3
   },
   "file_extension": ".py",
   "mimetype": "text/x-python",
   "name": "python",
   "nbconvert_exporter": "python",
   "pygments_lexer": "ipython3",
   "version": "3.10.7"
  },
  "vscode": {
   "interpreter": {
    "hash": "328d38edb4a47e72717e062bae5904cf5f8811ba316934a40a547226342d9fc7"
   }
  }
 },
 "nbformat": 4,
 "nbformat_minor": 2
}
