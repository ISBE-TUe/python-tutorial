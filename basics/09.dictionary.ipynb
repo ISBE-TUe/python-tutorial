{
 "cells": [
  {
   "cell_type": "markdown",
   "metadata": {
    "slideshow": {
     "slide_type": "slide"
    }
   },
   "source": [
    "# 9. Dictionaries"
   ]
  },
  {
   "cell_type": "markdown",
   "metadata": {},
   "source": [
    "## 9.1 What is a dictionary\n",
    "A `Dictionary` is another collection data type that is available by default in Python (built-in data type). These are all collection data types:\n",
    "- `List` is a collection which is ordered and changeable. Allows duplicate members.\n",
    "- `Tuple` is a collection which is ordered and unchangeable. Allows duplicate members.\n",
    "- `Set` is a collection which is unordered, unchangeable, and unindexed. No duplicate members.\n",
    "- **`Dictionary` is a collection which is ordered and changeable. No duplicate members.**\n",
    "\n",
    "A unique feature of a dictionary is that it contains **key - value pairs**. A key-value pair is a pair of a key and a value separated by a colon `:`. The values can hold and be a mix of different data types, including lists or even nested dictionaries. This makes this data type very different from sets and lists, and generally much more powerful. "
   ]
  },
  {
   "cell_type": "code",
   "execution_count": 1,
   "metadata": {
    "slideshow": {
     "slide_type": "subslide"
    }
   },
   "outputs": [
    {
     "data": {
      "text/plain": [
       "{'city': 'Eindhoven', 'universities': ['TUe', 'Fontys']}"
      ]
     },
     "execution_count": 1,
     "metadata": {},
     "output_type": "execute_result"
    }
   ],
   "source": [
    "my_dictionary = {\n",
    "  \"city\": \"Eindhoven\",\n",
    "  \"universities\": [\"TUe\", \"Fontys\"],\n",
    "}\n",
    "\n",
    "my_dictionary"
   ]
  },
  {
   "cell_type": "markdown",
   "metadata": {
    "slideshow": {
     "slide_type": "fragment"
    }
   },
   "source": [
    "## 9.2 Functions for dictionaries\n",
    "In contrast to other data structures such as lists, sets, and tuples, there are no built-in ways to use indexing and slicing to access the values in a certain order in the dictionaries. \n",
    "\n",
    "**A value within a dictionary is typically accessed using its key.**"
   ]
  },
  {
   "cell_type": "code",
   "execution_count": 2,
   "metadata": {
    "slideshow": {
     "slide_type": "fragment"
    }
   },
   "outputs": [
    {
     "data": {
      "text/plain": [
       "'Eindhoven'"
      ]
     },
     "execution_count": 2,
     "metadata": {},
     "output_type": "execute_result"
    }
   ],
   "source": [
    "my_dictionary['city']"
   ]
  },
  {
   "cell_type": "code",
   "execution_count": 3,
   "metadata": {
    "slideshow": {
     "slide_type": "fragment"
    }
   },
   "outputs": [
    {
     "data": {
      "text/plain": [
       "['TUe', 'Fontys']"
      ]
     },
     "execution_count": 3,
     "metadata": {},
     "output_type": "execute_result"
    }
   ],
   "source": [
    "my_dictionary.get('universities')"
   ]
  },
  {
   "cell_type": "markdown",
   "metadata": {
    "slideshow": {
     "slide_type": "subslide"
    }
   },
   "source": [
    "Likewise, values can be updated in the dictionary using its key:"
   ]
  },
  {
   "cell_type": "code",
   "execution_count": 4,
   "metadata": {},
   "outputs": [
    {
     "data": {
      "text/plain": [
       "{'city': 'Eindhoven', 'universities': ['TUe', 'Fontys', 'Utrecht University']}"
      ]
     },
     "execution_count": 4,
     "metadata": {},
     "output_type": "execute_result"
    }
   ],
   "source": [
    "my_dictionary['universities'] = [\"TUe\", \"Fontys\", \"Utrecht University\"]\n",
    "my_dictionary"
   ]
  },
  {
   "cell_type": "markdown",
   "metadata": {},
   "source": [
    "Similarly, a new key-value pair can be added to a dictionary:"
   ]
  },
  {
   "cell_type": "code",
   "execution_count": 5,
   "metadata": {
    "scrolled": true,
    "slideshow": {
     "slide_type": "fragment"
    }
   },
   "outputs": [
    {
     "data": {
      "text/plain": [
       "{'city': 'Eindhoven',\n",
       " 'universities': ['TUe', 'Fontys', 'Utrecht University'],\n",
       " 'population': 200000}"
      ]
     },
     "execution_count": 5,
     "metadata": {},
     "output_type": "execute_result"
    }
   ],
   "source": [
    "my_dictionary['population'] = 200000\n",
    "my_dictionary"
   ]
  },
  {
   "cell_type": "markdown",
   "metadata": {
    "slideshow": {
     "slide_type": "slide"
    }
   },
   "source": [
    "# 9.3 Dictionaries applied to our example\n",
    "Instead of providing a list of temperature values, let's instead input temperature and city combined. And let's use a dictionary to provide such input. In the below example, such dictionary is created (line 8), and contains just one city and temperature. The dictionary does not include a list of cities and temperatures. Can you see why this is the case in the code example below?"
   ]
  },
  {
   "cell_type": "code",
   "execution_count": 6,
   "metadata": {
    "slideshow": {
     "slide_type": "subslide"
    }
   },
   "outputs": [
    {
     "name": "stdout",
     "output_type": "stream",
     "text": [
      "['10', ' Eindhoven']\n",
      "{'temp': '10', 'city': ' Eindhoven'}\n",
      "['20', ' Paris']\n",
      "{'temp': '20', 'city': ' Paris'}\n"
     ]
    }
   ],
   "source": [
    "user_input = input('Give one pair of temperature and city seperated by a comma (,) : ')\n",
    "while user_input != 'exit':\n",
    "    # .split() produces an array containing the elemnts\n",
    "    temp_and_city = user_input.split(\",\")\n",
    "    print(temp_and_city) #prints the array\n",
    "    \n",
    "    #creating a dictionary using the array objects\n",
    "    temp_and_city_dictionary = {\"temp\": temp_and_city[0], \"city\": temp_and_city[1]}\n",
    "    print(temp_and_city_dictionary) #prints the dictionary\n",
    "    \n",
    "    user_input = input('Give one pair of temperature and city seperated by a comma (,) : ')"
   ]
  },
  {
   "cell_type": "code",
   "execution_count": 7,
   "metadata": {
    "slideshow": {
     "slide_type": "fragment"
    }
   },
   "outputs": [
    {
     "data": {
      "text/plain": [
       "{'temp': '20', 'city': ' Paris'}"
      ]
     },
     "execution_count": 7,
     "metadata": {},
     "output_type": "execute_result"
    }
   ],
   "source": [
    "temp_and_city_dictionary"
   ]
  },
  {
   "cell_type": "markdown",
   "metadata": {},
   "source": [
    "The below code fragment combines the above with our earlier example. See what it does by stepping through the code line by line."
   ]
  },
  {
   "cell_type": "code",
   "execution_count": 8,
   "metadata": {},
   "outputs": [
    {
     "name": "stdout",
     "output_type": "stream",
     "text": [
      "It is 10°C (50.0°F) in Eindhoven today.\n",
      "It is 50°C (122.0°F) in Paris today.\n"
     ]
    }
   ],
   "source": [
    "def celsius_to_fahrenheit(deg_c):\n",
    "    return deg_c * 9/5 + 32\n",
    "\n",
    "def validate_input_and_convert(user_input):\n",
    "    temp_and_city = user_input.split(\",\")\n",
    "    temp_and_city_dictionary = {\"temp\": temp_and_city[0], \"city\": temp_and_city[1]}\n",
    "    \n",
    "    if temp_and_city_dictionary['temp'].isdigit():\n",
    "        user_input_as_num = int(temp_and_city_dictionary['temp'])\n",
    "        deg_f = celsius_to_fahrenheit(user_input_as_num)\n",
    "        return f\"It is {user_input_as_num}°C ({deg_f}°F) in{temp_and_city_dictionary['city']} today.\"\n",
    "    else:\n",
    "        print('Cannot convert a non-numeric value, sorry!')\n",
    "    \n",
    "user_input = input('Give the temperature and City seperated by a ,!')\n",
    "while user_input != \"exit\": # Note the colon and indentation.\n",
    "    output = validate_input_and_convert(user_input)\n",
    "    print(output)\n",
    "    user_input = input('Give the temperature and City seperated by a ,!')"
   ]
  }
 ],
 "metadata": {
  "celltoolbar": "Slideshow",
  "kernelspec": {
   "display_name": "Python 3 (ipykernel)",
   "language": "python",
   "name": "python3"
  },
  "language_info": {
   "codemirror_mode": {
    "name": "ipython",
    "version": 3
   },
   "file_extension": ".py",
   "mimetype": "text/x-python",
   "name": "python",
   "nbconvert_exporter": "python",
   "pygments_lexer": "ipython3",
   "version": "3.9.1"
  },
  "vscode": {
   "interpreter": {
    "hash": "328d38edb4a47e72717e062bae5904cf5f8811ba316934a40a547226342d9fc7"
   }
  }
 },
 "nbformat": 4,
 "nbformat_minor": 2
}
