{
 "cells": [
  {
   "cell_type": "markdown",
   "metadata": {
    "slideshow": {
     "slide_type": "slide"
    }
   },
   "source": [
    "# 6. Loops (for, while) to execute logic multiple times"
   ]
  },
  {
   "cell_type": "markdown",
   "metadata": {},
   "source": [
    "Up until now, we are not able to execute our code multiple times, except by starting it manually time and time again. To let it run repeatedly, we need to use **loops**, more precisely a **for-loop** or a **while-loop**.\n",
    "- `while` loop: this loop permits code to execute repeatedly until a certain condition is met. This is useful if the number of iterations required to complete a task is unknown prior to entering the loop.\n",
    "- `for` loop: this loop allows to execute code a specified number of times. This is often safer than the `while` loop, because the `while` loop may execute forever if the ending condition does not change."
   ]
  },
  {
   "cell_type": "markdown",
   "metadata": {},
   "source": [
    "## 6.1 While loop\n",
    "A while-loop has the following structure:\n",
    "\n",
    "<img src=\"images/while.png\" alt=\"image\" width=\"400\" height=\"auto\"></img>\n",
    "\n",
    "Let's go through a simple example again first, where we count to ten, but stop counting when we reach 5:"
   ]
  },
  {
   "cell_type": "code",
   "execution_count": 2,
   "metadata": {},
   "outputs": [
    {
     "name": "stdout",
     "output_type": "stream",
     "text": [
      "1\n",
      "2\n",
      "3\n",
      "4\n",
      "5\n",
      "finished\n"
     ]
    }
   ],
   "source": [
    "i = 1\n",
    "while i < 10:\n",
    "    print(i)\n",
    "    if i == 5:\n",
    "        break\n",
    "    i+=1\n",
    "print('finished')"
   ]
  },
  {
   "cell_type": "markdown",
   "metadata": {},
   "source": [
    "Again, notice the use of:\n",
    "- the keywords `while`, `if` and `break`\n",
    "- the colon symbol (`:`) to mark the end of the while statement and the beginning of the body block (same for the conditional statement).\n",
    "- the comparison operator `<`\n",
    "- the nested indentation for the two body blocks.\n",
    "\n",
    "The above statement indicates that a loop will start with variable `i` with value `1`. The condition statement is `i < 10`. Thus, the code will keep being executed until this condition is not `True` any more (`i` has value `10`). \n",
    "\n",
    "Each time that the code iterates through the `while` loop, it will print the value of `i` (line 3). Each time, it will also go through an `if` conditional (line 4-5), and it will then update the value of `i` with `i+1` (line 6).\n",
    "\n",
    "Only an `if`-statement is included, no `else`-statement. So this conditional block (line 5) will only execute when this condition is met (`i == 5`). In all other cases, this conditional block is not executed. \n",
    "\n",
    "When variable `i` reaches value `5`, the `break` statement is executed, which is a keyword that indicates that the above loop (`while`) needs to be interrupted. The code then proceeds after the `while`-loop (line 7) and finishes. \n",
    "\n"
   ]
  },
  {
   "cell_type": "markdown",
   "metadata": {},
   "source": [
    "## 6.2 While loop applied to our example"
   ]
  },
  {
   "cell_type": "markdown",
   "metadata": {},
   "source": [
    "Let's put our earlier functions in a loop, such that the code endlessly asks for input that it can convert, until we stop the code."
   ]
  },
  {
   "cell_type": "code",
   "execution_count": 3,
   "metadata": {
    "slideshow": {
     "slide_type": "subslide"
    }
   },
   "outputs": [],
   "source": [
    "def celsius_to_fahrenheit(deg_c):\n",
    "    deg_f = deg_c * 9/5 + 32\n",
    "    return f\"It is {deg_c}°C ({deg_f}°F) in Eindhoven today.\""
   ]
  },
  {
   "cell_type": "code",
   "execution_count": 4,
   "metadata": {
    "slideshow": {
     "slide_type": "fragment"
    }
   },
   "outputs": [],
   "source": [
    "def validate_input_and_convert():\n",
    "\n",
    "    user_input = input('Give the temperature in degrees celsius and I will convert it to Fahrenheit!')\n",
    "\n",
    "    if user_input.isdigit():\n",
    "        user_input_as_num = int(user_input)\n",
    "        deg_f = celsius_to_fahrenheit(user_input_as_num)\n",
    "        print(deg_f)\n",
    "    else:\n",
    "        print('Cannot convert a non numeric value, sorry!')"
   ]
  },
  {
   "cell_type": "markdown",
   "metadata": {},
   "source": [
    "The below code runs forever, because the stopping condition does not change! Be careful with this, you can only stop this function by manually killing it."
   ]
  },
  {
   "cell_type": "code",
   "execution_count": 5,
   "metadata": {
    "slideshow": {
     "slide_type": "subslide"
    }
   },
   "outputs": [
    {
     "name": "stdout",
     "output_type": "stream",
     "text": [
      "It is 20°C (68.0°F) in Eindhoven today.\n",
      "Cannot convert a non numeric value, sorry!\n",
      "Cannot convert a non numeric value, sorry!\n",
      "It is 20°C (68.0°F) in Eindhoven today.\n",
      "It is 30°C (86.0°F) in Eindhoven today.\n",
      "It is 30°C (86.0°F) in Eindhoven today.\n",
      "Cannot convert a non numeric value, sorry!\n",
      "Cannot convert a non numeric value, sorry!\n",
      "Cannot convert a non numeric value, sorry!\n"
     ]
    }
   ],
   "source": [
    "# Be careful: this loop runs forever!\n",
    "while True:\n",
    "    validate_input_and_convert()"
   ]
  },
  {
   "cell_type": "markdown",
   "metadata": {},
   "source": [
    "It is much safer to immediately include an appropriate stopping condition, as shown in the below code. What do you have to do to stop the below `while`-loop?"
   ]
  },
  {
   "cell_type": "code",
   "execution_count": 2,
   "metadata": {
    "slideshow": {
     "slide_type": "slide"
    }
   },
   "outputs": [
    {
     "name": "stdout",
     "output_type": "stream",
     "text": [
      "Cannot convert a non numeric value, sorry!\n",
      "It is 20°C (68.0°F) in Eindhoven today.\n",
      "It is 30°C (86.0°F) in Eindhoven today.\n",
      "It is 15°C (59.0°F) in Eindhoven today.\n"
     ]
    }
   ],
   "source": [
    "def celsius_to_fahrenheit(deg_c):\n",
    "    deg_f = deg_c * 9/5 + 32\n",
    "    return f\"It is {deg_c}°C ({deg_f}°F) in Eindhoven today.\"\n",
    "\n",
    "def validate_input_and_convert(user_input):\n",
    "    if user_input.isdigit():\n",
    "        user_input_as_num = int(user_input)\n",
    "        deg_f = celsius_to_fahrenheit(user_input_as_num)\n",
    "        print(deg_f)\n",
    "    else:\n",
    "        print('Cannot convert a non numeric value, sorry!')\n",
    "    \n",
    "user_input = ''\n",
    "while user_input != \"exit\": # Note the colon and indentation.\n",
    "    validate_input_and_convert(user_input)\n",
    "    user_input = input('Give the temperature in degrees celsius and I will convert it to Fahrenheit!')"
   ]
  },
  {
   "cell_type": "markdown",
   "metadata": {},
   "source": [
    "*Task:* Can you find out why the code is written as above? And why we do not just use the functions that we defined earlier\"?"
   ]
  },
  {
   "cell_type": "markdown",
   "metadata": {},
   "source": [
    "## 6.2 For loop"
   ]
  },
  {
   "cell_type": "markdown",
   "metadata": {},
   "source": [
    "With the `for` loop, we can execute a set of statements, once for each item in a list, tuple, set etc. A for-loop has the following structure:\n",
    "\n",
    "<img src=\"images/forloop.png\" alt=\"image\" width=\"400\" height=\"auto\"></img>\n",
    "\n",
    "Let's go through a simple example again, where we count to ten, but stop counting when we reach 5:"
   ]
  },
  {
   "cell_type": "code",
   "execution_count": 4,
   "metadata": {},
   "outputs": [
    {
     "name": "stdout",
     "output_type": "stream",
     "text": [
      "1\n",
      "2\n",
      "3\n",
      "4\n",
      "5\n",
      "finished\n"
     ]
    }
   ],
   "source": [
    "i = 1\n",
    "for i in range(1,6):\n",
    "    print(i)\n",
    "    i+=1\n",
    "print('finished')"
   ]
  },
  {
   "cell_type": "markdown",
   "metadata": {},
   "source": [
    "Again, notice the use of:\n",
    "- the keywords `for`, and `in`\n",
    "- the colon symbol (`:`) to mark the end of the `for` statement and the beginning of the body block.\n",
    "- the `range` built-in function\n",
    "- the indentation for the body block."
   ]
  }
 ],
 "metadata": {
  "celltoolbar": "Slideshow",
  "kernelspec": {
   "display_name": "Python 3 (ipykernel)",
   "language": "python",
   "name": "python3"
  },
  "language_info": {
   "codemirror_mode": {
    "name": "ipython",
    "version": 3
   },
   "file_extension": ".py",
   "mimetype": "text/x-python",
   "name": "python",
   "nbconvert_exporter": "python",
   "pygments_lexer": "ipython3",
   "version": "3.9.1"
  },
  "vscode": {
   "interpreter": {
    "hash": "328d38edb4a47e72717e062bae5904cf5f8811ba316934a40a547226342d9fc7"
   }
  }
 },
 "nbformat": 4,
 "nbformat_minor": 2
}
