{
  "metadata": {
    "celltoolbar": "Slideshow",
    "vscode": {
      "interpreter": {
        "hash": "328d38edb4a47e72717e062bae5904cf5f8811ba316934a40a547226342d9fc7"
      }
    },
    "kernelspec": {
      "name": "python",
      "display_name": "Python (Pyodide)",
      "language": "python"
    },
    "language_info": {
      "codemirror_mode": {
        "name": "python",
        "version": 3
      },
      "file_extension": ".py",
      "mimetype": "text/x-python",
      "name": "python",
      "nbconvert_exporter": "python",
      "pygments_lexer": "ipython3",
      "version": "3.8"
    }
  },
  "nbformat_minor": 4,
  "nbformat": 4,
  "cells": [
    {
      "cell_type": "markdown",
      "source": "# 2. Variables, Data Types and Operators",
      "metadata": {
        "slideshow": {
          "slide_type": "slide"
        }
      }
    },
    {
      "cell_type": "markdown",
      "source": "## 2.1 Variables\n### What is a variable?\nPython stores data in **Variables**. Variables are containers for storing values: you can put any value in it. It is then possible to do calculations and computations with these variables.\n\nIn Python, we assign variables by using the equals symbol: `=`. ",
      "metadata": {}
    },
    {
      "cell_type": "code",
      "source": "x = 5\ny = \"Pieter\"\nprint(x)\nprint(y)",
      "metadata": {
        "trusted": true
      },
      "execution_count": 14,
      "outputs": [
        {
          "name": "stdout",
          "text": "5\nPieter\n",
          "output_type": "stream"
        }
      ]
    },
    {
      "cell_type": "markdown",
      "source": "### Declaring variables\nIn other programming languages, a variable often has to be `declared`. That means that one defines a name and characteristics for it. Characteristics of a variable are mainly its data type. Declaring a variable is not needed in the case of Python: Python finds out its name and characteristics on its own. One can simply create a variable by writing its name and assigning a value to it.\n\nThis means that variables do not need to be declared with any particular type, and can even change type after they have been set.",
      "metadata": {}
    },
    {
      "cell_type": "code",
      "source": "# declaring a variable is not needed in Python (SyntaxError for below line)\n# int x = 3\n\n# you can just place the name and data type\ny = 3\n\nprint(y)\n\n# And a variable can change value (and data type!) any time. It keeps the last assigned value and data type all the time.\n# This is one of the reasons why Python is so popular: it is short and very flexible.\ny = \"now it is a string\"\n\nprint(x)\nprint(y)",
      "metadata": {
        "trusted": true
      },
      "execution_count": 4,
      "outputs": [
        {
          "name": "stdout",
          "text": "3\n5\nnow it is a string\n",
          "output_type": "stream"
        }
      ]
    },
    {
      "cell_type": "markdown",
      "source": "### Naming variables\nWhen naming variables, you cannot use reserved keywords. ",
      "metadata": {}
    },
    {
      "cell_type": "code",
      "source": "# You cannot use reserved keywords as variable names. Reserved keywords are printed below, using the keyword package in Python. \n# Normally, your IDE hints (different color) if you choose a keyword for a variable, so you can avoid it.\n\nimport keyword\n\nprint(keyword.kwlist)",
      "metadata": {
        "trusted": true
      },
      "execution_count": 10,
      "outputs": [
        {
          "name": "stdout",
          "text": "['False', 'None', 'True', 'and', 'as', 'assert', 'async', 'await', 'break', 'class', 'continue', 'def', 'del', 'elif', 'else', 'except', 'finally', 'for', 'from', 'global', 'if', 'import', 'in', 'is', 'lambda', 'nonlocal', 'not', 'or', 'pass', 'raise', 'return', 'try', 'while', 'with', 'yield']\n",
          "output_type": "stream"
        }
      ]
    },
    {
      "cell_type": "markdown",
      "source": "You can name a variable anything, as long as it obeys the following three rules:\n1. It can be only one word.\n2. It can use only letters, numbers, and the underscore (`_`) character.\n3. It cannot begin with a number.\n\nIt is highly recommended and standard practice to give your variables **well-defined, good, and meaningful names**, so that you can understand them as a developer. This is the very basic starting point in coding.",
      "metadata": {}
    },
    {
      "cell_type": "code",
      "source": "# Do not use variable names that are not meaningful\nmyVariable = 3\nmyRealVar = 5\nNoThisIsTheRealVariable = 7\nOhNeverMind = myVariable + NoThisIsTheRealVariable\n\nprint(OhNeverMind)\n\ntemperature = 27\nday = 15\nmonth = \"November\"\n\nprint(str(day) + \" \" + month)",
      "metadata": {
        "trusted": true
      },
      "execution_count": 13,
      "outputs": [
        {
          "name": "stdout",
          "text": "10\n15 November\n",
          "output_type": "stream"
        }
      ]
    },
    {
      "cell_type": "markdown",
      "source": "### Working with variables\nIf the context of a program changes, we can update a variable but perform the same logical process on it. \n\nWe want to create a variable `message_string`, assign a welcome message if a customer enters our online store, and print the greeting. Then we want to wish them goodbye at the end. We then update `message_string` to a departure message and print that out.",
      "metadata": {}
    },
    {
      "cell_type": "code",
      "source": "# Greeting\nmessage_string = \"Hello there!\"\nprint(message_string)\n\n# Farewell\nmessage_string = \"Thank you, good bye!\"\nprint(message_string)",
      "metadata": {
        "trusted": true
      },
      "execution_count": 6,
      "outputs": [
        {
          "name": "stdout",
          "text": "Hello there!\nThank you, good bye!\n",
          "output_type": "stream"
        }
      ]
    },
    {
      "cell_type": "markdown",
      "source": "## 2.2 Data Types\n### Five simple data types\nVariables can hold data of several **data types**. Python uses 5 simple data types:\n1. `int` - integer: integer value (number with no floating point)\n2. `float` - float: floating point number\n3. `str` - string: sequence of characters\n4. `list` - list: list of datatypes\n5. `bool` - boolean: binary value (True or False)",
      "metadata": {}
    },
    {
      "cell_type": "code",
      "source": "myInt = 1\nmyFloat = 3.1415\nmyStr = \"Eindhoven University of Technology ... !?\"\nmyList = [2, 4, 42, 3.1415, 5000]\nmyBool = False\n\nprint(myBool)",
      "metadata": {
        "trusted": true
      },
      "execution_count": 9,
      "outputs": [
        {
          "name": "stdout",
          "text": "False\n",
          "output_type": "stream"
        }
      ]
    },
    {
      "cell_type": "markdown",
      "source": "### Working with number types (int and float)\nPython has two main number types: integers and floats. Which one you use depends on your intended purpose. \n\nIntegers (`int`) are a set of numbers that include all whole numbers (zero and positive numbers) as well as negative numbers. Integers do not include fractions or decimals. They are used to count whole numbers. For example, if you were counting the number of people in a room, you would likely use an integer.\n\n> {..., -5, -4, -3, -2, -1, 0, 1, 2, 3, 4, 5, ...}\n\nFloating point numbers (`float`) are real numbers a floating decimal point. Floating point numbers get their name from the way the decimal point can \"float\" to any position necessary. It can be used to represent fractional quantities as well as precise measurements. If you were measuring the length of your table, or temperature in a room, you would likely use a float.\n\n> {..., -5.3492, -1.2, 0.547, -102342.15, ...}",
      "metadata": {
        "slideshow": {
          "slide_type": "slide"
        }
      }
    },
    {
      "cell_type": "code",
      "source": "num_people = 35 # This is an integer\ntable_length = 128.3 # This is a float\n\nprint(type(num_people))\nprint(type(table_length))",
      "metadata": {
        "slideshow": {
          "slide_type": "subslide"
        },
        "trusted": true
      },
      "execution_count": 15,
      "outputs": [
        {
          "name": "stdout",
          "text": "<class 'int'>\n<class 'float'>\n",
          "output_type": "stream"
        }
      ]
    },
    {
      "cell_type": "markdown",
      "source": "### Working with text types (string)\nDevelopers refer to blocks of text as strings. In Python, a string is either surrounded by double quotes (\"Hello world\") or single quotes ('Hello world').",
      "metadata": {}
    },
    {
      "cell_type": "code",
      "source": "print(\"It is 13°C in Eindhoven today.\")",
      "metadata": {
        "slideshow": {
          "slide_type": "fragment"
        }
      },
      "execution_count": null,
      "outputs": [
        {
          "name": "stdout",
          "output_type": "stream",
          "text": "It is 13°C in Eindhoven today.\n"
        }
      ]
    },
    {
      "cell_type": "markdown",
      "source": "By using three quote-marks (double or single quote symbol) instead of one, we tell the program that the string covers multiple lines, up until the next triple-quote (`\"\"\"`).",
      "metadata": {
        "slideshow": {
          "slide_type": "skip"
        }
      }
    },
    {
      "cell_type": "code",
      "source": "multiline_text = \"\"\"\nThis is a mutiline text!.\nThis is a mutiline text!.\nThis is a mutiline text!.\nThis is a mutiline text!.\nThis is a mutiline text!.\n\"\"\"\n\nprint(multiline_text)",
      "metadata": {
        "slideshow": {
          "slide_type": "skip"
        },
        "trusted": true
      },
      "execution_count": 28,
      "outputs": [
        {
          "name": "stdout",
          "text": "\nThis is a mutiline text!.\nThis is a mutiline text!.\nThis is a mutiline text!.\nThis is a mutiline text!.\nThis is a mutiline text!.\n\n",
          "output_type": "stream"
        }
      ]
    },
    {
      "cell_type": "markdown",
      "source": "Be careful, in Python, strings are actually **arrays of characters** (character = string with a length of 1). Square brackets (`[]`) can be used to access elements of the string. Like in any programming language, counting starts at zero (0), not one (1).",
      "metadata": {}
    },
    {
      "cell_type": "code",
      "source": "myString = \"This is Eindhoven!\"\n\nprint(myString[0])\nprint(myString[1])\nprint(myString[2])\nprint(myString[3])\nprint(myString[4])\nprint(myString[5])\nprint(myString[6])\nprint(\"...\")",
      "metadata": {
        "trusted": true
      },
      "execution_count": 32,
      "outputs": [
        {
          "name": "stdout",
          "text": "T\nh\ni\ns\n \ni\ns\n...\n",
          "output_type": "stream"
        }
      ]
    },
    {
      "cell_type": "markdown",
      "source": "## 2.3 Operators",
      "metadata": {
        "slideshow": {
          "slide_type": "skip"
        }
      }
    },
    {
      "cell_type": "markdown",
      "source": "Operators allow to perform operations on variables of particular data types. As such, you can make all kinds of calculations, computations, and operations. Depending on the datatype, different operators are available, such as a summation, a comparison of values, selection of characters, etc.\n\n### Arithmetic operators\nPython performs the arithmetic operations of addition, subtraction, multiplication, division, and exponent with `+`, `-`, `*`, `/`, and `**`.",
      "metadata": {
        "slideshow": {
          "slide_type": "skip"
        }
      }
    },
    {
      "cell_type": "code",
      "source": "# Addition and subtraction\nprint(573 - 74 + 1)\n \n# Multiplication\nprint(25 * 2)\n \n# Division\nprint(10 / 5)\n\n# Exponent\nprint(2 ** 2)",
      "metadata": {
        "slideshow": {
          "slide_type": "skip"
        },
        "trusted": true
      },
      "execution_count": 17,
      "outputs": [
        {
          "name": "stdout",
          "text": "500\n50\n2.0\n4\n",
          "output_type": "stream"
        }
      ]
    },
    {
      "cell_type": "markdown",
      "source": "The modulo operator is indicated by `%` and gives the remainder of a division calculation. If the number is divisible, then the result of the modulo operator will be 0.",
      "metadata": {
        "slideshow": {
          "slide_type": "skip"
        }
      }
    },
    {
      "cell_type": "code",
      "source": "# Prints 4 because 29 / 5 is 5 with a remainder of 4\nprint(29 % 5)",
      "metadata": {
        "slideshow": {
          "slide_type": "skip"
        }
      },
      "execution_count": 2,
      "outputs": [
        {
          "name": "stdout",
          "output_type": "stream",
          "text": "4\n"
        }
      ]
    },
    {
      "cell_type": "markdown",
      "source": "### Assignment operators\nUsing the equals sign (`=`), it is possible to assign values to variables. The same symbol can be used to update the value of the variable.",
      "metadata": {
        "slideshow": {
          "slide_type": "skip"
        }
      }
    },
    {
      "cell_type": "code",
      "source": "a = 2",
      "metadata": {},
      "execution_count": null,
      "outputs": []
    },
    {
      "cell_type": "markdown",
      "source": "Python offers a shorthand for updating variables. When you have a number saved in a variable and want to add to the current value of the variable, you can use the `+=` (plus-equals) operator.\n\n> `x += y`\n> is the same as\n> `x = x + y`",
      "metadata": {
        "slideshow": {
          "slide_type": "skip"
        }
      }
    },
    {
      "cell_type": "code",
      "source": "# Two variables as inputs\nnumber_of_hours_studied = 2\nadditionalHours = 6\n\n# Totalhours\ntotalHours = number_of_hours_studied + additionalHours\ntotalHours_alt = number_of_hours_studied + 6\nnumber_of_hours_studied += 6\nprint(\"Total of hours - long notation 1: \" + str(totalHours))\nprint(\"Total of hours - long notation 2: \" + str(totalHours_alt))\nprint(\"Total of hours - short notation: \" + str(number_of_hours_studied))",
      "metadata": {
        "slideshow": {
          "slide_type": "skip"
        },
        "trusted": true
      },
      "execution_count": 21,
      "outputs": [
        {
          "name": "stdout",
          "text": "Total of hours - long notation 1: 8\nTotal of hours - long notation 2: 8\nTotal of hours - short notation: 8\n",
          "output_type": "stream"
        }
      ]
    },
    {
      "cell_type": "markdown",
      "source": "### Comparison operators\nComparison operators are used to compare two values. The outcome from a comparison operator is a boolean value (`True` or `False`).",
      "metadata": {}
    },
    {
      "cell_type": "code",
      "source": "# input values\nx = 3\ny = 5\n\n# making comparisons\nprint(x==y)\nprint(x!=y)\nprint(x>y)\nprint(x<y)\nprint(x>=y)\n",
      "metadata": {
        "trusted": true
      },
      "execution_count": 29,
      "outputs": [
        {
          "name": "stdout",
          "text": "False\nTrue\nFalse\nTrue\nFalse\n",
          "output_type": "stream"
        }
      ]
    },
    {
      "cell_type": "markdown",
      "source": "### Logical operators\nLogical operators are used to combine conditional statements. These logical operators are `and`, `or`, and `not`.\n\n> `x and y`: output is `True` only if both are `True`\n> \n> `x or y`: output is `True` as soon as one is `True`",
      "metadata": {}
    },
    {
      "cell_type": "code",
      "source": "# input values\nx = False\ny = True\n\n# making comparisons\nprint(x and y)\nprint(x or y)\nprint(not y)",
      "metadata": {
        "trusted": true
      },
      "execution_count": 25,
      "outputs": [
        {
          "name": "stdout",
          "text": "False\nTrue\nFalse\n",
          "output_type": "stream"
        }
      ]
    },
    {
      "cell_type": "markdown",
      "source": "### String operators\nA number of operators allows to operate with strings. This includes **string concatenation** and **selection in strings**.\n\n#### String concatenation: \n\nThe `+` operator does not just add two numbers, it can also \"add\" two strings! The process of combining two strings is called string concatenation. Performing string concatenation creates a brand new string comprised of the first string's contents followed by the second string's contents (without any added space in-between).",
      "metadata": {
        "slideshow": {
          "slide_type": "slide"
        }
      }
    },
    {
      "cell_type": "code",
      "source": "weather_text = \"It is 13°C in Eindhoven today.\"\ngreeting_text = \"How are you feeling?\"\nfull_text = weather_text + greeting_text\n\nprint(full_text)",
      "metadata": {
        "slideshow": {
          "slide_type": "subslide"
        }
      },
      "execution_count": 1,
      "outputs": [
        {
          "name": "stdout",
          "output_type": "stream",
          "text": "It is 13°C in Eindhoven today.How are you feeling?\n"
        }
      ]
    },
    {
      "cell_type": "code",
      "source": "full_text = weather_text + \" \" + greeting_text\n\nprint(full_text)",
      "metadata": {
        "slideshow": {
          "slide_type": "skip"
        }
      },
      "execution_count": null,
      "outputs": [
        {
          "name": "stdout",
          "output_type": "stream",
          "text": "It is 13°C in Eindhoven today. How are you feeling today?\n"
        }
      ]
    },
    {
      "cell_type": "markdown",
      "source": "If you want to concatenate a string with a number you will need to make the number a string first, using the `str()` function. If you are trying to `print()` a numeric variable, you can use commas to pass it as a different argument rather than converting it to a string.",
      "metadata": {
        "slideshow": {
          "slide_type": "skip"
        }
      }
    },
    {
      "cell_type": "code",
      "source": "greeting_string_1 = \"It is \"\ntemp = 13\ngreeting_string_2 = \"°C in Eindhoven today.\"\ngreeting_string_3 = \" How are you feeling?\"\n \n# Concatenating an integer with strings is possible \n# if we turn the integer into a string first\nfull_greeting_string = greeting_string_1 + str(temp) + greeting_string_2 + greeting_string_3\n \n\nprint(full_greeting_string)",
      "metadata": {
        "slideshow": {
          "slide_type": "skip"
        }
      },
      "execution_count": null,
      "outputs": [
        {
          "name": "stdout",
          "output_type": "stream",
          "text": "It is 13°C in Eindhoven today. How are you feeling?\n"
        }
      ]
    },
    {
      "cell_type": "markdown",
      "source": "Using `str()`, we can convert variables that are not strings to strings and then concatenate them. But we don’t need to convert a number to a string for it to be an argument to a print statement.",
      "metadata": {
        "slideshow": {
          "slide_type": "skip"
        }
      }
    },
    {
      "cell_type": "code",
      "source": "# If we just want to print an integer \n# we can pass a variable as an argument to \n# print() regardless of whether \n# it is a string.\n \n# This also prints \"I am 10 years old today!\"\nprint(greeting_string_1, temp, greeting_string_2, greeting_string_3)",
      "metadata": {
        "slideshow": {
          "slide_type": "skip"
        }
      },
      "execution_count": null,
      "outputs": [
        {
          "name": "stdout",
          "output_type": "stream",
          "text": "It is  13 °C in Eindhoven today.  How are you feeling?\n"
        }
      ]
    },
    {
      "cell_type": "markdown",
      "source": "#### Selecting parts of a string, and handling string length\nAs a string is an array of characters, it is possible to select specific characters in a string, or count the length of a string, for example. This can be done using the square bracket symbols `[]`, as well as the `len()` function.",
      "metadata": {}
    },
    {
      "cell_type": "code",
      "source": "CityName = \"Eindhoven\"\n\n# Check out what these operators do\nprint(\"character 0: \" + CityName[0])\nprint(\"character 1 to 5 excluded: \" + CityName[1:5])\nprint(\"character up until 3 excluded: \" + CityName[:3])\nprint(\"character from 3 onwards: \" + CityName[3:])\nprint(\"string length: \" + str(len(CityName)))\n\n# Remember that Python starts counting at zero",
      "metadata": {
        "trusted": true
      },
      "execution_count": 37,
      "outputs": [
        {
          "name": "stdout",
          "text": "character 0: E\ncharacter 1 to 5 excluded: indh\ncharacter up until 3 excluded: Ein\ncharacter from 3 onwards: dhoven\nstring length: 9\n",
          "output_type": "stream"
        }
      ]
    },
    {
      "cell_type": "markdown",
      "source": "#### Formatted strings\nThe idea behind f-strings is to make string interpolation simpler. \nTo create an f-string, prefix the string with the letter “ f ”. The string itself can be formatted in much the same way that you would with str.format(). F-strings provide a concise and convenient way to embed python expressions inside string literals for formatting.",
      "metadata": {
        "slideshow": {
          "slide_type": "slide"
        }
      }
    },
    {
      "cell_type": "code",
      "source": "print(f\"It is 13°C ({13* 9/5 + 32}°F) in Eindhoven today.\")",
      "metadata": {
        "slideshow": {
          "slide_type": "fragment"
        }
      },
      "execution_count": null,
      "outputs": [
        {
          "name": "stdout",
          "output_type": "stream",
          "text": "It is 13°C (55.4°F) in Eindhoven today.\n"
        }
      ]
    },
    {
      "cell_type": "markdown",
      "source": "Now I want to customize the message based on temperature of each day.",
      "metadata": {
        "slideshow": {
          "slide_type": "slide"
        }
      }
    },
    {
      "cell_type": "code",
      "source": "# It is 2 degrees\nprint(f\"It is 2°C ({2* 9/5 + 32}°F) in Eindhoven today.\")\n\n# It is 14 degrees\nprint(f\"It is 14°C ({14* 9/5 + 32}°F) in Eindhoven today.\")\n\n",
      "metadata": {
        "slideshow": {
          "slide_type": "subslide"
        }
      },
      "execution_count": 5,
      "outputs": [
        {
          "name": "stdout",
          "output_type": "stream",
          "text": "It is 2°C (35.6°F) in Eindhoven today.\n\nIt is 14°C (57.2°F) in Eindhoven today.\n"
        }
      ]
    },
    {
      "cell_type": "markdown",
      "source": "## 2.4 Combining multiple operators\nOne can of course combine operators freely. Assume that we want to see the temperature in Fahrenheit as well. This requires a combination of arithmetic and string operators.",
      "metadata": {
        "slideshow": {
          "slide_type": "slide"
        }
      }
    },
    {
      "cell_type": "code",
      "source": "# converting 13°C to °F\n\nprint(13* 9/5 + 32)",
      "metadata": {
        "slideshow": {
          "slide_type": "fragment"
        }
      },
      "execution_count": 2,
      "outputs": [
        {
          "name": "stdout",
          "output_type": "stream",
          "text": "55.4\n"
        }
      ]
    },
    {
      "cell_type": "code",
      "source": "# need print \"It is 13°C 55.4 °F in Eindhoven today.\n\nprint(\"It is 13°C \" + str(13* 9/5 + 32) + \" °F in Eindhoven today.\")",
      "metadata": {
        "slideshow": {
          "slide_type": "subslide"
        },
        "trusted": true
      },
      "execution_count": 22,
      "outputs": [
        {
          "name": "stdout",
          "text": "It is 13°C 55.4 °F in Eindhoven today.\n",
          "output_type": "stream"
        }
      ]
    },
    {
      "cell_type": "code",
      "source": "print(\"It is 13°C \" + str(13* 9/5 + 32) + \" °F in Eindhoven today.\")",
      "metadata": {
        "slideshow": {
          "slide_type": "subslide"
        }
      },
      "execution_count": null,
      "outputs": [
        {
          "name": "stdout",
          "output_type": "stream",
          "text": "It is 13°C 55.4 °F in Eindhoven today.\n"
        }
      ]
    },
    {
      "cell_type": "markdown",
      "source": "What we just did is called **type casting**. Type casting is a method used to change the values declared in a certain data type into a different data type to match the operation required to be performed by the code snippet. So we can change a float data type, for example, to a string data type and vice versa. Be careful, this sometimes leads to data loss if data types are not very compatible (e.g. casting a float to an integer).",
      "metadata": {
        "slideshow": {
          "slide_type": "fragment"
        }
      }
    },
    {
      "cell_type": "markdown",
      "source": "## Is there a better way to use the same logic again and again?🤔🤔",
      "metadata": {
        "slideshow": {
          "slide_type": "subslide"
        }
      }
    }
  ]
}