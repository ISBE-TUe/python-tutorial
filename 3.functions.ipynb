{
 "cells": [
  {
   "cell_type": "markdown",
   "metadata": {},
   "source": [
    "# Functions\n",
    "We can write a function to avoid repeating the same logic over and over.\n",
    "Use def keyword to define a function. A function only runs when it is called."
   ]
  },
  {
   "cell_type": "code",
   "execution_count": null,
   "metadata": {},
   "outputs": [],
   "source": [
    "def celsius_to_fahrenheit(deg_c):\n",
    "    deg_f = deg_c * 9/5 + 32\n",
    "    print(f\"It is {deg_c}°C ({deg_f}°F) in Eindhoven today.\")"
   ]
  },
  {
   "cell_type": "markdown",
   "metadata": {},
   "source": [
    "Calling the function that we wrote:"
   ]
  },
  {
   "cell_type": "code",
   "execution_count": null,
   "metadata": {},
   "outputs": [
    {
     "name": "stdout",
     "output_type": "stream",
     "text": [
      "It is 20°C (68.0°F) in Eindhoven today.\n"
     ]
    }
   ],
   "source": [
    "celsius_to_fahrenheit(20)"
   ]
  },
  {
   "cell_type": "code",
   "execution_count": null,
   "metadata": {},
   "outputs": [
    {
     "name": "stdout",
     "output_type": "stream",
     "text": [
      "It is 7°C (44.6°F) in Eindhoven today.\n"
     ]
    }
   ],
   "source": [
    "celsius_to_fahrenheit(7)"
   ]
  },
  {
   "cell_type": "markdown",
   "metadata": {},
   "source": [
    "Let's add one more argument to our function."
   ]
  },
  {
   "cell_type": "code",
   "execution_count": null,
   "metadata": {},
   "outputs": [],
   "source": [
    "def celsius_to_fahrenheit(deg_c, message):\n",
    "    deg_f = deg_c * 9/5 + 32\n",
    "    print(f\"It is {deg_c}°C ({deg_f}°F) in Eindhoven today.\")\n",
    "    print(message)"
   ]
  },
  {
   "cell_type": "code",
   "execution_count": null,
   "metadata": {},
   "outputs": [
    {
     "name": "stdout",
     "output_type": "stream",
     "text": [
      "It is 20°C (68.0°F) in Eindhoven today.\n",
      "Enjoy the weather!\n"
     ]
    }
   ],
   "source": [
    "celsius_to_fahrenheit(20, 'Enjoy the weather!')"
   ]
  },
  {
   "cell_type": "markdown",
   "metadata": {},
   "source": [
    "## Variable scope in functions\n",
    "A variable in only available from inside the region it is created. There are two kinds of scope, global scope and local scope. If a variable is created within a function, it belong to the function's local scope and can only be accessed within the function."
   ]
  },
  {
   "cell_type": "code",
   "execution_count": null,
   "metadata": {},
   "outputs": [
    {
     "name": "stdout",
     "output_type": "stream",
     "text": [
      "It is 13°C (55.4°F) in Eindhoven today.\n",
      "This is a global variable\n"
     ]
    }
   ],
   "source": [
    "global_variable = 'This is a global variable'\n",
    "\n",
    "def celsius_to_fahrenheit(deg_c):\n",
    "    deg_f = deg_c * 9/5 + 32\n",
    "    print(f\"It is {deg_c}°C ({deg_f}°F) in Eindhoven today.\")\n",
    "    print(global_variable)\n",
    "\n",
    "celsius_to_fahrenheit(13)"
   ]
  },
  {
   "cell_type": "code",
   "execution_count": null,
   "metadata": {},
   "outputs": [
    {
     "name": "stdout",
     "output_type": "stream",
     "text": [
      "It is 13°C (55.4°F) in Eindhoven today.\n",
      "This is a global variable\n",
      "Enjoy the weather\n"
     ]
    }
   ],
   "source": [
    "global_variable = 'This is a global variable'\n",
    "\n",
    "def celsius_to_fahrenheit(deg_c):\n",
    "    message = 'Enjoy the weather'\n",
    "    deg_f = deg_c * 9/5 + 32\n",
    "    print(f\"It is {deg_c}°C ({deg_f}°F) in Eindhoven today.\")\n",
    "    print(global_variable)\n",
    "    print(message)\n",
    "\n",
    "celsius_to_fahrenheit(13)"
   ]
  },
  {
   "cell_type": "code",
   "execution_count": null,
   "metadata": {},
   "outputs": [
    {
     "name": "stdout",
     "output_type": "stream",
     "text": [
      "It is 13°C (55.4°F) in Eindhoven today.\n",
      "This is a global variable\n",
      "Enjoy the weather\n"
     ]
    },
    {
     "ename": "NameError",
     "evalue": "name 'message' is not defined",
     "output_type": "error",
     "traceback": [
      "\u001b[1;31m---------------------------------------------------------------------------\u001b[0m\n",
      "\u001b[1;31mNameError\u001b[0m                                 Traceback (most recent call last)\n",
      "Cell \u001b[1;32mIn[39], line 11\u001b[0m\n",
      "\u001b[0;32m      8\u001b[0m     \u001b[39mprint\u001b[39m(message)\n",
      "\u001b[0;32m     10\u001b[0m celsius_to_fahrenheit(\u001b[39m13\u001b[39m)\n",
      "\u001b[1;32m---> 11\u001b[0m \u001b[39mprint\u001b[39m(message)\n",
      "\n",
      "\u001b[1;31mNameError\u001b[0m: name 'message' is not defined"
     ]
    }
   ],
   "source": [
    "global_variable = 'This is a global variable'\n",
    "\n",
    "def celsius_to_fahrenheit(deg_c):\n",
    "    message = 'Enjoy the weather'\n",
    "    deg_f = deg_c * 9/5 + 32\n",
    "    print(f\"It is {deg_c}°C ({deg_f}°F) in Eindhoven today.\")\n",
    "    print(global_variable)\n",
    "    print(message)\n",
    "\n",
    "celsius_to_fahrenheit(13)\n",
    "print(message)"
   ]
  },
  {
   "cell_type": "markdown",
   "metadata": {},
   "source": [
    "## Return value from function"
   ]
  },
  {
   "cell_type": "code",
   "execution_count": null,
   "metadata": {},
   "outputs": [
    {
     "name": "stdout",
     "output_type": "stream",
     "text": [
      "It is 12°C (53.6°F) in Eindhoven today.\n",
      "None\n"
     ]
    }
   ],
   "source": [
    "def celsius_to_fahrenheit(deg_c):\n",
    "    deg_f = deg_c * 9/5 + 32\n",
    "    print(f\"It is {deg_c}°C ({deg_f}°F) in Eindhoven today.\")\n",
    "\n",
    "output = celsius_to_fahrenheit(12)\n",
    "print(output)"
   ]
  },
  {
   "cell_type": "code",
   "execution_count": null,
   "metadata": {},
   "outputs": [],
   "source": [
    "def celsius_to_fahrenheit(deg_c):\n",
    "    deg_f = deg_c * 9/5 + 32\n",
    "    return f\"It is {deg_c}°C ({deg_f}°F) in Eindhoven today.\""
   ]
  },
  {
   "cell_type": "code",
   "execution_count": null,
   "metadata": {},
   "outputs": [
    {
     "name": "stdout",
     "output_type": "stream",
     "text": [
      "It is 12°C (53.6°F) in Eindhoven today.\n"
     ]
    }
   ],
   "source": [
    "output = celsius_to_fahrenheit(12)\n",
    "print(output)"
   ]
  },
  {
   "cell_type": "markdown",
   "metadata": {},
   "source": [
    "## Default values"
   ]
  },
  {
   "cell_type": "code",
   "execution_count": null,
   "metadata": {},
   "outputs": [
    {
     "name": "stdout",
     "output_type": "stream",
     "text": [
      "It is 12°C (53.6°F) in Eindhoven today. Enjoy the weather!\n"
     ]
    }
   ],
   "source": [
    "def celsius_to_fahrenheit(deg_c=12, message='Enjoy the weather!'): # you can set default values by assigning them at function dfinition\n",
    "    deg_f = deg_c * 9/5 + 32\n",
    "    print(f\"It is {deg_c}°C ({deg_c* 9/5 + 32}°F) in Eindhoven today.\", message)\n",
    "\n",
    "celsius_to_fahrenheit() # when you call a function without arguments, it uses default arguments if available."
   ]
  }
 ],
 "metadata": {
  "kernelspec": {
   "display_name": "Python 3.10.7 ('venv': venv)",
   "language": "python",
   "name": "python3"
  },
  "language_info": {
   "name": "python",
   "version": "3.10.7"
  },
  "orig_nbformat": 4,
  "vscode": {
   "interpreter": {
    "hash": "328d38edb4a47e72717e062bae5904cf5f8811ba316934a40a547226342d9fc7"
   }
  }
 },
 "nbformat": 4,
 "nbformat_minor": 2
}
