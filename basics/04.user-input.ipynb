{
 "cells": [
  {
   "cell_type": "markdown",
   "metadata": {
    "slideshow": {
     "slide_type": "slide"
    }
   },
   "source": [
    "# 4. Getting input from a user"
   ]
  },
  {
   "cell_type": "markdown",
   "metadata": {},
   "source": [
    "## 4.1 The input() function\n",
    "`input()` is a built-in Python function. It comes with Python, so we can use it without having to write the functionality ourselves. This finction allows us to get input from the user.\n",
    "\n",
    "Let's get the temperature from the user now, and couple this with the functions that we wrote earlier."
   ]
  },
  {
   "cell_type": "code",
   "execution_count": 12,
   "metadata": {
    "slideshow": {
     "slide_type": "fragment"
    }
   },
   "outputs": [
    {
     "name": "stdout",
     "output_type": "stream",
     "text": [
      "20\n"
     ]
    }
   ],
   "source": [
    "user_input = input('Give the temperature in degrees celsius and I will convert it to Fahrenheit!')\n",
    "print(user_input)"
   ]
  },
  {
   "cell_type": "code",
   "execution_count": 13,
   "metadata": {
    "slideshow": {
     "slide_type": "subslide"
    }
   },
   "outputs": [],
   "source": [
    "def celsius_to_fahrenheit(deg_c):\n",
    "    deg_f = deg_c * 9/5 + 32\n",
    "    print(f\"It is {deg_c}°C ({deg_f}°F) in Eindhoven today.\")"
   ]
  },
  {
   "cell_type": "markdown",
   "metadata": {
    "slideshow": {
     "slide_type": "fragment"
    }
   },
   "source": [
    "Now, let's try to pass the user input in to our converter."
   ]
  },
  {
   "cell_type": "code",
   "execution_count": 14,
   "metadata": {
    "slideshow": {
     "slide_type": "subslide"
    }
   },
   "outputs": [
    {
     "ename": "TypeError",
     "evalue": "unsupported operand type(s) for /: 'str' and 'int'",
     "output_type": "error",
     "traceback": [
      "\u001b[1;31m---------------------------------------------------------------------------\u001b[0m",
      "\u001b[1;31mTypeError\u001b[0m                                 Traceback (most recent call last)",
      "\u001b[1;32mc:\\Users\\20194060\\Desktop\\Git\\tue\\ISBE_github\\python-tutorial\\basics\\04.user-input.ipynb Cell 5\u001b[0m line \u001b[0;36m3\n\u001b[0;32m      <a href='vscode-notebook-cell:/c%3A/Users/20194060/Desktop/Git/tue/ISBE_github/python-tutorial/basics/04.user-input.ipynb#W4sZmlsZQ%3D%3D?line=0'>1</a>\u001b[0m user_input \u001b[39m=\u001b[39m \u001b[39minput\u001b[39m(\u001b[39m'\u001b[39m\u001b[39mGive the temperature in degrees celsius and I will convert it to Fahrenheit!\u001b[39m\u001b[39m'\u001b[39m)\n\u001b[1;32m----> <a href='vscode-notebook-cell:/c%3A/Users/20194060/Desktop/Git/tue/ISBE_github/python-tutorial/basics/04.user-input.ipynb#W4sZmlsZQ%3D%3D?line=2'>3</a>\u001b[0m celsius_to_fahrenheit(user_input)\n",
      "\u001b[1;32mc:\\Users\\20194060\\Desktop\\Git\\tue\\ISBE_github\\python-tutorial\\basics\\04.user-input.ipynb Cell 5\u001b[0m line \u001b[0;36m2\n\u001b[0;32m      <a href='vscode-notebook-cell:/c%3A/Users/20194060/Desktop/Git/tue/ISBE_github/python-tutorial/basics/04.user-input.ipynb#W4sZmlsZQ%3D%3D?line=0'>1</a>\u001b[0m \u001b[39mdef\u001b[39;00m \u001b[39mcelsius_to_fahrenheit\u001b[39m(deg_c):\n\u001b[1;32m----> <a href='vscode-notebook-cell:/c%3A/Users/20194060/Desktop/Git/tue/ISBE_github/python-tutorial/basics/04.user-input.ipynb#W4sZmlsZQ%3D%3D?line=1'>2</a>\u001b[0m     deg_f \u001b[39m=\u001b[39m deg_c \u001b[39m*\u001b[39;49m \u001b[39m9\u001b[39;49m\u001b[39m/\u001b[39;49m\u001b[39m5\u001b[39;49m \u001b[39m+\u001b[39m \u001b[39m32\u001b[39m\n\u001b[0;32m      <a href='vscode-notebook-cell:/c%3A/Users/20194060/Desktop/Git/tue/ISBE_github/python-tutorial/basics/04.user-input.ipynb#W4sZmlsZQ%3D%3D?line=2'>3</a>\u001b[0m     \u001b[39mprint\u001b[39m(\u001b[39mf\u001b[39m\u001b[39m\"\u001b[39m\u001b[39mIt is \u001b[39m\u001b[39m{\u001b[39;00mdeg_c\u001b[39m}\u001b[39;00m\u001b[39m°C (\u001b[39m\u001b[39m{\u001b[39;00mdeg_f\u001b[39m}\u001b[39;00m\u001b[39m°F) in Eindhoven today.\u001b[39m\u001b[39m\"\u001b[39m)\n",
      "\u001b[1;31mTypeError\u001b[0m: unsupported operand type(s) for /: 'str' and 'int'"
     ]
    }
   ],
   "source": [
    "user_input = input('Give the temperature in degrees celsius and I will convert it to Fahrenheit!')\n",
    "\n",
    "celsius_to_fahrenheit(user_input)"
   ]
  },
  {
   "cell_type": "markdown",
   "metadata": {},
   "source": [
    "The code generates a `TypeError`. See what the error says. It say that there is an `unsupported operand type`, mentioning also `str` and `int`. It seems that the code expects an integer, yet it receives a string. Therefore, one of the operations that we coded, cannot be executed! Can you find out:\n",
    "\n",
    "- where the `str` variable is?\n",
    "- where the `int` variable is?\n",
    "- which operation throws the error?"
   ]
  },
  {
   "cell_type": "markdown",
   "metadata": {
    "slideshow": {
     "slide_type": "subslide"
    }
   },
   "source": [
    "## 4.2 Checking data types of input parameters\n",
    "Different variables have different data types. Yet, certain functions expect specific data types. If they don't match, this leads to an error in the code. Let's check the data type of our variable `user input`:"
   ]
  },
  {
   "cell_type": "code",
   "execution_count": 15,
   "metadata": {
    "slideshow": {
     "slide_type": "fragment"
    }
   },
   "outputs": [
    {
     "data": {
      "text/plain": [
       "str"
      ]
     },
     "execution_count": 15,
     "metadata": {},
     "output_type": "execute_result"
    }
   ],
   "source": [
    "type(user_input)"
   ]
  },
  {
   "cell_type": "markdown",
   "metadata": {},
   "source": [
    "It is a string. But our converter needs a number! We can use **type casting** to convert it into a number"
   ]
  },
  {
   "cell_type": "code",
   "execution_count": 16,
   "metadata": {
    "slideshow": {
     "slide_type": "fragment"
    }
   },
   "outputs": [
    {
     "data": {
      "text/plain": [
       "int"
      ]
     },
     "execution_count": 16,
     "metadata": {},
     "output_type": "execute_result"
    }
   ],
   "source": [
    "type(int(user_input))"
   ]
  },
  {
   "cell_type": "code",
   "execution_count": 17,
   "metadata": {
    "slideshow": {
     "slide_type": "fragment"
    }
   },
   "outputs": [
    {
     "name": "stdout",
     "output_type": "stream",
     "text": [
      "It is 20°C (68.0°F) in Eindhoven today.\n"
     ]
    }
   ],
   "source": [
    "celsius_to_fahrenheit(int(user_input))"
   ]
  },
  {
   "cell_type": "markdown",
   "metadata": {},
   "source": [
    "Now all works fine if we just make sure to enter a normal number."
   ]
  },
  {
   "cell_type": "code",
   "execution_count": 18,
   "metadata": {
    "slideshow": {
     "slide_type": "skip"
    }
   },
   "outputs": [
    {
     "name": "stdout",
     "output_type": "stream",
     "text": [
      "It is 20°C (68.0°F) in Eindhoven today.\n"
     ]
    }
   ],
   "source": [
    "user_input = input('Give the temperature in degrees celsius and I will convert it to Fahrenheit!')\n",
    "user_input_as_num = int(user_input)\n",
    "celsius_to_fahrenheit(user_input_as_num)"
   ]
  },
  {
   "cell_type": "markdown",
   "metadata": {
    "slideshow": {
     "slide_type": "slide"
    }
   },
   "source": [
    "Let's see what happens if the user input is not a number, but a text instead, for example `test`. Try it! What goes wrong?"
   ]
  },
  {
   "cell_type": "code",
   "execution_count": 19,
   "metadata": {
    "slideshow": {
     "slide_type": "subslide"
    }
   },
   "outputs": [
    {
     "ename": "ValueError",
     "evalue": "invalid literal for int() with base 10: 'test'",
     "output_type": "error",
     "traceback": [
      "\u001b[1;31m---------------------------------------------------------------------------\u001b[0m",
      "\u001b[1;31mValueError\u001b[0m                                Traceback (most recent call last)",
      "\u001b[1;32mc:\\Users\\20194060\\Desktop\\Git\\tue\\ISBE_github\\python-tutorial\\basics\\04.user-input.ipynb Cell 15\u001b[0m line \u001b[0;36m2\n\u001b[0;32m      <a href='vscode-notebook-cell:/c%3A/Users/20194060/Desktop/Git/tue/ISBE_github/python-tutorial/basics/04.user-input.ipynb#X14sZmlsZQ%3D%3D?line=0'>1</a>\u001b[0m user_input \u001b[39m=\u001b[39m \u001b[39minput\u001b[39m(\u001b[39m'\u001b[39m\u001b[39mGive the temperature in degrees celsius and I will convert it to Fahrenheit!\u001b[39m\u001b[39m'\u001b[39m) \u001b[39m# Give a text input\u001b[39;00m\n\u001b[1;32m----> <a href='vscode-notebook-cell:/c%3A/Users/20194060/Desktop/Git/tue/ISBE_github/python-tutorial/basics/04.user-input.ipynb#X14sZmlsZQ%3D%3D?line=1'>2</a>\u001b[0m user_input_as_num \u001b[39m=\u001b[39m \u001b[39mint\u001b[39;49m(user_input)\n\u001b[0;32m      <a href='vscode-notebook-cell:/c%3A/Users/20194060/Desktop/Git/tue/ISBE_github/python-tutorial/basics/04.user-input.ipynb#X14sZmlsZQ%3D%3D?line=2'>3</a>\u001b[0m celsius_to_fahrenheit(user_input_as_num)\n",
      "\u001b[1;31mValueError\u001b[0m: invalid literal for int() with base 10: 'test'"
     ]
    }
   ],
   "source": [
    "user_input = input('Give the temperature in degrees celsius and I will convert it to Fahrenheit!') # Give a text input\n",
    "user_input_as_num = int(user_input)\n",
    "celsius_to_fahrenheit(user_input_as_num)"
   ]
  },
  {
   "cell_type": "markdown",
   "metadata": {},
   "source": [
    "Analyze the error message and make sure that you understand what it says. Use Google if needed."
   ]
  }
 ],
 "metadata": {
  "celltoolbar": "Slideshow",
  "kernelspec": {
   "display_name": "Python 3 (ipykernel)",
   "language": "python",
   "name": "python3"
  },
  "language_info": {
   "codemirror_mode": {
    "name": "ipython",
    "version": 3
   },
   "file_extension": ".py",
   "mimetype": "text/x-python",
   "name": "python",
   "nbconvert_exporter": "python",
   "pygments_lexer": "ipython3",
   "version": "3.9.1"
  },
  "vscode": {
   "interpreter": {
    "hash": "328d38edb4a47e72717e062bae5904cf5f8811ba316934a40a547226342d9fc7"
   }
  }
 },
 "nbformat": 4,
 "nbformat_minor": 2
}
