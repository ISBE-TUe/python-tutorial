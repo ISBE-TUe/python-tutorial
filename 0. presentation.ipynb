{
 "cells": [
  {
   "cell_type": "markdown",
   "metadata": {
    "slideshow": {
     "slide_type": "slide"
    }
   },
   "source": [
    "# Welcome to python workshop\n"
   ]
  },
  {
   "cell_type": "markdown",
   "metadata": {
    "slideshow": {
     "slide_type": "slide"
    }
   },
   "source": [
    "# Outline\n",
    "- Getting started\n",
    "- Data types (Number, String)\n",
    "- Functions\n",
    "- Get user input\n",
    "- Use conditionals (if/else)\n",
    "- While loop\n",
    "- Data types (List, Set, Dictionary)\n",
    "- Module\n",
    "- Using an API\n"
   ]
  },
  {
   "cell_type": "markdown",
   "metadata": {
    "slideshow": {
     "slide_type": "subslide"
    }
   },
   "source": [
    "# About Python\n",
    "Python is a powerful, general-purpose programming language with a wide range of applications such as, \n",
    " - Data science: analytics and visualization\n",
    " - Machine learning\n",
    " - Web development: websites and web apps\n",
    "\n",
    "A large collection of libraries and frameworks.\n",
    " - Data science: pandas, numpy, matplotlib\n",
    " - Machine learning: scikit-learn, TensorFlow, openCV\n",
    " - Web development: Django, Flask, FastAPI"
   ]
  },
  {
   "cell_type": "markdown",
   "metadata": {
    "slideshow": {
     "slide_type": "subslide"
    }
   },
   "source": [
    "# Install Python\n",
    "- Visit https://www.python.org/downloads/ and download the latest version.\n",
    "- We use Python 3, which is the newer version of the Python programming language which was released in December 2008."
   ]
  },
  {
   "cell_type": "markdown",
   "metadata": {
    "slideshow": {
     "slide_type": "subslide"
    }
   },
   "source": [
    "# Check if you have Python\n",
    "- Windows\n",
    "~~~\n",
    "python --version\n",
    "~~~\n",
    "\n",
    "- MAC\n",
    "~~~\n",
    "python3 --version \n",
    "~~~"
   ]
  },
  {
   "cell_type": "markdown",
   "metadata": {
    "slideshow": {
     "slide_type": "subslide"
    }
   },
   "source": [
    "# Download the workshop material\n",
    "- https://github.com/ISBE-TUe/python-workshop-dec-2022\n",
    "- Download the .zip file"
   ]
  },
  {
   "cell_type": "markdown",
   "metadata": {
    "slideshow": {
     "slide_type": "subslide"
    }
   },
   "source": [
    "# Virtual Environment\n",
    "- different Python projects may use different versions of the same library\n",
    "- can't work with two different versions of the same library if you have them in one place\n",
    "- a Python virtual environment is a place you install all your libraries only for that project"
   ]
  },
  {
   "cell_type": "markdown",
   "metadata": {
    "slideshow": {
     "slide_type": "subslide"
    }
   },
   "source": [
    "## Creating a venv\n",
    "- Go to the folder that you downloaded python-workshop-dec-2022\n",
    "- Open command prompt from the folder that you created or change the directory to where you saved the file (cd/pyhton-workshop-dec-2022/) \n",
    "- Create a virtual environment\n",
    "- Windows\n",
    "    - Create venv\n",
    "~~~\n",
    "        python -m venv venv\n",
    "~~~\n",
    "    - Run venv\n",
    "~~~\n",
    "       .\\venv\\Scripts\\Activate.ps1\n",
    "~~~\n",
    "\n",
    "- MAC\n",
    "    - Create venv\n",
    "~~~\n",
    "        python3 -m venv venv\n",
    "~~~\n",
    "\n",
    "    - Run venv\n",
    "~~~\n",
    "        python3 source/venv/bin/activate\n",
    "~~~\n"
   ]
  },
  {
   "cell_type": "markdown",
   "metadata": {
    "slideshow": {
     "slide_type": "subslide"
    }
   },
   "source": [
    "# Using Python from Command line\n",
    "- Open Windows Terminal/PowerShell/Command Prompt\n",
    "- Enter Python interpreter prompt (by typing python and enter)\n",
    "- Now you can run python commands from here\n",
    "\n",
    "~~~\n",
    "print(“ Hello World”)\n",
    "print(3+2)\n",
    "exit()\n",
    "~~~"
   ]
  },
  {
   "cell_type": "markdown",
   "metadata": {
    "slideshow": {
     "slide_type": "subslide"
    }
   },
   "source": [
    "# Using a text editor\n",
    "- Create a folder to save your code\n",
    "- Create a python file called test.py (always use the extension .py)\n",
    "- Open command prompt from the folder that you created or change the directory to where you saved the file (cd/pyhton-workshop/)\n",
    "- Run the .py file using the command python test.py\n",
    "\n",
    "~~~\n",
    "$ python test.py\n",
    "~~~"
   ]
  },
  {
   "cell_type": "markdown",
   "metadata": {
    "slideshow": {
     "slide_type": "subslide"
    }
   },
   "source": [
    "# Using an IDE\n",
    "- IDE is a collection of software development tools that are intended to simplify the process of coding.\n",
    "    - extensions\n",
    "    - sersion Control (git)\n",
    "    - auto complete\n",
    "    - highlight errors\n",
    "- There are many IDEs out there\n",
    "- We use Visual Studio Code today"
   ]
  },
  {
   "cell_type": "markdown",
   "metadata": {
    "slideshow": {
     "slide_type": "fragment"
    }
   },
   "source": [
    "- Open VS Code\n",
    "- Let's create a .py file and run it."
   ]
  },
  {
   "cell_type": "markdown",
   "metadata": {
    "slideshow": {
     "slide_type": "slide"
    }
   },
   "source": [
    "# Success 🎉🎉🎉\n",
    "We just wrote our first Python program!\n",
    "This is the whole getting started part of it!"
   ]
  }
 ],
 "metadata": {
  "celltoolbar": "Slideshow",
  "kernelspec": {
   "display_name": "Python 3 (ipykernel)",
   "language": "python",
   "name": "python3"
  },
  "language_info": {
   "codemirror_mode": {
    "name": "ipython",
    "version": 3
   },
   "file_extension": ".py",
   "mimetype": "text/x-python",
   "name": "python",
   "nbconvert_exporter": "python",
   "pygments_lexer": "ipython3",
   "version": "3.10.7"
  },
  "vscode": {
   "interpreter": {
    "hash": "328d38edb4a47e72717e062bae5904cf5f8811ba316934a40a547226342d9fc7"
   }
  }
 },
 "nbformat": 4,
 "nbformat_minor": 2
}
