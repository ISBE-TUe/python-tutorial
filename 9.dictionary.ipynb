{
 "cells": [
  {
   "cell_type": "markdown",
   "metadata": {
    "slideshow": {
     "slide_type": "slide"
    }
   },
   "source": [
    "# Dictionary\n",
    "- Dictionaries contain key-value pairs, which refer to pairs of a key and a value separated by a colon :.\n",
    "- The values can hold and be a mix of different data types, including lists or even nested dictionaries. "
   ]
  },
  {
   "cell_type": "code",
   "execution_count": 5,
   "metadata": {
    "slideshow": {
     "slide_type": "subslide"
    }
   },
   "outputs": [
    {
     "data": {
      "text/plain": [
       "{'city': 'Eindhoven', 'universities': ['TUe', 'Fontys']}"
      ]
     },
     "execution_count": 5,
     "metadata": {},
     "output_type": "execute_result"
    }
   ],
   "source": [
    "my_dictionary = {\n",
    "  \"city\": \"Eindhoven\",\n",
    "  \"universities\": [\"TUe\", \"Fontys\"],\n",
    "}\n",
    "\n",
    "my_dictionary"
   ]
  },
  {
   "cell_type": "markdown",
   "metadata": {
    "slideshow": {
     "slide_type": "fragment"
    }
   },
   "source": [
    "In contrast to other data structures such as lists and tuples, there are no built-in ways to use indexing and slicing to access the values in a certain order in the dictionaries. A value within a dictionary can be accessed with its key."
   ]
  },
  {
   "cell_type": "code",
   "execution_count": 16,
   "metadata": {
    "slideshow": {
     "slide_type": "fragment"
    }
   },
   "outputs": [
    {
     "data": {
      "text/plain": [
       "'Eindhoven'"
      ]
     },
     "execution_count": 16,
     "metadata": {},
     "output_type": "execute_result"
    }
   ],
   "source": [
    "my_dictionary['city']"
   ]
  },
  {
   "cell_type": "code",
   "execution_count": 17,
   "metadata": {
    "slideshow": {
     "slide_type": "fragment"
    }
   },
   "outputs": [
    {
     "data": {
      "text/plain": [
       "['TUe', 'Fontys']"
      ]
     },
     "execution_count": 17,
     "metadata": {},
     "output_type": "execute_result"
    }
   ],
   "source": [
    "my_dictionary.get('universities')"
   ]
  },
  {
   "cell_type": "markdown",
   "metadata": {
    "slideshow": {
     "slide_type": "subslide"
    }
   },
   "source": [
    "Likewise, values can be updated in the dictionary using its key:"
   ]
  },
  {
   "cell_type": "code",
   "execution_count": 19,
   "metadata": {},
   "outputs": [
    {
     "data": {
      "text/plain": [
       "{'city': 'Eindhoven', 'universities': ['TUe', 'Fontys', 'ABC']}"
      ]
     },
     "execution_count": 19,
     "metadata": {},
     "output_type": "execute_result"
    }
   ],
   "source": [
    "my_dictionary['universities'] = [\"TUe\", \"Fontys\", \"ABC\"]\n",
    "my_dictionary"
   ]
  },
  {
   "cell_type": "markdown",
   "metadata": {},
   "source": [
    "Similarly, a new key-value pair can be added to a dictionary:"
   ]
  },
  {
   "cell_type": "code",
   "execution_count": 13,
   "metadata": {
    "scrolled": true,
    "slideshow": {
     "slide_type": "fragment"
    }
   },
   "outputs": [
    {
     "data": {
      "text/plain": [
       "{'country': 'Netherlands',\n",
       " 'city': 'Eindhoven',\n",
       " 'universities': ['TUe', 'Fontys'],\n",
       " 'population': 200000}"
      ]
     },
     "execution_count": 13,
     "metadata": {},
     "output_type": "execute_result"
    }
   ],
   "source": [
    "my_dictionary['population'] = 200000\n",
    "my_dictionary"
   ]
  },
  {
   "cell_type": "markdown",
   "metadata": {
    "slideshow": {
     "slide_type": "slide"
    }
   },
   "source": [
    "# Coming back to our example with a dictionary\n",
    "- Let's input temperature and city both. And store them in a Python dictionary."
   ]
  },
  {
   "cell_type": "code",
   "execution_count": 13,
   "metadata": {
    "slideshow": {
     "slide_type": "subslide"
    }
   },
   "outputs": [
    {
     "name": "stdout",
     "output_type": "stream",
     "text": [
      "Give the temperature and City seperated by a ,: 10, eindhoven\n",
      "['10', ' eindhoven']\n",
      "{'temp': '10', 'city': ' eindhoven'}\n",
      "Give the temperature and City seperated by a ,: 24, colombo\n",
      "['24', ' colombo']\n",
      "{'temp': '24', 'city': ' colombo'}\n",
      "Give the temperature and City seperated by a ,: exit\n",
      "['exit']\n"
     ]
    }
   ],
   "source": [
    "user_input = ''\n",
    "while user_input != 'exit':\n",
    "    user_input = input('Give the temperature and City seperated by a ,: ')\n",
    "    \n",
    "    # .split() produces an array containing the elemnts\n",
    "    temp_and_city = user_input.split(\",\")\n",
    "    print(temp_and_city) #prints the arrar\n",
    "    \n",
    "    if user_input != 'exit':\n",
    "        \n",
    "        #creating a dictionary using the array objects\n",
    "        \n",
    "        temp_and_city_dictionary = {\"temp\": temp_and_city[0], \"city\": temp_and_city[1]}\n",
    "        print(temp_and_city_dictionary) #prints the dictionary"
   ]
  },
  {
   "cell_type": "code",
   "execution_count": 14,
   "metadata": {
    "slideshow": {
     "slide_type": "fragment"
    }
   },
   "outputs": [
    {
     "data": {
      "text/plain": [
       "{'temp': '24', 'city': ' colombo'}"
      ]
     },
     "execution_count": 14,
     "metadata": {},
     "output_type": "execute_result"
    }
   ],
   "source": [
    "temp_and_city_dictionary"
   ]
  },
  {
   "cell_type": "code",
   "execution_count": null,
   "metadata": {
    "slideshow": {
     "slide_type": "skip"
    }
   },
   "outputs": [],
   "source": [
    "def celsius_to_fahrenheit(deg_c):\n",
    "    deg_f = deg_c * 9/5 + 32\n",
    "    return f\"It is {deg_c}°C ({deg_f}°F) in {temp_and_city_dictionary['city']} today.\""
   ]
  },
  {
   "cell_type": "code",
   "execution_count": null,
   "metadata": {
    "slideshow": {
     "slide_type": "skip"
    }
   },
   "outputs": [],
   "source": [
    "def validate_input_and_convert():\n",
    "    print(temp_and_city[0])\n",
    "    if temp_and_city_dictionary['temp'].isdigit():\n",
    "        user_input_as_num = int(temp_and_city_dictionary['temp'])\n",
    "        deg_f = celsius_to_fahrenheit(user_input_as_num)\n",
    "        print(deg_f)\n",
    "    else:\n",
    "     print('Cannot convert a non numeric value, sorry!')"
   ]
  },
  {
   "cell_type": "code",
   "execution_count": null,
   "metadata": {
    "slideshow": {
     "slide_type": "skip"
    }
   },
   "outputs": [
    {
     "name": "stdout",
     "output_type": "stream",
     "text": [
      "\n",
      "It is 12°C (53.6°F) in  Amsterdam today.\n"
     ]
    }
   ],
   "source": [
    "validate_input_and_convert()"
   ]
  },
  {
   "cell_type": "code",
   "execution_count": null,
   "metadata": {
    "slideshow": {
     "slide_type": "skip"
    }
   },
   "outputs": [
    {
     "name": "stdout",
     "output_type": "stream",
     "text": [
      "['24', ' colombo']\n",
      "{'temp': '24', 'city': ' colombo'}\n",
      "It is 24°C (75.2°F) in  colombo today.\n",
      "['2', ' eindhoven']\n",
      "{'temp': '2', 'city': ' eindhoven'}\n",
      "It is 2°C (35.6°F) in  eindhoven today.\n",
      "['exit']\n",
      "{'temp': '2', 'city': ' eindhoven'}\n",
      "It is 2°C (35.6°F) in  eindhoven today.\n"
     ]
    }
   ],
   "source": [
    "def celsius_to_fahrenheit(deg_c, city):\n",
    "    deg_f = deg_c * 9/5 + 32\n",
    "    return f\"It is {deg_c}°C ({deg_f}°F) in {city} today.\"\n",
    "\n",
    "def validate_input_and_convert():\n",
    "    # print(temp_and_city[0])\n",
    "    if temp_and_city_dictionary['temp'].isdigit():\n",
    "        user_input_as_num = int(temp_and_city_dictionary['temp'])\n",
    "        deg_f = celsius_to_fahrenheit(user_input_as_num, temp_and_city_dictionary['city'])\n",
    "        print(deg_f)\n",
    "    else:\n",
    "     print('Cannot convert a non numeric value, sorry!')\n",
    "\n",
    "user_input = ''\n",
    "while user_input != \"exit\":\n",
    "    user_input = input('Give the temperature in degrees celsius and I will convert it to Fahrenheit!')\n",
    "    temp_and_city = user_input.split(\",\")\n",
    "    print(temp_and_city)\n",
    "    if user_input != 'exit':\n",
    "        temp_and_city_dictionary = {\"temp\": temp_and_city[0], \"city\": temp_and_city[1]}\n",
    "    print(temp_and_city_dictionary)\n",
    "    validate_input_and_convert()"
   ]
  }
 ],
 "metadata": {
  "celltoolbar": "Slideshow",
  "kernelspec": {
   "display_name": "Python 3 (ipykernel)",
   "language": "python",
   "name": "python3"
  },
  "language_info": {
   "codemirror_mode": {
    "name": "ipython",
    "version": 3
   },
   "file_extension": ".py",
   "mimetype": "text/x-python",
   "name": "python",
   "nbconvert_exporter": "python",
   "pygments_lexer": "ipython3",
   "version": "3.10.7"
  },
  "vscode": {
   "interpreter": {
    "hash": "328d38edb4a47e72717e062bae5904cf5f8811ba316934a40a547226342d9fc7"
   }
  }
 },
 "nbformat": 4,
 "nbformat_minor": 2
}
