{
 "cells": [
  {
   "cell_type": "markdown",
   "metadata": {},
   "source": [
    "# Introduction to Python\n",
    "\n",
    "- Python currently has two active versions: Python 2 and Python 3.\n",
    "- Python 2 was released in 2000, and its latest release, 2.7, came out in 2010.\n",
    "- Python 3 was first released in 2008. The current version is 3.11.0, and each new version is released around 17 months apart.\n",
    "- Many Python applications and libraries still use Python 2, but Python 3 is recommended for future software.\n",
    "- Python is a powerful, general-purpose programming language with a wide range of applications such as, \n",
    "  - Data science: analytics and visualization\n",
    "  - Machine learning\n",
    "  - Web development: websites and web apps\n",
    "  - Financial analysis\n",
    "  - Desktop applications\n",
    "  - Business applications"
   ]
  },
  {
   "cell_type": "markdown",
   "metadata": {},
   "source": [
    "## Installation\n",
    "Latest version of Python can be downloaded from offical website here --> https://www.python.org/downloads/"
   ]
  },
  {
   "cell_type": "markdown",
   "metadata": {},
   "source": [
    "### Comments"
   ]
  },
  {
   "cell_type": "markdown",
   "metadata": {},
   "source": [
    "Commenting is a way to tell a computer to ignore a part of a program. Text written in a program but not run by the computer is called a comment. Python interprets anything after a # as a comment."
   ]
  },
  {
   "cell_type": "code",
   "execution_count": 4,
   "metadata": {},
   "outputs": [],
   "source": [
    "def weather_prediction_for_tomorrow():\n",
    "    pass\n",
    "\n",
    "def new_code():\n",
    "    pass"
   ]
  },
  {
   "cell_type": "code",
   "execution_count": 5,
   "metadata": {},
   "outputs": [],
   "source": [
    "# Provide context for why something is written the way it is:\n",
    "# This variable will be used to count the number of times anyone use the word architecture\n",
    "architecture_count = 0\n",
    "\n",
    "# Help other people reading the code understand it faster:\n",
    "# This code will calculate the weather prediction for tomorrow\n",
    "weather_prediction_for_tomorrow()\n",
    "\n",
    "# Ignore a line of code and see how a program will run without it:\n",
    "# value = old_code()\n",
    "value = new_code()"
   ]
  },
  {
   "cell_type": "markdown",
   "metadata": {},
   "source": [
    "### Print function"
   ]
  },
  {
   "cell_type": "markdown",
   "metadata": {},
   "source": [
    " In Python, the print() function is used to tell a computer to talk. The message to be printed should be surrounded by quotes (i.e a string).\n",
    " The printed words that appear in console."
   ]
  },
  {
   "cell_type": "code",
   "execution_count": 2,
   "metadata": {},
   "outputs": [
    {
     "name": "stdout",
     "output_type": "stream",
     "text": [
      "Hello World.\n"
     ]
    }
   ],
   "source": [
    "print(\"Hello World.\")"
   ]
  },
  {
   "cell_type": "code",
   "execution_count": 6,
   "metadata": {},
   "outputs": [
    {
     "name": "stdout",
     "output_type": "stream",
     "text": [
      "Hello and welcome to Pyhton for Beginners Course, Lasitha!\n"
     ]
    }
   ],
   "source": [
    "my_name = \"Lasitha\"\n",
    "print(\"Hello and welcome to Pyhton for Beginners Course, \" + my_name + \"!\")"
   ]
  },
  {
   "cell_type": "markdown",
   "metadata": {},
   "source": [
    "# Variables"
   ]
  },
  {
   "cell_type": "markdown",
   "metadata": {},
   "source": [
    "Programming languages offer a method of storing data for reuse. Variables are containers for storing values. In Python, we assign variables by using the equals sign (=). Variables can hold data of many types such as text, numbers, sequences, boolean. Python has no command for declaring a variable. A variable is created the moment you first assign a value to it. Variables do not need to be declared with any particular type, and can even change type after they have been set. When naming variable, you cannot use reserved keywords."
   ]
  },
  {
   "cell_type": "code",
   "execution_count": 7,
   "metadata": {},
   "outputs": [
    {
     "data": {
      "text/plain": [
       "['False',\n",
       " 'None',\n",
       " 'True',\n",
       " 'and',\n",
       " 'as',\n",
       " 'assert',\n",
       " 'async',\n",
       " 'await',\n",
       " 'break',\n",
       " 'class',\n",
       " 'continue',\n",
       " 'def',\n",
       " 'del',\n",
       " 'elif',\n",
       " 'else',\n",
       " 'except',\n",
       " 'finally',\n",
       " 'for',\n",
       " 'from',\n",
       " 'global',\n",
       " 'if',\n",
       " 'import',\n",
       " 'in',\n",
       " 'is',\n",
       " 'lambda',\n",
       " 'nonlocal',\n",
       " 'not',\n",
       " 'or',\n",
       " 'pass',\n",
       " 'raise',\n",
       " 'return',\n",
       " 'try',\n",
       " 'while',\n",
       " 'with',\n",
       " 'yield']"
      ]
     },
     "execution_count": 7,
     "metadata": {},
     "output_type": "execute_result"
    }
   ],
   "source": [
    "import keyword\n",
    "\n",
    "keyword.kwlist"
   ]
  },
  {
   "cell_type": "code",
   "execution_count": 8,
   "metadata": {},
   "outputs": [
    {
     "name": "stdout",
     "output_type": "stream",
     "text": [
      "Hello there\n"
     ]
    }
   ],
   "source": [
    "# declare the variable\n",
    "message_string = \"Hello there\"\n",
    "\n",
    "# Prints \"Hello there\"\n",
    "print(message_string)"
   ]
  },
  {
   "cell_type": "markdown",
   "metadata": {},
   "source": [
    "In the above example, we store the message “Hello there” in a variable called message_string. Variables can’t have spaces or symbols in their names other than an underscore (_). They can’t begin with numbers but they can have numbers after the first letter (e.g., cool_variable_5 is acceptable)."
   ]
  },
  {
   "cell_type": "markdown",
   "metadata": {},
   "source": [
    "If the context of a program changes, we can update a variable but perform the same logical process on it. We want to create a variable message_string, assign a welcome message, and print the greeting. After we greet the user, we want to wish them goodbye at the end. We then update message_string to a departure message and print that out."
   ]
  },
  {
   "cell_type": "code",
   "execution_count": 9,
   "metadata": {},
   "outputs": [
    {
     "name": "stdout",
     "output_type": "stream",
     "text": [
      "Hello there!\n",
      "Thank you, good bye!\n"
     ]
    }
   ],
   "source": [
    "# Greeting\n",
    "message_string = \"Hello there!\"\n",
    "print(message_string)\n",
    "\n",
    "# Farewell\n",
    "message_string = \"Thank you, good bye!\"\n",
    "print(message_string)"
   ]
  },
  {
   "cell_type": "code",
   "execution_count": 10,
   "metadata": {},
   "outputs": [],
   "source": [
    "my_variable = 123\n",
    "my_variable = \"One Two Three\""
   ]
  },
  {
   "cell_type": "markdown",
   "metadata": {},
   "source": [
    "After line 1, my_variable is an int. After line 2, my_variable is a str."
   ]
  },
  {
   "cell_type": "markdown",
   "metadata": {},
   "source": [
    "#### Multi-line Strings\n",
    "By using three quote-marks (\"\"\" or ''') instead of one, we tell the program that the string doesn’t end until the next triple-quote."
   ]
  },
  {
   "cell_type": "code",
   "execution_count": 11,
   "metadata": {},
   "outputs": [
    {
     "data": {
      "text/plain": [
       "'\\nThis is a mutiline text!.\\nThis is a mutiline text!.\\nThis is a mutiline text!.\\nThis is a mutiline text!.\\nThis is a mutiline text!.\\n'"
      ]
     },
     "execution_count": 11,
     "metadata": {},
     "output_type": "execute_result"
    }
   ],
   "source": [
    "multiline_text = \"\"\"\n",
    "This is a mutiline text!.\n",
    "This is a mutiline text!.\n",
    "This is a mutiline text!.\n",
    "This is a mutiline text!.\n",
    "This is a mutiline text!.\n",
    "\"\"\"\n",
    "\n",
    "multiline_text"
   ]
  },
  {
   "cell_type": "markdown",
   "metadata": {},
   "source": [
    "# Errors"
   ]
  },
  {
   "cell_type": "markdown",
   "metadata": {},
   "source": [
    "Programming languages attempt to understand and explain mistakes made in the code.\n",
    "\n",
    "Python refers to these mistakes as errors and will point to the location where an error occurred with a ^ character. When programs throw errors that we didn’t expect to encounter we call those errors bugs. Programmers call the process of updating the program so that it no longer produces unexpected errors debugging.\n",
    "\n",
    "Two common errors that we encounter while writing Python are SyntaxError and NameError.\n",
    "\n",
    "SyntaxError means there is something wrong with the way your program is written — punctuation that does not belong, a command where it is not expected, or a missing parenthesis can all trigger a SyntaxError.\n",
    "\n",
    "A NameError occurs when the Python interpreter sees a word it does not recognize. Code that contains something that looks like a variable but was never defined will throw a NameError."
   ]
  },
  {
   "cell_type": "code",
   "execution_count": 12,
   "metadata": {},
   "outputs": [
    {
     "ename": "SyntaxError",
     "evalue": "unterminated string literal (detected at line 1) (968202474.py, line 1)",
     "output_type": "error",
     "traceback": [
      "\u001b[1;36m  Cell \u001b[1;32mIn[12], line 1\u001b[1;36m\u001b[0m\n\u001b[1;33m    print('This string has mismatched quote marks!\")\u001b[0m\n\u001b[1;37m          ^\u001b[0m\n\u001b[1;31mSyntaxError\u001b[0m\u001b[1;31m:\u001b[0m unterminated string literal (detected at line 1)\n"
     ]
    }
   ],
   "source": [
    "print('This string has mismatched quote marks!\")"
   ]
  },
  {
   "cell_type": "code",
   "execution_count": 13,
   "metadata": {},
   "outputs": [
    {
     "name": "stdout",
     "output_type": "stream",
     "text": [
      "This string has mismatched quote marks!\n"
     ]
    }
   ],
   "source": [
    "print('This string has mismatched quote marks!')"
   ]
  },
  {
   "cell_type": "code",
   "execution_count": 14,
   "metadata": {},
   "outputs": [
    {
     "ename": "NameError",
     "evalue": "name 'my_age' is not defined",
     "output_type": "error",
     "traceback": [
      "\u001b[1;31m---------------------------------------------------------------------------\u001b[0m",
      "\u001b[1;31mNameError\u001b[0m                                 Traceback (most recent call last)",
      "Cell \u001b[1;32mIn[14], line 2\u001b[0m\n\u001b[0;32m      1\u001b[0m \u001b[39m# we have not define a variable called my_age\u001b[39;00m\n\u001b[1;32m----> 2\u001b[0m \u001b[39mprint\u001b[39m(my_age)\n",
      "\u001b[1;31mNameError\u001b[0m: name 'my_age' is not defined"
     ]
    }
   ],
   "source": [
    "# we have not define a variable called my_age\n",
    "print(my_age)"
   ]
  },
  {
   "cell_type": "markdown",
   "metadata": {},
   "source": [
    "# Data Types"
   ]
  },
  {
   "cell_type": "markdown",
   "metadata": {},
   "source": [
    "## Number types"
   ]
  },
  {
   "cell_type": "markdown",
   "metadata": {},
   "source": [
    "  Python has a few numeric data types. It has multiple ways of storing numbers. Which one you use depends on your intended purpose for the number you are saving."
   ]
  },
  {
   "cell_type": "markdown",
   "metadata": {},
   "source": [
    "An integer, or int, is a whole number. It has no decimal point and contains all counting numbers (1, 2, 3, …) as well as their negative counterparts and the number 0. For example, yf you were counting the number of people in a room, you would likely use an integer.\n",
    "\n",
    "A floating-point number, or a float, is a decimal number. It can be used to represent fractional quantities as well as precise measurements. If you were measuring the length of your table, you would likely use a float."
   ]
  },
  {
   "cell_type": "code",
   "execution_count": 15,
   "metadata": {},
   "outputs": [
    {
     "name": "stdout",
     "output_type": "stream",
     "text": [
      "<class 'int'> <class 'float'>\n"
     ]
    }
   ],
   "source": [
    "num_people = 35\n",
    "table_length = 128.3\n",
    "\n",
    "print(type(num_people),type(table_length))"
   ]
  },
  {
   "cell_type": "markdown",
   "metadata": {},
   "source": [
    "#### Calculations on Numbers"
   ]
  },
  {
   "cell_type": "markdown",
   "metadata": {},
   "source": [
    "Python performs the arithmetic operations of addition, subtraction, multiplication, and division with +, -, *, and /."
   ]
  },
  {
   "cell_type": "code",
   "execution_count": 16,
   "metadata": {},
   "outputs": [
    {
     "name": "stdout",
     "output_type": "stream",
     "text": [
      "500\n",
      "50\n",
      "2.0\n"
     ]
    }
   ],
   "source": [
    "# Prints \"500\"\n",
    "print(573 - 74 + 1)\n",
    " \n",
    "# Prints \"50\"\n",
    "print(25 * 2)\n",
    " \n",
    "# Prints \"2.0\"\n",
    "print(10 / 5)"
   ]
  },
  {
   "cell_type": "markdown",
   "metadata": {},
   "source": [
    "Exponents\n",
    "\n",
    "Calculate $ 2^{10} $"
   ]
  },
  {
   "cell_type": "code",
   "execution_count": 17,
   "metadata": {},
   "outputs": [
    {
     "name": "stdout",
     "output_type": "stream",
     "text": [
      "1024\n"
     ]
    }
   ],
   "source": [
    "# 2 to the 10th power, or 1024\n",
    "print(2 ** 10)"
   ]
  },
  {
   "cell_type": "markdown",
   "metadata": {},
   "source": [
    "Modulo"
   ]
  },
  {
   "cell_type": "markdown",
   "metadata": {},
   "source": [
    "Python offers a companion to the division operator called the modulo operator. The modulo operator is indicated by % and gives the remainder of a division calculation. If the number is divisible, then the result of the modulo operator will be 0."
   ]
  },
  {
   "cell_type": "code",
   "execution_count": 18,
   "metadata": {},
   "outputs": [
    {
     "name": "stdout",
     "output_type": "stream",
     "text": [
      "4\n",
      "2\n",
      "0\n"
     ]
    }
   ],
   "source": [
    "# Prints 4 because 29 / 5 is 5 with a remainder of 4\n",
    "print(29 % 5)\n",
    " \n",
    "# Prints 2 because 32 / 3 is 10 with a remainder of 2\n",
    "print(32 % 3)\n",
    " \n",
    "# Modulo by 2 returns 0 for even numbers and 1 for odd numbers\n",
    "# Prints 0\n",
    "print(44 % 2)"
   ]
  },
  {
   "cell_type": "markdown",
   "metadata": {},
   "source": [
    "#### Plus Equals += operator"
   ]
  },
  {
   "cell_type": "markdown",
   "metadata": {},
   "source": [
    "Python offers a shorthand for updating variables. When you have a number saved in a variable and want to add to the current value of the variable, you can use the += (plus-equals) operator."
   ]
  },
  {
   "cell_type": "code",
   "execution_count": 19,
   "metadata": {},
   "outputs": [
    {
     "name": "stdout",
     "output_type": "stream",
     "text": [
      "4\n"
     ]
    }
   ],
   "source": [
    "# First we have a variable with a number saved\n",
    "number_of_hours_studied = 2\n",
    " \n",
    "# Let's say we study two more hours\n",
    "number_of_hours_studied += 2\n",
    " \n",
    "# The new value is the old value\n",
    "# Plus the number after the plus-equals\n",
    "print(number_of_hours_studied)"
   ]
  },
  {
   "cell_type": "markdown",
   "metadata": {},
   "source": [
    "## Text Type: String (str)"
   ]
  },
  {
   "cell_type": "markdown",
   "metadata": {},
   "source": [
    "Computer programmers refer to blocks of text as strings. In Python a string is either surrounded by double quotes (\"Hello world\") or single quotes ('Hello world'). It doesn’t matter which kind you use, just be consistent."
   ]
  },
  {
   "cell_type": "code",
   "execution_count": 20,
   "metadata": {},
   "outputs": [
    {
     "name": "stdout",
     "output_type": "stream",
     "text": [
      "It is 13°C in Eindhoven today.\n"
     ]
    }
   ],
   "source": [
    "print(\"It is 13°C in Eindhoven today.\")"
   ]
  },
  {
   "cell_type": "code",
   "execution_count": 21,
   "metadata": {},
   "outputs": [
    {
     "name": "stdout",
     "output_type": "stream",
     "text": [
      "It is 13°C in Eindhoven today.\n"
     ]
    }
   ],
   "source": [
    "print(\"It is 13°C in Eindhoven today.\")"
   ]
  },
  {
   "cell_type": "markdown",
   "metadata": {},
   "source": [
    "#### String Concatenation\n",
    "The + operator doesn’t just add two numbers, it can also “add” two strings! The process of combining two strings is called string concatenation. Performing string concatenation creates a brand new string comprised of the first string’s contents followed by the second string’s contents (without any added space in-between)."
   ]
  },
  {
   "cell_type": "code",
   "execution_count": 22,
   "metadata": {},
   "outputs": [
    {
     "name": "stdout",
     "output_type": "stream",
     "text": [
      "It is 13°C in Eindhoven today.How are you feeling today?\n"
     ]
    }
   ],
   "source": [
    "weather_text = \"It is 13°C in Eindhoven today.\"\n",
    "greeting_text = \"How are you feeling today?\"\n",
    "full_text = weather_text + greeting_text\n",
    "\n",
    "print(full_text)"
   ]
  },
  {
   "cell_type": "code",
   "execution_count": 23,
   "metadata": {},
   "outputs": [
    {
     "name": "stdout",
     "output_type": "stream",
     "text": [
      "It is 13°C in Eindhoven today. How are you feeling today?\n"
     ]
    }
   ],
   "source": [
    "full_text = weather_text + \" \" + greeting_text\n",
    "\n",
    "print(full_text)"
   ]
  },
  {
   "cell_type": "markdown",
   "metadata": {},
   "source": [
    "If you want to concatenate a string with a number you will need to make the number a string first, using the str() function. If you’re trying to print() a numeric variable you can use commas to pass it as a different argument rather than converting it to a string."
   ]
  },
  {
   "cell_type": "code",
   "execution_count": 24,
   "metadata": {},
   "outputs": [
    {
     "name": "stdout",
     "output_type": "stream",
     "text": [
      "It is 13°C in Eindhoven today. How are you feeling?\n"
     ]
    }
   ],
   "source": [
    "greeting_string_1 = \"It is \"\n",
    "temp = 13\n",
    "greeting_string_2 = \"°C in Eindhoven today.\"\n",
    "greeting_string_3 = \" How are you feeling?\"\n",
    " \n",
    "# Concatenating an integer with strings is possible if we turn the integer into a string first\n",
    "full_greeting_string = greeting_string_1 + str(temp) + greeting_string_2 + greeting_string_3\n",
    " \n",
    "\n",
    "print(full_greeting_string)"
   ]
  },
  {
   "cell_type": "markdown",
   "metadata": {},
   "source": [
    "Using str() we can convert variables that are not strings to strings and then concatenate them. But we don’t need to convert a number to a string for it to be an argument to a print statement."
   ]
  },
  {
   "cell_type": "code",
   "execution_count": 25,
   "metadata": {},
   "outputs": [
    {
     "name": "stdout",
     "output_type": "stream",
     "text": [
      "It is  13 °C in Eindhoven today.  How are you feeling?\n"
     ]
    }
   ],
   "source": [
    "# If we just want to print an integer \n",
    "# we can pass a variable as an argument to \n",
    "# print() regardless of whether \n",
    "# it is a string.\n",
    " \n",
    "# This also prints \"I am 10 years old today!\"\n",
    "print(greeting_string_1, temp, greeting_string_2, greeting_string_3)"
   ]
  },
  {
   "cell_type": "markdown",
   "metadata": {},
   "source": [
    "Now we want to see the temperature in Fahrenheit as well"
   ]
  },
  {
   "cell_type": "code",
   "execution_count": 26,
   "metadata": {},
   "outputs": [
    {
     "name": "stdout",
     "output_type": "stream",
     "text": [
      "55.4\n"
     ]
    }
   ],
   "source": [
    "print(13* 9/5 + 32)"
   ]
  },
  {
   "cell_type": "code",
   "execution_count": 28,
   "metadata": {},
   "outputs": [
    {
     "ename": "TypeError",
     "evalue": "can only concatenate str (not \"float\") to str",
     "output_type": "error",
     "traceback": [
      "\u001b[1;31m---------------------------------------------------------------------------\u001b[0m",
      "\u001b[1;31mTypeError\u001b[0m                                 Traceback (most recent call last)",
      "Cell \u001b[1;32mIn[28], line 1\u001b[0m\n\u001b[1;32m----> 1\u001b[0m \u001b[39mprint\u001b[39m(\u001b[39m\"\u001b[39;49m\u001b[39mIt is 13°C \u001b[39;49m\u001b[39m\"\u001b[39;49m \u001b[39m+\u001b[39;49m (\u001b[39m13\u001b[39;49m\u001b[39m*\u001b[39;49m \u001b[39m9\u001b[39;49m\u001b[39m/\u001b[39;49m\u001b[39m5\u001b[39;49m \u001b[39m+\u001b[39;49m \u001b[39m32\u001b[39;49m) \u001b[39m+\u001b[39m \u001b[39m\"\u001b[39m\u001b[39m °F in Eindhoven today.\u001b[39m\u001b[39m\"\u001b[39m)\n",
      "\u001b[1;31mTypeError\u001b[0m: can only concatenate str (not \"float\") to str"
     ]
    }
   ],
   "source": [
    "print(\"It is 13°C \" + (13* 9/5 + 32) + \" °F in Eindhoven today.\")"
   ]
  },
  {
   "cell_type": "code",
   "execution_count": 29,
   "metadata": {},
   "outputs": [
    {
     "name": "stdout",
     "output_type": "stream",
     "text": [
      "It is 13°C 55.4 °F in Eindhoven today.\n"
     ]
    }
   ],
   "source": [
    "print(\"It is 13°C \" + str(13* 9/5 + 32) + \" °F in Eindhoven today.\")"
   ]
  },
  {
   "cell_type": "markdown",
   "metadata": {},
   "source": [
    "### F-strings\n",
    "The idea behind f-strings is to make string interpolation simpler. \n",
    "To create an f-string, prefix the string with the letter “ f ”. The string itself can be formatted in much the same way that you would with str.format(). F-strings provide a concise and convenient way to embed python expressions inside string literals for formatting."
   ]
  },
  {
   "cell_type": "code",
   "execution_count": 30,
   "metadata": {},
   "outputs": [
    {
     "name": "stdout",
     "output_type": "stream",
     "text": [
      "It is 13°C (55.4°F) in Eindhoven today.\n"
     ]
    }
   ],
   "source": [
    "print(f\"It is 13°C ({13* 9/5 + 32}°F) in Eindhoven today.\")"
   ]
  },
  {
   "cell_type": "code",
   "execution_count": 31,
   "metadata": {},
   "outputs": [
    {
     "name": "stdout",
     "output_type": "stream",
     "text": [
      "It is 13°C (55.4°F) in Eindhoven today.\n",
      "It is 14°C (57.2°F) in Eindhoven today.\n",
      "It is 15°C (59.0°F) in Eindhoven today.\n",
      "It is 16°C (60.8°F) in Eindhoven today.\n"
     ]
    }
   ],
   "source": [
    "print(f\"It is 13°C ({13* 9/5 + 32}°F) in Eindhoven today.\")\n",
    "print(f\"It is 14°C ({14* 9/5 + 32}°F) in Eindhoven today.\")\n",
    "print(f\"It is 15°C ({15* 9/5 + 32}°F) in Eindhoven today.\")\n",
    "print(f\"It is 16°C ({16* 9/5 + 32}°F) in Eindhoven today.\")"
   ]
  },
  {
   "cell_type": "markdown",
   "metadata": {},
   "source": [
    "# Functions"
   ]
  },
  {
   "cell_type": "markdown",
   "metadata": {},
   "source": [
    "We can write a function to avoid repeating the same logic over and over.\n",
    "Use def keyword to define a function. A function only runs when it is called."
   ]
  },
  {
   "cell_type": "code",
   "execution_count": 32,
   "metadata": {},
   "outputs": [],
   "source": [
    "def celsius_to_fahrenheit(deg_c):\n",
    "    deg_f = deg_c * 9/5 + 32\n",
    "    print(f\"It is {deg_c}°C ({deg_f}°F) in Eindhoven today.\")"
   ]
  },
  {
   "cell_type": "markdown",
   "metadata": {},
   "source": [
    "Calling the function that we wrote:"
   ]
  },
  {
   "cell_type": "code",
   "execution_count": 33,
   "metadata": {},
   "outputs": [
    {
     "name": "stdout",
     "output_type": "stream",
     "text": [
      "It is 20°C (68.0°F) in Eindhoven today.\n"
     ]
    }
   ],
   "source": [
    "celsius_to_fahrenheit(20)"
   ]
  },
  {
   "cell_type": "code",
   "execution_count": 34,
   "metadata": {},
   "outputs": [
    {
     "name": "stdout",
     "output_type": "stream",
     "text": [
      "It is 7°C (44.6°F) in Eindhoven today.\n"
     ]
    }
   ],
   "source": [
    "celsius_to_fahrenheit(7)"
   ]
  },
  {
   "cell_type": "markdown",
   "metadata": {},
   "source": [
    "Let's add one more argument to our function."
   ]
  },
  {
   "cell_type": "code",
   "execution_count": 35,
   "metadata": {},
   "outputs": [],
   "source": [
    "def celsius_to_fahrenheit(deg_c, message):\n",
    "    deg_f = deg_c * 9/5 + 32\n",
    "    print(f\"It is {deg_c}°C ({deg_f}°F) in Eindhoven today.\")\n",
    "    print(message)"
   ]
  },
  {
   "cell_type": "code",
   "execution_count": 36,
   "metadata": {},
   "outputs": [
    {
     "name": "stdout",
     "output_type": "stream",
     "text": [
      "It is 20°C (68.0°F) in Eindhoven today.\n",
      "Enjoy the weather!\n"
     ]
    }
   ],
   "source": [
    "celsius_to_fahrenheit(20, 'Enjoy the weather!')"
   ]
  },
  {
   "cell_type": "markdown",
   "metadata": {},
   "source": [
    "### Variable scope in functions\n",
    "A variable in only available from inside the region it is created. There are two kinds of scope, global scope and local scope. If a variable is created within a function, it belong to the function's local scope and can only be accessed within the function."
   ]
  },
  {
   "cell_type": "code",
   "execution_count": 37,
   "metadata": {},
   "outputs": [
    {
     "name": "stdout",
     "output_type": "stream",
     "text": [
      "It is 13°C (55.4°F) in Eindhoven today.\n",
      "This is a global variable\n"
     ]
    }
   ],
   "source": [
    "global_variable = 'This is a global variable'\n",
    "\n",
    "def celsius_to_fahrenheit(deg_c):\n",
    "    deg_f = deg_c * 9/5 + 32\n",
    "    print(f\"It is {deg_c}°C ({deg_f}°F) in Eindhoven today.\")\n",
    "    print(global_variable)\n",
    "\n",
    "celsius_to_fahrenheit(13)"
   ]
  },
  {
   "cell_type": "code",
   "execution_count": 38,
   "metadata": {},
   "outputs": [
    {
     "name": "stdout",
     "output_type": "stream",
     "text": [
      "It is 13°C (55.4°F) in Eindhoven today.\n",
      "This is a global variable\n",
      "Enjoy the weather\n"
     ]
    }
   ],
   "source": [
    "global_variable = 'This is a global variable'\n",
    "\n",
    "def celsius_to_fahrenheit(deg_c):\n",
    "    message = 'Enjoy the weather'\n",
    "    deg_f = deg_c * 9/5 + 32\n",
    "    print(f\"It is {deg_c}°C ({deg_f}°F) in Eindhoven today.\")\n",
    "    print(global_variable)\n",
    "    print(message)\n",
    "\n",
    "celsius_to_fahrenheit(13)"
   ]
  },
  {
   "cell_type": "code",
   "execution_count": 39,
   "metadata": {},
   "outputs": [
    {
     "name": "stdout",
     "output_type": "stream",
     "text": [
      "It is 13°C (55.4°F) in Eindhoven today.\n",
      "This is a global variable\n",
      "Enjoy the weather\n"
     ]
    },
    {
     "ename": "NameError",
     "evalue": "name 'message' is not defined",
     "output_type": "error",
     "traceback": [
      "\u001b[1;31m---------------------------------------------------------------------------\u001b[0m",
      "\u001b[1;31mNameError\u001b[0m                                 Traceback (most recent call last)",
      "Cell \u001b[1;32mIn[39], line 11\u001b[0m\n\u001b[0;32m      8\u001b[0m     \u001b[39mprint\u001b[39m(message)\n\u001b[0;32m     10\u001b[0m celsius_to_fahrenheit(\u001b[39m13\u001b[39m)\n\u001b[1;32m---> 11\u001b[0m \u001b[39mprint\u001b[39m(message)\n",
      "\u001b[1;31mNameError\u001b[0m: name 'message' is not defined"
     ]
    }
   ],
   "source": [
    "global_variable = 'This is a global variable'\n",
    "\n",
    "def celsius_to_fahrenheit(deg_c):\n",
    "    message = 'Enjoy the weather'\n",
    "    deg_f = deg_c * 9/5 + 32\n",
    "    print(f\"It is {deg_c}°C ({deg_f}°F) in Eindhoven today.\")\n",
    "    print(global_variable)\n",
    "    print(message)\n",
    "\n",
    "celsius_to_fahrenheit(13)\n",
    "print(message)"
   ]
  },
  {
   "cell_type": "markdown",
   "metadata": {},
   "source": [
    "### Return value from function"
   ]
  },
  {
   "cell_type": "code",
   "execution_count": 40,
   "metadata": {},
   "outputs": [
    {
     "name": "stdout",
     "output_type": "stream",
     "text": [
      "It is 12°C (53.6°F) in Eindhoven today.\n",
      "None\n"
     ]
    }
   ],
   "source": [
    "def celsius_to_fahrenheit(deg_c):\n",
    "    deg_f = deg_c * 9/5 + 32\n",
    "    print(f\"It is {deg_c}°C ({deg_f}°F) in Eindhoven today.\")\n",
    "\n",
    "output = celsius_to_fahrenheit(12)\n",
    "print(output)"
   ]
  },
  {
   "cell_type": "code",
   "execution_count": 57,
   "metadata": {},
   "outputs": [],
   "source": [
    "def celsius_to_fahrenheit(deg_c):\n",
    "    deg_f = deg_c * 9/5 + 32\n",
    "    return f\"It is {deg_c}°C ({deg_f}°F) in Eindhoven today.\""
   ]
  },
  {
   "cell_type": "code",
   "execution_count": 58,
   "metadata": {},
   "outputs": [
    {
     "name": "stdout",
     "output_type": "stream",
     "text": [
      "It is 12°C (53.6°F) in Eindhoven today.\n"
     ]
    }
   ],
   "source": [
    "output = celsius_to_fahrenheit(12)\n",
    "print(output)"
   ]
  },
  {
   "cell_type": "markdown",
   "metadata": {},
   "source": [
    "### Default values"
   ]
  },
  {
   "cell_type": "code",
   "execution_count": 59,
   "metadata": {},
   "outputs": [
    {
     "name": "stdout",
     "output_type": "stream",
     "text": [
      "It is 12°C (53.6°F) in Eindhoven today. Enjoy the weather!\n"
     ]
    }
   ],
   "source": [
    "def celsius_to_fahrenheit(deg_c=12, message='Enjoy the weather!'): # you can set default values by assigning them at function dfinition\n",
    "    deg_f = deg_c * 9/5 + 32\n",
    "    print(f\"It is {deg_c}°C ({deg_c* 9/5 + 32}°F) in Eindhoven today.\", message)\n",
    "\n",
    "celsius_to_fahrenheit() # when you call a function without arguments, it uses default arguments if available."
   ]
  },
  {
   "cell_type": "markdown",
   "metadata": {},
   "source": [
    "Let's run the original function again"
   ]
  },
  {
   "cell_type": "code",
   "execution_count": 83,
   "metadata": {},
   "outputs": [],
   "source": [
    "def celsius_to_fahrenheit(deg_c):\n",
    "    deg_f = deg_c * 9/5 + 32\n",
    "    return f\"It is {deg_c}°C ({deg_f}°F) in Eindhoven today.\""
   ]
  },
  {
   "cell_type": "markdown",
   "metadata": {},
   "source": [
    "# Input from a user"
   ]
  },
  {
   "cell_type": "markdown",
   "metadata": {},
   "source": [
    "input() is a built-in Python function (comes with Python, so we can use it by not writing the functionality ourselves). This finction allows us to get an input from the user.\n",
    "\n",
    "Let's get the temperature from the user now."
   ]
  },
  {
   "cell_type": "code",
   "execution_count": 60,
   "metadata": {},
   "outputs": [
    {
     "name": "stdout",
     "output_type": "stream",
     "text": [
      "12\n"
     ]
    }
   ],
   "source": [
    "user_input = input('Give the temperature in degrees celsius and I will convert it to Fahrenheit!')\n",
    "print(user_input)"
   ]
  },
  {
   "cell_type": "markdown",
   "metadata": {},
   "source": [
    "Now, let's try to pass the user input in to our converter."
   ]
  },
  {
   "cell_type": "code",
   "execution_count": 84,
   "metadata": {},
   "outputs": [
    {
     "ename": "TypeError",
     "evalue": "unsupported operand type(s) for /: 'str' and 'int'",
     "output_type": "error",
     "traceback": [
      "\u001b[1;31m---------------------------------------------------------------------------\u001b[0m",
      "\u001b[1;31mTypeError\u001b[0m                                 Traceback (most recent call last)",
      "Cell \u001b[1;32mIn[84], line 3\u001b[0m\n\u001b[0;32m      1\u001b[0m user_input \u001b[39m=\u001b[39m \u001b[39minput\u001b[39m(\u001b[39m'\u001b[39m\u001b[39mGive the temperature in degrees celsius and I will convert it to Fahrenheit!\u001b[39m\u001b[39m'\u001b[39m)\n\u001b[1;32m----> 3\u001b[0m celsius_to_fahrenheit(user_input)\n",
      "Cell \u001b[1;32mIn[83], line 2\u001b[0m, in \u001b[0;36mcelsius_to_fahrenheit\u001b[1;34m(deg_c)\u001b[0m\n\u001b[0;32m      1\u001b[0m \u001b[39mdef\u001b[39;00m \u001b[39mcelsius_to_fahrenheit\u001b[39m(deg_c):\n\u001b[1;32m----> 2\u001b[0m     deg_f \u001b[39m=\u001b[39m deg_c \u001b[39m*\u001b[39;49m \u001b[39m9\u001b[39;49m\u001b[39m/\u001b[39;49m\u001b[39m5\u001b[39;49m \u001b[39m+\u001b[39m \u001b[39m32\u001b[39m\n\u001b[0;32m      3\u001b[0m     \u001b[39mreturn\u001b[39;00m \u001b[39mf\u001b[39m\u001b[39m\"\u001b[39m\u001b[39mIt is \u001b[39m\u001b[39m{\u001b[39;00mdeg_c\u001b[39m}\u001b[39;00m\u001b[39m°C (\u001b[39m\u001b[39m{\u001b[39;00mdeg_f\u001b[39m}\u001b[39;00m\u001b[39m°F) in Eindhoven today.\u001b[39m\u001b[39m\"\u001b[39m\n",
      "\u001b[1;31mTypeError\u001b[0m: unsupported operand type(s) for /: 'str' and 'int'"
     ]
    }
   ],
   "source": [
    "user_input = input('Give the temperature in degrees celsius and I will convert it to Fahrenheit!')\n",
    "\n",
    "celsius_to_fahrenheit(user_input)"
   ]
  },
  {
   "cell_type": "markdown",
   "metadata": {},
   "source": [
    "Let's check the type of user input"
   ]
  },
  {
   "cell_type": "code",
   "execution_count": 62,
   "metadata": {},
   "outputs": [
    {
     "data": {
      "text/plain": [
       "str"
      ]
     },
     "execution_count": 62,
     "metadata": {},
     "output_type": "execute_result"
    }
   ],
   "source": [
    "type(user_input)\n",
    "# It is a string. But our converter needs a number!"
   ]
  },
  {
   "cell_type": "code",
   "execution_count": 63,
   "metadata": {},
   "outputs": [
    {
     "data": {
      "text/plain": [
       "int"
      ]
     },
     "execution_count": 63,
     "metadata": {},
     "output_type": "execute_result"
    }
   ],
   "source": [
    "# We can use type casting to convert it into a number\n",
    "type(int(user_input))\n",
    "# Now it is a number"
   ]
  },
  {
   "cell_type": "code",
   "execution_count": 64,
   "metadata": {},
   "outputs": [
    {
     "name": "stdout",
     "output_type": "stream",
     "text": [
      "It is 12°C (53.6°F) in Eindhoven today. Enjoy the weather!\n"
     ]
    }
   ],
   "source": [
    "celsius_to_fahrenheit(int(user_input))"
   ]
  },
  {
   "cell_type": "code",
   "execution_count": 65,
   "metadata": {},
   "outputs": [
    {
     "name": "stdout",
     "output_type": "stream",
     "text": [
      "It is 12°C (53.6°F) in Eindhoven today. Enjoy the weather!\n"
     ]
    }
   ],
   "source": [
    "user_input = input('Give the temperature in degrees celsius and I will convert it to Fahrenheit!')\n",
    "user_input_as_num = int(user_input)\n",
    "celsius_to_fahrenheit(user_input_as_num)"
   ]
  },
  {
   "cell_type": "markdown",
   "metadata": {},
   "source": [
    "Let's see what happens if the user input is not a number."
   ]
  },
  {
   "cell_type": "code",
   "execution_count": 67,
   "metadata": {},
   "outputs": [
    {
     "ename": "ValueError",
     "evalue": "invalid literal for int() with base 10: \"'12'\"",
     "output_type": "error",
     "traceback": [
      "\u001b[1;31m---------------------------------------------------------------------------\u001b[0m",
      "\u001b[1;31mValueError\u001b[0m                                Traceback (most recent call last)",
      "Cell \u001b[1;32mIn[67], line 2\u001b[0m\n\u001b[0;32m      1\u001b[0m user_input \u001b[39m=\u001b[39m \u001b[39minput\u001b[39m(\u001b[39m'\u001b[39m\u001b[39mGive the temperature in degrees celsius and I will convert it to Fahrenheit!\u001b[39m\u001b[39m'\u001b[39m) \u001b[39m# Give a text input\u001b[39;00m\n\u001b[1;32m----> 2\u001b[0m user_input_as_num \u001b[39m=\u001b[39m \u001b[39mint\u001b[39;49m(user_input)\n\u001b[0;32m      3\u001b[0m celsius_to_fahrenheit(user_input_as_num)\n",
      "\u001b[1;31mValueError\u001b[0m: invalid literal for int() with base 10: \"'12'\""
     ]
    }
   ],
   "source": [
    "user_input = input('Give the temperature in degrees celsius and I will convert it to Fahrenheit!') # Give a text input\n",
    "user_input_as_num = int(user_input)\n",
    "celsius_to_fahrenheit(user_input_as_num)"
   ]
  },
  {
   "cell_type": "markdown",
   "metadata": {},
   "source": [
    "# Conditionals - If \\ else for Validation"
   ]
  },
  {
   "cell_type": "code",
   "execution_count": 86,
   "metadata": {},
   "outputs": [
    {
     "name": "stdout",
     "output_type": "stream",
     "text": [
      "Cannot convert a non numeric value, sorry!\n"
     ]
    }
   ],
   "source": [
    "user_input = input('Give the temperature in degrees celsius and I will convert it to Fahrenheit!')\n",
    "\n",
    "if user_input.isdigit(): # validation\n",
    "    user_input_as_num = int(user_input) # type casting\n",
    "    deg_f = celsius_to_fahrenheit(user_input_as_num) # calling the conversion function\n",
    "    print(deg_f)\n",
    "else: # validation\n",
    "    print('Cannot convert a non numeric value, sorry!')\n",
    "\n",
    "# Now, our code runs without a problem, even if the inout is a text!"
   ]
  },
  {
   "cell_type": "markdown",
   "metadata": {},
   "source": [
    "Let's define a function for validating the user input and perform the conversion"
   ]
  },
  {
   "cell_type": "code",
   "execution_count": 87,
   "metadata": {},
   "outputs": [],
   "source": [
    "def validate_input_and_convert():\n",
    "    if user_input.isdigit():\n",
    "        user_input_as_num = int(user_input)\n",
    "        deg_f = celsius_to_fahrenheit(user_input_as_num)\n",
    "        print(deg_f)\n",
    "    else:\n",
    "     print('Cannot convert a non numeric value, sorry!')"
   ]
  },
  {
   "cell_type": "code",
   "execution_count": 88,
   "metadata": {},
   "outputs": [
    {
     "name": "stdout",
     "output_type": "stream",
     "text": [
      "It is 12°C (53.6°F) in Eindhoven today.\n"
     ]
    }
   ],
   "source": [
    "user_input = input('Give the temperature in degrees celsius and I will convert it to Fahrenheit!')\n",
    "validate_input_and_convert()"
   ]
  },
  {
   "cell_type": "markdown",
   "metadata": {},
   "source": [
    "# Loops (for, while) to execute logic multiple times\n",
    "Our program only run once. Let's try to run it continuously. A While loop permits code to execute repeatedly until a certain condition is met. This is useful if the number of iterations required to complete a task is unknown prior to flow entering the loop."
   ]
  },
  {
   "cell_type": "code",
   "execution_count": 53,
   "metadata": {},
   "outputs": [],
   "source": [
    "# while True:\n",
    "#     user_input = input('Give the temperature in degrees celsius and I will convert it to Fahrenheit!')\n",
    "#     validate_input_and_convert()"
   ]
  },
  {
   "cell_type": "code",
   "execution_count": 89,
   "metadata": {},
   "outputs": [
    {
     "name": "stdout",
     "output_type": "stream",
     "text": [
      "It is 12°C (53.6°F) in Eindhoven today.\n",
      "It is 3°C (37.4°F) in Eindhoven today.\n",
      "It is 4°C (39.2°F) in Eindhoven today.\n",
      "It is 5°C (41.0°F) in Eindhoven today.\n",
      "Cannot convert a non numeric value, sorry!\n"
     ]
    }
   ],
   "source": [
    "user_input = input('Give the temperature in degrees celsius and I will convert it to Fahrenheit!')\n",
    "\n",
    "while user_input != \"exit\": # Note the colon and indentation.\n",
    "    user_input = input('Give the temperature in degrees celsius and I will convert it to Fahrenheit!')\n",
    "    validate_input_and_convert()"
   ]
  },
  {
   "cell_type": "markdown",
   "metadata": {},
   "source": [
    "### Let's take a list of inputs"
   ]
  },
  {
   "cell_type": "code",
   "execution_count": 94,
   "metadata": {},
   "outputs": [
    {
     "name": "stdout",
     "output_type": "stream",
     "text": [
      "1 2 3\n",
      "['1', '2', '3']\n"
     ]
    }
   ],
   "source": [
    "user_input = input('Give the temperature in degrees celsius and I will convert it to Fahrenheit!')\n",
    "print(user_input)\n",
    "print(user_input.split())"
   ]
  },
  {
   "cell_type": "code",
   "execution_count": 95,
   "metadata": {},
   "outputs": [
    {
     "name": "stdout",
     "output_type": "stream",
     "text": [
      "It is 1°C (33.8°F) in Eindhoven today.\n",
      "It is 2°C (35.6°F) in Eindhoven today.\n",
      "It is 3°C (37.4°F) in Eindhoven today.\n",
      "It is 4°C (39.2°F) in Eindhoven today.\n",
      "Cannot convert a non numeric value, sorry!\n"
     ]
    }
   ],
   "source": [
    "user_input = ''\n",
    "while user_input != \"exit\":\n",
    "    user_input = input('Give the temperature in degrees celsius and I will convert it to Fahrenheit!')\n",
    "    for temperature in user_input.split(): # split() converts a string in to an array\n",
    "        validate_input_and_convert()"
   ]
  },
  {
   "cell_type": "markdown",
   "metadata": {},
   "source": [
    "Give inputs by seperated by a , instead of space"
   ]
  },
  {
   "cell_type": "code",
   "execution_count": 96,
   "metadata": {},
   "outputs": [
    {
     "name": "stdout",
     "output_type": "stream",
     "text": [
      "It is 1°C (33.8°F) in Eindhoven today.\n",
      "It is 2°C (35.6°F) in Eindhoven today.\n",
      "It is 3°C (37.4°F) in Eindhoven today.\n",
      "It is 4°C (39.2°F) in Eindhoven today.\n",
      "Cannot convert a non numeric value, sorry!\n",
      "Cannot convert a non numeric value, sorry!\n"
     ]
    }
   ],
   "source": [
    "user_input = ''\n",
    "while user_input != \"exit\":\n",
    "    user_input = input('Give the temperature in degrees celsius and I will convert it to Fahrenheit!')\n",
    "    for temperature in user_input.split(','): # split() converts a string in to an array, seperation by a comma (,)\n",
    "        validate_input_and_convert()"
   ]
  },
  {
   "cell_type": "markdown",
   "metadata": {},
   "source": [
    "# Lists and List Operations\n",
    "Lists are created using square brackets. A Python data type that holds an ordered collection of values, which can be of any type. Lists are Python’s ordered mutable data type. \n",
    "\n",
    "https://www.w3schools.com/python/python_lists.asp"
   ]
  },
  {
   "cell_type": "code",
   "execution_count": 97,
   "metadata": {},
   "outputs": [],
   "source": [
    "list1 = [\"apple\", \"banana\", \"cherry\"]\n",
    "list2 = [1, 5, 7, 9, 3]\n",
    "list3 = [True, False, False]\n",
    "my_list = [\"item 1\", 2, \"item 3\", False, 5.8] # List can also store different data types, but it may make little sense"
   ]
  },
  {
   "cell_type": "code",
   "execution_count": 98,
   "metadata": {},
   "outputs": [
    {
     "data": {
      "text/plain": [
       "'banana'"
      ]
     },
     "execution_count": 98,
     "metadata": {},
     "output_type": "execute_result"
    }
   ],
   "source": [
    "# List items are indexed, the first item has index [0], the second item has index [1] etc.\n",
    "list1[1]"
   ]
  },
  {
   "cell_type": "code",
   "execution_count": 99,
   "metadata": {},
   "outputs": [
    {
     "data": {
      "text/plain": [
       "['apple', 'banana', 'cherry', 'pineapple']"
      ]
     },
     "execution_count": 99,
     "metadata": {},
     "output_type": "execute_result"
    }
   ],
   "source": [
    "list1.append('pineapple')\n",
    "list1"
   ]
  },
  {
   "cell_type": "code",
   "execution_count": 100,
   "metadata": {},
   "outputs": [
    {
     "data": {
      "text/plain": [
       "['apple', 'banana', 'cherry', 'pineapple', 'pineapple']"
      ]
     },
     "execution_count": 100,
     "metadata": {},
     "output_type": "execute_result"
    }
   ],
   "source": [
    "list1.append(\"pineapple\")\n",
    "list1\n",
    "# list can contain duplicate values"
   ]
  },
  {
   "cell_type": "code",
   "execution_count": 101,
   "metadata": {},
   "outputs": [
    {
     "data": {
      "text/plain": [
       "['apple', 'banana', 'cherry', 'pineapple']"
      ]
     },
     "execution_count": 101,
     "metadata": {},
     "output_type": "execute_result"
    }
   ],
   "source": [
    "list1.remove('pineapple')\n",
    "list1\n",
    "# it removes the first occurance"
   ]
  },
  {
   "cell_type": "markdown",
   "metadata": {},
   "source": [
    "How to remove all occurances of 'pineapple' from the list?\n",
    "Try googling the method to do it!\n"
   ]
  },
  {
   "cell_type": "code",
   "execution_count": 102,
   "metadata": {},
   "outputs": [
    {
     "data": {
      "text/plain": [
       "['apple', 'banana', 'cherry']"
      ]
     },
     "execution_count": 102,
     "metadata": {},
     "output_type": "execute_result"
    }
   ],
   "source": [
    "# code here\n",
    "list(filter(lambda a: a != 'pineapple', list1))"
   ]
  },
  {
   "cell_type": "markdown",
   "metadata": {},
   "source": [
    "### List Comprehensions\n",
    "\n",
    "Convenient ways to generate or extract information from lists.\n",
    "\n",
    "Syntax --> [variable for variable in iterable condition]"
   ]
  },
  {
   "cell_type": "code",
   "execution_count": 103,
   "metadata": {},
   "outputs": [
    {
     "data": {
      "text/plain": [
       "[2, 4, 6]"
      ]
     },
     "execution_count": 103,
     "metadata": {},
     "output_type": "execute_result"
    }
   ],
   "source": [
    "x_list = [1,2,3,4,5,6,7]\n",
    "\n",
    "even_list = [num for num in x_list if (num % 2 == 0)]\n",
    "\n",
    "even_list"
   ]
  },
  {
   "cell_type": "code",
   "execution_count": 104,
   "metadata": {},
   "outputs": [],
   "source": [
    "# odd list = "
   ]
  },
  {
   "cell_type": "code",
   "execution_count": 105,
   "metadata": {},
   "outputs": [
    {
     "data": {
      "text/plain": [
       "[0, 1, 2, 3, 4, 5, 6, 7, 8, 9]"
      ]
     },
     "execution_count": 105,
     "metadata": {},
     "output_type": "execute_result"
    }
   ],
   "source": [
    "newlist = [x for x in range(10)]\n",
    "newlist"
   ]
  },
  {
   "cell_type": "code",
   "execution_count": 106,
   "metadata": {},
   "outputs": [
    {
     "data": {
      "text/plain": [
       "[0, 1, 2, 3, 4]"
      ]
     },
     "execution_count": 106,
     "metadata": {},
     "output_type": "execute_result"
    }
   ],
   "source": [
    "newlist = [x for x in range(10) if x < 5]\n",
    "newlist"
   ]
  },
  {
   "cell_type": "code",
   "execution_count": 107,
   "metadata": {},
   "outputs": [
    {
     "data": {
      "text/plain": [
       "['APPLE', 'BANANA', 'CHERRY', 'PINEAPPLE']"
      ]
     },
     "execution_count": 107,
     "metadata": {},
     "output_type": "execute_result"
    }
   ],
   "source": [
    "newlist = [x.upper() for x in list1]\n",
    "newlist"
   ]
  },
  {
   "cell_type": "markdown",
   "metadata": {},
   "source": [
    "# Sets"
   ]
  },
  {
   "cell_type": "code",
   "execution_count": 108,
   "metadata": {},
   "outputs": [
    {
     "data": {
      "text/plain": [
       "{'Monday', 'Tuesday'}"
      ]
     },
     "execution_count": 108,
     "metadata": {},
     "output_type": "execute_result"
    }
   ],
   "source": [
    "my_set = { \"Monday\", \"Tuesday\", \"Monday\"}\n",
    "my_set"
   ]
  },
  {
   "cell_type": "code",
   "execution_count": 109,
   "metadata": {},
   "outputs": [
    {
     "data": {
      "text/plain": [
       "{'Monday', 'Thursday', 'Tuesday'}"
      ]
     },
     "execution_count": 109,
     "metadata": {},
     "output_type": "execute_result"
    }
   ],
   "source": [
    "my_set.add(\"Thursday\")\n",
    "my_set"
   ]
  },
  {
   "cell_type": "code",
   "execution_count": 110,
   "metadata": {},
   "outputs": [
    {
     "data": {
      "text/plain": [
       "{'Thursday', 'Tuesday'}"
      ]
     },
     "execution_count": 110,
     "metadata": {},
     "output_type": "execute_result"
    }
   ],
   "source": [
    "my_set.remove(\"Monday\")\n",
    "my_set"
   ]
  },
  {
   "cell_type": "markdown",
   "metadata": {},
   "source": [
    "# Dictionary"
   ]
  },
  {
   "cell_type": "markdown",
   "metadata": {},
   "source": [
    "Dictionaries contain key-value pairs, which refer to pairs of a key and a value separated by a colon :.\n",
    "The values can hold and be a mix of different data types, including lists or even nested dictionaries. However, keys must be an immutable data type such as strings, numbers or tuples."
   ]
  },
  {
   "cell_type": "code",
   "execution_count": 111,
   "metadata": {},
   "outputs": [],
   "source": [
    "groceries = {'fruits': ['mangoes', 'bananas', 'kiwis'],\n",
    "            'protein': ['beef', 'pork', 'salmon'],\n",
    "            'carbs': ['rice', 'pasta', 'bread'],\n",
    "            'veggies': ['lettuce', 'cabbage', 'onions']}"
   ]
  },
  {
   "cell_type": "markdown",
   "metadata": {},
   "source": [
    "In contrast to other data structures such as lists and tuples, there are no built-in ways to use indexing and slicing to access the values in a certain order in the dictionaries. A value within a dictionary can be accessed with its key."
   ]
  },
  {
   "cell_type": "code",
   "execution_count": 112,
   "metadata": {},
   "outputs": [
    {
     "data": {
      "text/plain": [
       "['mangoes', 'bananas', 'kiwis']"
      ]
     },
     "execution_count": 112,
     "metadata": {},
     "output_type": "execute_result"
    }
   ],
   "source": [
    "groceries['fruits']"
   ]
  },
  {
   "cell_type": "code",
   "execution_count": 113,
   "metadata": {},
   "outputs": [
    {
     "data": {
      "text/plain": [
       "['mangoes', 'bananas', 'kiwis']"
      ]
     },
     "execution_count": 113,
     "metadata": {},
     "output_type": "execute_result"
    }
   ],
   "source": [
    "groceries.get('fruits')"
   ]
  },
  {
   "cell_type": "markdown",
   "metadata": {},
   "source": [
    "Likewise, values can be updated in the dictionary using its key:"
   ]
  },
  {
   "cell_type": "code",
   "execution_count": 114,
   "metadata": {},
   "outputs": [
    {
     "data": {
      "text/plain": [
       "['apple', 'grapes']"
      ]
     },
     "execution_count": 114,
     "metadata": {},
     "output_type": "execute_result"
    }
   ],
   "source": [
    "groceries['fruits'] = ['apple', 'grapes']\n",
    "groceries['fruits']"
   ]
  },
  {
   "cell_type": "markdown",
   "metadata": {},
   "source": [
    "Similarly, a new key-value pair can be added to a dictionary:"
   ]
  },
  {
   "cell_type": "code",
   "execution_count": 115,
   "metadata": {},
   "outputs": [
    {
     "data": {
      "text/plain": [
       "{'fruits': ['apple', 'grapes'],\n",
       " 'protein': ['beef', 'pork', 'salmon'],\n",
       " 'carbs': ['rice', 'pasta', 'bread'],\n",
       " 'veggies': ['lettuce', 'cabbage', 'onions'],\n",
       " 'grains': ['beans', 'chickpeas']}"
      ]
     },
     "execution_count": 115,
     "metadata": {},
     "output_type": "execute_result"
    }
   ],
   "source": [
    "groceries['grains'] = ['beans', 'chickpeas']\n",
    "groceries"
   ]
  },
  {
   "cell_type": "code",
   "execution_count": 116,
   "metadata": {},
   "outputs": [],
   "source": [
    "groceries['grains'] = ['beans', 'chickpea']"
   ]
  },
  {
   "cell_type": "markdown",
   "metadata": {},
   "source": [
    "# Built-in functions on data types"
   ]
  },
  {
   "cell_type": "markdown",
   "metadata": {},
   "source": [
    "Data types have their own built-in functions, which can be used with those specific data types."
   ]
  },
  {
   "cell_type": "code",
   "execution_count": 117,
   "metadata": {},
   "outputs": [],
   "source": [
    "list1 = [1,2,3,1]"
   ]
  },
  {
   "cell_type": "code",
   "execution_count": 118,
   "metadata": {},
   "outputs": [
    {
     "data": {
      "text/plain": [
       "2"
      ]
     },
     "execution_count": 118,
     "metadata": {},
     "output_type": "execute_result"
    }
   ],
   "source": [
    "list1.count(1)"
   ]
  },
  {
   "cell_type": "code",
   "execution_count": 119,
   "metadata": {},
   "outputs": [
    {
     "data": {
      "text/plain": [
       "['my', 'text']"
      ]
     },
     "execution_count": 119,
     "metadata": {},
     "output_type": "execute_result"
    }
   ],
   "source": [
    "\"my text\".split()"
   ]
  },
  {
   "cell_type": "code",
   "execution_count": 120,
   "metadata": {},
   "outputs": [
    {
     "ename": "AttributeError",
     "evalue": "'list' object has no attribute 'split'",
     "output_type": "error",
     "traceback": [
      "\u001b[1;31m---------------------------------------------------------------------------\u001b[0m",
      "\u001b[1;31mAttributeError\u001b[0m                            Traceback (most recent call last)",
      "Cell \u001b[1;32mIn[120], line 1\u001b[0m\n\u001b[1;32m----> 1\u001b[0m list1\u001b[39m.\u001b[39;49msplit()\n\u001b[0;32m      2\u001b[0m \u001b[39m#  No such function for a list\u001b[39;00m\n",
      "\u001b[1;31mAttributeError\u001b[0m: 'list' object has no attribute 'split'"
     ]
    }
   ],
   "source": [
    "list1.split()\n",
    "#  No such function for a list"
   ]
  },
  {
   "cell_type": "code",
   "execution_count": 121,
   "metadata": {},
   "outputs": [
    {
     "data": {
      "text/plain": [
       "'MY TEXT'"
      ]
     },
     "execution_count": 121,
     "metadata": {},
     "output_type": "execute_result"
    }
   ],
   "source": [
    "\"my text\".upper()"
   ]
  },
  {
   "cell_type": "code",
   "execution_count": 122,
   "metadata": {},
   "outputs": [
    {
     "data": {
      "text/plain": [
       "False"
      ]
     },
     "execution_count": 122,
     "metadata": {},
     "output_type": "execute_result"
    }
   ],
   "source": [
    "\"my text\".isdigit()"
   ]
  },
  {
   "cell_type": "markdown",
   "metadata": {},
   "source": [
    "# Coming back to our example"
   ]
  },
  {
   "cell_type": "markdown",
   "metadata": {},
   "source": [
    "Let's input temperature and city both. And store them in a Python dictionary."
   ]
  },
  {
   "cell_type": "code",
   "execution_count": 135,
   "metadata": {},
   "outputs": [
    {
     "name": "stdout",
     "output_type": "stream",
     "text": [
      "['12', ' Amsterdam']\n",
      "{'temp': '12', 'city': ' Amsterdam'}\n",
      "['']\n"
     ]
    },
    {
     "ename": "IndexError",
     "evalue": "list index out of range",
     "output_type": "error",
     "traceback": [
      "\u001b[1;31m---------------------------------------------------------------------------\u001b[0m",
      "\u001b[1;31mIndexError\u001b[0m                                Traceback (most recent call last)",
      "Cell \u001b[1;32mIn[135], line 7\u001b[0m\n\u001b[0;32m      5\u001b[0m \u001b[39mprint\u001b[39m(temp_and_city)\n\u001b[0;32m      6\u001b[0m \u001b[39mif\u001b[39;00m user_input \u001b[39m!=\u001b[39m \u001b[39m'\u001b[39m\u001b[39mexit\u001b[39m\u001b[39m'\u001b[39m:\n\u001b[1;32m----> 7\u001b[0m     temp_and_city_dictionary \u001b[39m=\u001b[39m {\u001b[39m\"\u001b[39m\u001b[39mtemp\u001b[39m\u001b[39m\"\u001b[39m: temp_and_city[\u001b[39m0\u001b[39m], \u001b[39m\"\u001b[39m\u001b[39mcity\u001b[39m\u001b[39m\"\u001b[39m: temp_and_city[\u001b[39m1\u001b[39;49m]}\n\u001b[0;32m      8\u001b[0m \u001b[39mprint\u001b[39m(temp_and_city_dictionary)\n",
      "\u001b[1;31mIndexError\u001b[0m: list index out of range"
     ]
    }
   ],
   "source": [
    "user_input = ''\n",
    "while user_input != \"exit\":\n",
    "    user_input = input('Give the temperature in degrees celsius and I will convert it to Fahrenheit!')\n",
    "    temp_and_city = user_input.split(\",\")\n",
    "    print(temp_and_city)\n",
    "    if user_input != 'exit':\n",
    "        temp_and_city_dictionary = {\"temp\": temp_and_city[0], \"city\": temp_and_city[1]}\n",
    "    print(temp_and_city_dictionary)"
   ]
  },
  {
   "cell_type": "code",
   "execution_count": 136,
   "metadata": {},
   "outputs": [
    {
     "data": {
      "text/plain": [
       "{'temp': '12', 'city': ' Amsterdam'}"
      ]
     },
     "execution_count": 136,
     "metadata": {},
     "output_type": "execute_result"
    }
   ],
   "source": [
    "temp_and_city_dictionary"
   ]
  },
  {
   "cell_type": "code",
   "execution_count": 143,
   "metadata": {},
   "outputs": [],
   "source": [
    "def celsius_to_fahrenheit(deg_c):\n",
    "    deg_f = deg_c * 9/5 + 32\n",
    "    return f\"It is {deg_c}°C ({deg_f}°F) in {temp_and_city_dictionary['city']} today.\""
   ]
  },
  {
   "cell_type": "code",
   "execution_count": 144,
   "metadata": {},
   "outputs": [],
   "source": [
    "def validate_input_and_convert():\n",
    "    print(temp_and_city[0])\n",
    "    if temp_and_city_dictionary['temp'].isdigit():\n",
    "        user_input_as_num = int(temp_and_city_dictionary['temp'])\n",
    "        deg_f = celsius_to_fahrenheit(user_input_as_num)\n",
    "        print(deg_f)\n",
    "    else:\n",
    "     print('Cannot convert a non numeric value, sorry!')"
   ]
  },
  {
   "cell_type": "code",
   "execution_count": 145,
   "metadata": {},
   "outputs": [
    {
     "name": "stdout",
     "output_type": "stream",
     "text": [
      "\n",
      "It is 12°C (53.6°F) in  Amsterdam today.\n"
     ]
    }
   ],
   "source": [
    "validate_input_and_convert()"
   ]
  },
  {
   "cell_type": "code",
   "execution_count": null,
   "metadata": {},
   "outputs": [
    {
     "name": "stdout",
     "output_type": "stream",
     "text": [
      "['24', ' colombo']\n",
      "{'temp': '24', 'city': ' colombo'}\n",
      "It is 24°C (75.2°F) in  colombo today.\n",
      "['2', ' eindhoven']\n",
      "{'temp': '2', 'city': ' eindhoven'}\n",
      "It is 2°C (35.6°F) in  eindhoven today.\n",
      "['exit']\n",
      "{'temp': '2', 'city': ' eindhoven'}\n",
      "It is 2°C (35.6°F) in  eindhoven today.\n"
     ]
    }
   ],
   "source": [
    "def celsius_to_fahrenheit(deg_c, city):\n",
    "    deg_f = deg_c * 9/5 + 32\n",
    "    return f\"It is {deg_c}°C ({deg_f}°F) in {city} today.\"\n",
    "\n",
    "def validate_input_and_convert():\n",
    "    # print(temp_and_city[0])\n",
    "    if temp_and_city_dictionary['temp'].isdigit():\n",
    "        user_input_as_num = int(temp_and_city_dictionary['temp'])\n",
    "        deg_f = celsius_to_fahrenheit(user_input_as_num, temp_and_city_dictionary['city'])\n",
    "        print(deg_f)\n",
    "    else:\n",
    "     print('Cannot convert a non numeric value, sorry!')\n",
    "\n",
    "user_input = ''\n",
    "while user_input != \"exit\":\n",
    "    user_input = input('Give the temperature in degrees celsius and I will convert it to Fahrenheit!')\n",
    "    temp_and_city = user_input.split(\",\")\n",
    "    print(temp_and_city)\n",
    "    if user_input != 'exit':\n",
    "        temp_and_city_dictionary = {\"temp\": temp_and_city[0], \"city\": temp_and_city[1]}\n",
    "    print(temp_and_city_dictionary)\n",
    "    validate_input_and_convert()"
   ]
  },
  {
   "cell_type": "markdown",
   "metadata": {},
   "source": [
    "# Modularizing a project with Modules\n",
    "- A module is a library of functions \n",
    "- Used to import extra functionality into your program\n",
    "- Some are built in (math, datetime, os)\n",
    "- Some are external (numpy, matplotlib, Pandas)\n",
    "- Some you write yourself to logically organize the code"
   ]
  },
  {
   "cell_type": "markdown",
   "metadata": {},
   "source": [
    "So what is a module? It is also a .py file that contains functions or variables that you can use in another python file."
   ]
  },
  {
   "cell_type": "markdown",
   "metadata": {},
   "source": [
    "## Modularizing our project"
   ]
  },
  {
   "cell_type": "markdown",
   "metadata": {},
   "source": [
    "Let's modularize our project by making a main.py file and a converter.py module."
   ]
  },
  {
   "cell_type": "markdown",
   "metadata": {},
   "source": [
    "## Using built in Python modules\n",
    "\n",
    "One common library that comes as part of the Python Standard Library is datetime. datetime helps you work with dates and times in Python.\n",
    "\n",
    "Let’s get started by importing and using the datetime module. In this case, you’ll notice that datetime is both the name of the library and the name of the object that you are importing."
   ]
  },
  {
   "cell_type": "code",
   "execution_count": null,
   "metadata": {},
   "outputs": [
    {
     "name": "stdout",
     "output_type": "stream",
     "text": [
      "2022-11-28 20:59:33.001894\n"
     ]
    }
   ],
   "source": [
    "from datetime import datetime\n",
    "\n",
    "current_time = datetime.now()\n",
    "print(current_time)"
   ]
  },
  {
   "cell_type": "markdown",
   "metadata": {},
   "source": []
  },
  {
   "cell_type": "code",
   "execution_count": 146,
   "metadata": {},
   "outputs": [
    {
     "name": "stdout",
     "output_type": "stream",
     "text": [
      "Windows\n",
      "AMD64\n"
     ]
    }
   ],
   "source": [
    "import platform\n",
    "\n",
    "print(platform.system())\n",
    "\n",
    "print(platform.machine())"
   ]
  },
  {
   "cell_type": "markdown",
   "metadata": {},
   "source": [
    "## Using external modules"
   ]
  },
  {
   "cell_type": "code",
   "execution_count": 148,
   "metadata": {},
   "outputs": [
    {
     "name": "stdout",
     "output_type": "stream",
     "text": [
      "Collecting pandas\n",
      "  Downloading pandas-1.5.2-cp310-cp310-win_amd64.whl (10.4 MB)\n",
      "     --------------------------------------- 10.4/10.4 MB 10.9 MB/s eta 0:00:00\n",
      "Collecting numpy>=1.21.0\n",
      "  Downloading numpy-1.23.5-cp310-cp310-win_amd64.whl (14.6 MB)\n",
      "     --------------------------------------- 14.6/14.6 MB 11.3 MB/s eta 0:00:00\n",
      "Requirement already satisfied: python-dateutil>=2.8.1 in c:\\users\\lasit\\documents\\softwarephd\\pythonworkshop\\venv\\lib\\site-packages (from pandas) (2.8.2)\n",
      "Collecting pytz>=2020.1\n",
      "  Using cached pytz-2022.6-py2.py3-none-any.whl (498 kB)\n",
      "Requirement already satisfied: six>=1.5 in c:\\users\\lasit\\documents\\softwarephd\\pythonworkshop\\venv\\lib\\site-packages (from python-dateutil>=2.8.1->pandas) (1.16.0)\n",
      "Installing collected packages: pytz, numpy, pandas\n",
      "Successfully installed numpy-1.23.5 pandas-1.5.2 pytz-2022.6\n"
     ]
    },
    {
     "name": "stderr",
     "output_type": "stream",
     "text": [
      "\n",
      "[notice] A new release of pip available: 22.2.2 -> 22.3.1\n",
      "[notice] To update, run: python.exe -m pip install --upgrade pip\n"
     ]
    }
   ],
   "source": [
    "!pip install pandas"
   ]
  },
  {
   "cell_type": "code",
   "execution_count": 150,
   "metadata": {},
   "outputs": [
    {
     "data": {
      "text/html": [
       "<div>\n",
       "<style scoped>\n",
       "    .dataframe tbody tr th:only-of-type {\n",
       "        vertical-align: middle;\n",
       "    }\n",
       "\n",
       "    .dataframe tbody tr th {\n",
       "        vertical-align: top;\n",
       "    }\n",
       "\n",
       "    .dataframe thead th {\n",
       "        text-align: right;\n",
       "    }\n",
       "</style>\n",
       "<table border=\"1\" class=\"dataframe\">\n",
       "  <thead>\n",
       "    <tr style=\"text-align: right;\">\n",
       "      <th></th>\n",
       "      <th>sensor_id</th>\n",
       "      <th>value</th>\n",
       "    </tr>\n",
       "  </thead>\n",
       "  <tbody>\n",
       "    <tr>\n",
       "      <th>0</th>\n",
       "      <td>temp1</td>\n",
       "      <td>12</td>\n",
       "    </tr>\n",
       "    <tr>\n",
       "      <th>1</th>\n",
       "      <td>temp2</td>\n",
       "      <td>23</td>\n",
       "    </tr>\n",
       "    <tr>\n",
       "      <th>2</th>\n",
       "      <td>temp3</td>\n",
       "      <td>12</td>\n",
       "    </tr>\n",
       "  </tbody>\n",
       "</table>\n",
       "</div>"
      ],
      "text/plain": [
       "  sensor_id   value\n",
       "0     temp1      12\n",
       "1     temp2      23\n",
       "2     temp3      12"
      ]
     },
     "execution_count": 150,
     "metadata": {},
     "output_type": "execute_result"
    }
   ],
   "source": [
    "import pandas as pd\n",
    "\n",
    "#  Creating a DataFrame by passing a dictionary of objects that can be converted into a series-like structure:\n",
    "\n",
    "df = pd.read_csv('temp.csv')\n",
    "\n",
    "df"
   ]
  },
  {
   "cell_type": "markdown",
   "metadata": {},
   "source": [
    "# Getting data from an API"
   ]
  },
  {
   "cell_type": "markdown",
   "metadata": {},
   "source": [
    "There’s an amazing amount of data available on the Web. Many web services, like YouTube and GitHub, make their data accessible to third-party applications through an application programming interface (API). One of the most popular ways to build APIs is the REST architecture style. Python provides some great tools not only to get data from REST APIs but also to build your own Python REST APIs.\n",
    "\n",
    "https://realpython.com/api-integration-in-python/"
   ]
  },
  {
   "cell_type": "code",
   "execution_count": 4,
   "metadata": {},
   "outputs": [
    {
     "name": "stdout",
     "output_type": "stream",
     "text": [
      "Requirement already satisfied: requests in c:\\users\\lasit\\documents\\softwarephd\\pythonworkshop\\venv\\lib\\site-packages (2.28.1)\n",
      "Requirement already satisfied: charset-normalizer<3,>=2 in c:\\users\\lasit\\documents\\softwarephd\\pythonworkshop\\venv\\lib\\site-packages (from requests) (2.1.1)\n",
      "Requirement already satisfied: urllib3<1.27,>=1.21.1 in c:\\users\\lasit\\documents\\softwarephd\\pythonworkshop\\venv\\lib\\site-packages (from requests) (1.26.13)\n",
      "Requirement already satisfied: certifi>=2017.4.17 in c:\\users\\lasit\\documents\\softwarephd\\pythonworkshop\\venv\\lib\\site-packages (from requests) (2022.9.24)\n",
      "Requirement already satisfied: idna<4,>=2.5 in c:\\users\\lasit\\documents\\softwarephd\\pythonworkshop\\venv\\lib\\site-packages (from requests) (3.4)\n"
     ]
    },
    {
     "name": "stderr",
     "output_type": "stream",
     "text": [
      "\n",
      "[notice] A new release of pip available: 22.2.2 -> 22.3.1\n",
      "[notice] To update, run: python.exe -m pip install --upgrade pip\n"
     ]
    }
   ],
   "source": [
    "# cmd\n",
    "!pip install requests"
   ]
  },
  {
   "cell_type": "code",
   "execution_count": 7,
   "metadata": {},
   "outputs": [
    {
     "name": "stdout",
     "output_type": "stream",
     "text": [
      "Collecting python-dotenv\n",
      "  Downloading python_dotenv-0.21.0-py3-none-any.whl (18 kB)\n",
      "Installing collected packages: python-dotenv\n",
      "Successfully installed python-dotenv-0.21.0\n"
     ]
    },
    {
     "name": "stderr",
     "output_type": "stream",
     "text": [
      "\n",
      "[notice] A new release of pip available: 22.2.2 -> 22.3.1\n",
      "[notice] To update, run: python.exe -m pip install --upgrade pip\n"
     ]
    }
   ],
   "source": [
    "!pip install python-dotenv"
   ]
  },
  {
   "cell_type": "markdown",
   "metadata": {},
   "source": [
    "https://openweathermap.org/current#name"
   ]
  },
  {
   "cell_type": "code",
   "execution_count": 8,
   "metadata": {},
   "outputs": [
    {
     "name": "stdout",
     "output_type": "stream",
     "text": [
      "{\n",
      "  \"coord\": {\n",
      "    \"lon\": 5.4667,\n",
      "    \"lat\": 51.4333\n",
      "  },\n",
      "  \"weather\": [\n",
      "    {\n",
      "      \"id\": 741,\n",
      "      \"main\": \"Fog\",\n",
      "      \"description\": \"fog\",\n",
      "      \"icon\": \"50n\"\n",
      "    }\n",
      "  ],\n",
      "  \"base\": \"stations\",\n",
      "  \"main\": {\n",
      "    \"temp\": 6.3,\n",
      "    \"feels_like\": 6.3,\n",
      "    \"temp_min\": 4.96,\n",
      "    \"temp_max\": 8.35,\n",
      "    \"pressure\": 1012,\n",
      "    \"humidity\": 84\n",
      "  },\n",
      "  \"visibility\": 600,\n",
      "  \"wind\": {\n",
      "    \"speed\": 1.03,\n",
      "    \"deg\": 180\n",
      "  },\n",
      "  \"clouds\": {\n",
      "    \"all\": 100\n",
      "  },\n",
      "  \"dt\": 1669673506,\n",
      "  \"sys\": {\n",
      "    \"type\": 1,\n",
      "    \"id\": 1527,\n",
      "    \"country\": \"NL\",\n",
      "    \"sunrise\": 1669619806,\n",
      "    \"sunset\": 1669649742\n",
      "  },\n",
      "  \"timezone\": 3600,\n",
      "  \"id\": 2756252,\n",
      "  \"name\": \"Gemeente Eindhoven\",\n",
      "  \"cod\": 200\n",
      "}\n"
     ]
    }
   ],
   "source": [
    "import requests\n",
    "import json\n",
    "import os\n",
    "from dotenv import load_dotenv\n",
    "\n",
    "load_dotenv()\n",
    " \n",
    "API_key= os.getenv('API_KEY')\n",
    "\n",
    "city_name = 'Eindhoven'\n",
    "api_url = f'https://api.openweathermap.org/data/2.5/weather?q={city_name}&appid={API_key}&units=metric'\n",
    "response = requests.get(api_url)\n",
    "res = response.json()\n",
    "res\n",
    "print(json.dumps(res, indent=2))"
   ]
  },
  {
   "cell_type": "markdown",
   "metadata": {},
   "source": [
    "This code calls requests.get() to send a GET request to /todos/1, which responds with the todo item with the ID 1. Then you can call .json() on the response object to view the data that came back from the API.\n",
    "\n",
    "The response data is formatted as JSON, a key-value store similar to a Python dictionary. It’s a very popular data format and the de facto interchange format for most REST APIs."
   ]
  },
  {
   "cell_type": "markdown",
   "metadata": {},
   "source": [
    "How to extract the temperature data?"
   ]
  },
  {
   "cell_type": "code",
   "execution_count": 154,
   "metadata": {},
   "outputs": [
    {
     "data": {
      "text/plain": [
       "6.66"
      ]
     },
     "execution_count": 154,
     "metadata": {},
     "output_type": "execute_result"
    }
   ],
   "source": [
    "res[\"main\"]['temp']"
   ]
  },
  {
   "cell_type": "code",
   "execution_count": 158,
   "metadata": {},
   "outputs": [
    {
     "data": {
      "text/plain": [
       "float"
      ]
     },
     "execution_count": 158,
     "metadata": {},
     "output_type": "execute_result"
    }
   ],
   "source": [
    "type(res[\"main\"]['temp'])"
   ]
  },
  {
   "cell_type": "code",
   "execution_count": 159,
   "metadata": {},
   "outputs": [
    {
     "name": "stdout",
     "output_type": "stream",
     "text": [
      "It is 1°C (33.8°F) in Toronto today.\n"
     ]
    }
   ],
   "source": [
    "import requests\n",
    "import json\n",
    " \n",
    "API_key= os.getenv('API_KEY')\n",
    "\n",
    "city_name = 'Toronto' # Give any city name that you like to see its weather!\n",
    "\n",
    "api_url = f'https://api.openweathermap.org/data/2.5/weather?q={city_name}&appid={API_key}&units=metric'\n",
    "response = requests.get(api_url)\n",
    "res = response.json()\n",
    "\n",
    "def celsius_to_fahrenheit(deg_c, city):\n",
    "    deg_f = deg_c * 9/5 + 32\n",
    "    return f\"It is {deg_c}°C ({deg_f}°F) in {city} today.\"\n",
    "\n",
    "def validate_input_and_convert():\n",
    "    # print(temp_and_city[0])\n",
    "    # if temp_and_city_dictionary['temp'].isfloat():\n",
    "        user_input_as_num = int(temp_and_city_dictionary['temp'])\n",
    "        deg_f = celsius_to_fahrenheit(user_input_as_num, temp_and_city_dictionary['city'])\n",
    "        print(deg_f)\n",
    "    # else:\n",
    "    #  print('Cannot convert a non numeric value, sorry!')\n",
    "\n",
    "# user_input = ''\n",
    "# while user_input != \"exit\":\n",
    "    # user_input = input('Give the temperature in degrees celsius and I will convert it to Fahrenheit!')\n",
    "    # temp_and_city = user_input.split(\",\")\n",
    "    # print(temp_and_city)\n",
    "    # if user_input != 'exit':\n",
    "temp_and_city_dictionary = {\"temp\": res[\"main\"]['temp'], \"city\": city_name}\n",
    "# print(temp_and_city_dictionary)\n",
    "validate_input_and_convert()"
   ]
  },
  {
   "cell_type": "code",
   "execution_count": null,
   "metadata": {},
   "outputs": [],
   "source": []
  }
 ],
 "metadata": {
  "kernelspec": {
   "display_name": "Python 3.10.7 ('venv': venv)",
   "language": "python",
   "name": "python3"
  },
  "language_info": {
   "codemirror_mode": {
    "name": "ipython",
    "version": 3
   },
   "file_extension": ".py",
   "mimetype": "text/x-python",
   "name": "python",
   "nbconvert_exporter": "python",
   "pygments_lexer": "ipython3",
   "version": "3.10.7"
  },
  "orig_nbformat": 4,
  "vscode": {
   "interpreter": {
    "hash": "328d38edb4a47e72717e062bae5904cf5f8811ba316934a40a547226342d9fc7"
   }
  }
 },
 "nbformat": 4,
 "nbformat_minor": 2
}
