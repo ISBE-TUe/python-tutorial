{
 "cells": [
  {
   "cell_type": "markdown",
   "metadata": {
    "slideshow": {
     "slide_type": "slide"
    }
   },
   "source": [
    "# 1. IfcOpenShell Tutorial\n",
    "\n"
   ]
  },
  {
   "cell_type": "markdown",
   "metadata": {},
   "source": [
    "## 1.1 Installing IfcOpenShell on your computer\n",
    "\n",
    "Before we can start, make sure to have Python and IfcOpenShell installed on your computer. Use the below `pip install` functionality to install IfcOpenShell globally. Alternatively, make a virtual environment and install it there."
   ]
  },
  {
   "cell_type": "code",
   "execution_count": 10,
   "metadata": {},
   "outputs": [
    {
     "name": "stdout",
     "output_type": "stream",
     "text": [
      "Collecting ifcopenshellNote: you may need to restart the kernel to use updated packages.\n",
      "\n",
      "  Downloading ifcopenshell-0.7.0.231018-py39-none-win_amd64.whl (23.8 MB)\n",
      "Installing collected packages: ifcopenshell\n",
      "Successfully installed ifcopenshell-0.7.0.231018\n"
     ]
    },
    {
     "name": "stderr",
     "output_type": "stream",
     "text": [
      "WARNING: You are using pip version 21.1.3; however, version 23.3.1 is available.\n",
      "You should consider upgrading via the 'c:\\Users\\20194060\\AppData\\Local\\Programs\\Python\\Python39\\python.exe -m pip install --upgrade pip' command.\n"
     ]
    }
   ],
   "source": [
    "%pip install ifcopenshell"
   ]
  },
  {
   "cell_type": "markdown",
   "metadata": {},
   "source": [
    "## 1.2 Loading a simple IFC file in the Python script\n",
    "Loading an IFC file in the script can be done using the method `ifcopenshell,open()`."
   ]
  },
  {
   "cell_type": "code",
   "execution_count": 12,
   "metadata": {},
   "outputs": [
    {
     "name": "stdout",
     "output_type": "stream",
     "text": [
      "success\n",
      "IfcSite\n",
      "IfcBuilding\n",
      "IfcBuildingStorey\n",
      "IfcWall\n",
      "IfcOpeningElement\n",
      "IfcDoor\n"
     ]
    }
   ],
   "source": [
    "import ifcopenshell\n",
    "\n",
    "model = ifcopenshell.open('files/7m900_tue_hello_wall_with_door_ifc4.ifc')\n",
    "print('success')\n",
    "\n",
    "products = model.by_type(\"IfcProduct\")\n",
    "for product in products:\n",
    "    print(product.is_a())"
   ]
  },
  {
   "cell_type": "markdown",
   "metadata": {},
   "source": [
    "- In this case, `ifcopenshell` is imported in line 1.\n",
    "- In line 3, a local IFC file is opened and loaded in the variable `model`.\n",
    "- In line 5, all objects of `type` 'IfcProduct' are retrieved from the IFC model and stored in a `list` variable 'products'\n",
    "- in line 6 and 7, the code iterates through all items in the `products` list, and prints the type of each."
   ]
  },
  {
   "cell_type": "markdown",
   "metadata": {},
   "source": [
    "## 1.3 Printing all walls with their IDs\n",
    "Now let's continue and only query the IFC model for its walls. For each wall, let's print their ID."
   ]
  },
  {
   "cell_type": "code",
   "execution_count": 13,
   "metadata": {},
   "outputs": [
    {
     "name": "stdout",
     "output_type": "stream",
     "text": [
      "wall with global id: 3vB2YO$MX4xv5uCqZZG05x\n"
     ]
    }
   ],
   "source": [
    "import ifcopenshell\n",
    "\n",
    "model = ifcopenshell.open('files/7m900_tue_hello_wall_with_door_ifc4.ifc')\n",
    "\n",
    "walls = model.by_type(\"IfcWall\")\n",
    "for wall in walls:\n",
    "    print (\"wall with global id: \"+str(wall.GlobalId))"
   ]
  },
  {
   "cell_type": "markdown",
   "metadata": {},
   "source": [
    "## 1.4 What attributes are available for an element?\n",
    "All elements in IFC have several attributes. In the below code:\n",
    "1. we retrieve all `IfcProject` instances (should be only one), \n",
    "2. we select the first one in the list of instances,\n",
    "3. we print `Name`, `GlobalId`, `Description`, and `LongName` for that project instance."
   ]
  },
  {
   "cell_type": "code",
   "execution_count": 15,
   "metadata": {},
   "outputs": [
    {
     "name": "stdout",
     "output_type": "stream",
     "text": [
      "Default Project\n",
      "0YvctVUKr0kugbFTf53O9L\n",
      "Description of my Project\n",
      "None\n"
     ]
    }
   ],
   "source": [
    "import ifcopenshell\n",
    "\n",
    "model = ifcopenshell.open('files/7m900_tue_hello_wall_with_door_ifc4.ifc')\n",
    "\n",
    "projects = model.by_type(\"IfcProject\")\n",
    "print (projects[0].Name)\n",
    "print (projects[0].GlobalId)\n",
    "print (projects[0].Description)  \n",
    "print (projects[0].LongName)"
   ]
  },
  {
   "cell_type": "markdown",
   "metadata": {},
   "source": [
    "## 1.5 Iterating through Lists in IFC\n",
    "Be careful when using the index to retrieve a particular item in a list. This can easily lead to errors in your code. \n",
    "\n",
    "*Task:* What is wrong in the below code? \n",
    "\n",
    "*Hint*: try to debug this example line by line."
   ]
  },
  {
   "cell_type": "code",
   "execution_count": 19,
   "metadata": {},
   "outputs": [
    {
     "ename": "AttributeError",
     "evalue": "'str' object has no attribute 'GlobalId'",
     "output_type": "error",
     "traceback": [
      "\u001b[1;31m---------------------------------------------------------------------------\u001b[0m",
      "\u001b[1;31mAttributeError\u001b[0m                            Traceback (most recent call last)",
      "\u001b[1;32mc:\\Users\\20194060\\Desktop\\Git\\tue\\ISBE_github\\python-tutorial\\objectsAndClasses\\02.ifcopenshell.ipynb Cell 12\u001b[0m line \u001b[0;36m6\n\u001b[0;32m      <a href='vscode-notebook-cell:/c%3A/Users/20194060/Desktop/Git/tue/ISBE_github/python-tutorial/objectsAndClasses/02.ifcopenshell.ipynb#X42sZmlsZQ%3D%3D?line=2'>3</a>\u001b[0m model \u001b[39m=\u001b[39m ifcopenshell\u001b[39m.\u001b[39mopen(\u001b[39m'\u001b[39m\u001b[39mfiles/7m900_tue_hello_wall_with_door_ifc4.ifc\u001b[39m\u001b[39m'\u001b[39m)\n\u001b[0;32m      <a href='vscode-notebook-cell:/c%3A/Users/20194060/Desktop/Git/tue/ISBE_github/python-tutorial/objectsAndClasses/02.ifcopenshell.ipynb#X42sZmlsZQ%3D%3D?line=4'>5</a>\u001b[0m \u001b[39mfor\u001b[39;00m wall \u001b[39min\u001b[39;00m model\u001b[39m.\u001b[39mby_type(\u001b[39m\"\u001b[39m\u001b[39mIfcWall\u001b[39m\u001b[39m\"\u001b[39m)[\u001b[39m0\u001b[39m]:\n\u001b[1;32m----> <a href='vscode-notebook-cell:/c%3A/Users/20194060/Desktop/Git/tue/ISBE_github/python-tutorial/objectsAndClasses/02.ifcopenshell.ipynb#X42sZmlsZQ%3D%3D?line=5'>6</a>\u001b[0m     \u001b[39mprint\u001b[39m (\u001b[39m\"\u001b[39m\u001b[39mwall with global id: \u001b[39m\u001b[39m\"\u001b[39m\u001b[39m+\u001b[39m\u001b[39mstr\u001b[39m(wall\u001b[39m.\u001b[39;49mGlobalId))\n",
      "\u001b[1;31mAttributeError\u001b[0m: 'str' object has no attribute 'GlobalId'"
     ]
    }
   ],
   "source": [
    "import ifcopenshell\n",
    "\n",
    "model = ifcopenshell.open('files/7m900_tue_hello_wall_with_door_ifc4.ifc')\n",
    "\n",
    "for wall in model.by_type(\"IfcWall\")[0]:\n",
    "    print (\"wall with global id: \"+str(wall.GlobalId))"
   ]
  },
  {
   "cell_type": "markdown",
   "metadata": {},
   "source": [
    "The below code solves the problem correctly. No error is present in this code. What is different?"
   ]
  },
  {
   "cell_type": "code",
   "execution_count": 20,
   "metadata": {},
   "outputs": [
    {
     "name": "stdout",
     "output_type": "stream",
     "text": [
      "wall with global id: 3vB2YO$MX4xv5uCqZZG05x\n"
     ]
    }
   ],
   "source": [
    "import ifcopenshell\n",
    "\n",
    "model = ifcopenshell.open('files/7m900_tue_hello_wall_with_door_ifc4.ifc')\n",
    "\n",
    "for wall in model.by_type(\"IfcWall\"):\n",
    "    print (\"wall with global id: \"+str(wall.GlobalId))"
   ]
  },
  {
   "cell_type": "markdown",
   "metadata": {},
   "source": [
    "## 1.6 Finding the Attributes of a certain IFC Entity\n",
    "If you don't know what attributes are available for a particular IFC Entity, you can use the `attribute_name()` function to retrieve each of the available attributes."
   ]
  },
  {
   "cell_type": "code",
   "execution_count": 21,
   "metadata": {},
   "outputs": [
    {
     "name": "stdout",
     "output_type": "stream",
     "text": [
      "GlobalId\n",
      "OwnerHistory\n",
      "Name\n",
      "Description\n",
      "ObjectType\n",
      "LongName\n",
      "Phase\n",
      "RepresentationContexts\n",
      "UnitsInContext\n"
     ]
    }
   ],
   "source": [
    "import ifcopenshell\n",
    "\n",
    "model = ifcopenshell.open('files/7m900_tue_hello_wall_with_door_ifc4.ifc')\n",
    "\n",
    "project = model.by_type(\"IfcProject\")[0]\n",
    "for att_idx in range(0,len(project)):\n",
    "    print(project.attribute_name(att_idx))"
   ]
  },
  {
   "cell_type": "markdown",
   "metadata": {},
   "source": [
    "For each of the found attributes, it is possible to find their `type` using the `attribute_type()` function."
   ]
  },
  {
   "cell_type": "code",
   "execution_count": 27,
   "metadata": {},
   "outputs": [
    {
     "name": "stdout",
     "output_type": "stream",
     "text": [
      "GlobalId            \tSTRING              \n",
      "OwnerHistory        \tENTITY INSTANCE     \n",
      "Name                \tSTRING              \n",
      "Description         \tSTRING              \n",
      "ObjectType          \tSTRING              \n",
      "ObjectPlacement     \tENTITY INSTANCE     \n",
      "Representation      \tENTITY INSTANCE     \n",
      "Tag                 \tSTRING              \n"
     ]
    }
   ],
   "source": [
    "import ifcopenshell\n",
    "\n",
    "model = ifcopenshell.open('files/7m900_tue_hello_wall_with_door_ifc4.ifc')\n",
    "\n",
    "wall = model.by_type(\"IfcWall\")[0]\n",
    "for att_idx in range(0,len(wall)-1):\n",
    "    field_width = 20\n",
    "    try:\n",
    "        att_name = wall.attribute_name(att_idx)\n",
    "        att_type = wall.attribute_type(att_name)\n",
    "        print(\"{}\\t{}\".format(att_name.ljust(field_width),att_type.ljust(field_width)))\n",
    "    except:\n",
    "        pass\n"
   ]
  },
  {
   "cell_type": "markdown",
   "metadata": {},
   "source": [
    "## 1.7 Searching through properties and attributes of IFC objects\n",
    "Once the IFC model is loaded in Python, it is rather straightforward to read the model, all its entities and the attributes and properties that those have. Use the point-notation (`.`) to find what you need."
   ]
  },
  {
   "cell_type": "code",
   "execution_count": 25,
   "metadata": {},
   "outputs": [
    {
     "name": "stdout",
     "output_type": "stream",
     "text": [
      "Pieter\n",
      "0LV8Pid0X3IA3jJLVDPidY\n",
      "TU/e\n"
     ]
    }
   ],
   "source": [
    "import ifcopenshell\n",
    "\n",
    "model = ifcopenshell.open('files/7m900_tue_hello_wall_with_door_ifc4.ifc')\n",
    "\n",
    "door = model.by_type(\"IfcDoor\")[0]\n",
    "creator = door.OwnerHistory.OwningUser.ThePerson.GivenName\n",
    "organisation = door.OwnerHistory.OwningUser.TheOrganization.Name\n",
    "print (creator)\n",
    "print (door.GlobalId)\n",
    "print (organisation)\n"
   ]
  },
  {
   "cell_type": "markdown",
   "metadata": {},
   "source": [
    "## 1.8 Finding the properties of a an Object and writing them into a CSV file\n",
    "Very often, one wants to retrieve the properties of an object, including their values. This can be achieved using a combination of loops and conditional functions, as shown below."
   ]
  },
  {
   "cell_type": "code",
   "execution_count": 29,
   "metadata": {},
   "outputs": [
    {
     "name": "stdout",
     "output_type": "stream",
     "text": [
      "[Pset_WallCommon]\n",
      "Reference            : \n",
      "AcousticRating       : \n",
      "FireRating           :Class A \n",
      "Combustible          :False \n",
      "SurfaceSpreadOfFlame : \n",
      "ThermalTransmittance :0.24 \n",
      "IsExternal           :True \n",
      "ExtendToStructure    :False \n",
      "LoadBearing          :False \n",
      "Compartmentation     :False \n",
      "[MyPropertySet]\n",
      "MyProperty1          : \n",
      "MyProperty2          : \n"
     ]
    }
   ],
   "source": [
    "import ifcopenshell\n",
    "\n",
    "model = ifcopenshell.open('files/7m900_tue_hello_wall_with_door_ifc4.ifc')\n",
    "\n",
    "wall = model.by_type(\"IfcWall\")[0]\n",
    "for relDefinesByProperties in wall.IsDefinedBy:\n",
    "    name = relDefinesByProperties.RelatingPropertyDefinition.Name\n",
    "    print(\"[{0}]\".format(name))\n",
    "\n",
    "    properties = relDefinesByProperties.RelatingPropertyDefinition.HasProperties\n",
    "    for prop in properties:\n",
    "        print (\"{:<20} :{} \".format(prop.Name,prop.NominalValue.wrappedValue))\n"
   ]
  },
  {
   "cell_type": "markdown",
   "metadata": {},
   "source": [
    "If one wants to make the found properties in the property sets available elsewhere, then a CSV file is useful. A CSV file provides a simple way to store these properties in a spreadsheet. In the below example, the properties of all walls are retrieved, after which they are exported to a CSV file."
   ]
  },
  {
   "cell_type": "code",
   "execution_count": 23,
   "metadata": {},
   "outputs": [
    {
     "name": "stdout",
     "output_type": "stream",
     "text": [
      "[Pset_WallCommon]\n",
      "Reference            :\n",
      "AcousticRating       :\n",
      "FireRating           :Class A\n",
      "Combustible          :False\n",
      "SurfaceSpreadOfFlame :\n",
      "ThermalTransmittance :0.24\n",
      "IsExternal           :True\n",
      "ExtendToStructure    :False\n",
      "LoadBearing          :False\n",
      "Compartmentation     :False\n",
      "[MyPropertySet]\n",
      "MyProperty1          :\n",
      "MyProperty2          :\n"
     ]
    }
   ],
   "source": [
    "import ifcopenshell\n",
    "import csv\n",
    "\n",
    "model = ifcopenshell.open('files/7m900_tue_hello_wall_with_door_ifc4.ifc')\n",
    "\n",
    "with open(r'files/test.csv', 'w') as testfile:\n",
    "    walls = model.by_type('IfcWall')\n",
    "    for wall in walls:\n",
    "        csv_writer = csv.writer(testfile, delimiter=';')\n",
    "        for relDefinesByProperties in wall.IsDefinedBy:\n",
    "             print(\"[{0}]\".format(relDefinesByProperties.RelatingPropertyDefinition.Name))\n",
    "             for prop in relDefinesByProperties.RelatingPropertyDefinition.HasProperties:\n",
    "                print(\"{:<20} :{}\".format(prop.Name,prop.NominalValue.wrappedValue))\n",
    "                csv_writer.writerow([wall.GlobalId, wall.Name, relDefinesByProperties.RelatingPropertyDefinition.Name, prop.Name, prop.NominalValue.wrappedValue])\n"
   ]
  },
  {
   "cell_type": "markdown",
   "metadata": {},
   "source": [
    "In the below example, all instances of `IfcPropertySingleValue` are retrieved. Then, a counter counts how many of these have a value of type `IfcText`."
   ]
  },
  {
   "cell_type": "code",
   "execution_count": 31,
   "metadata": {},
   "outputs": [
    {
     "name": "stdout",
     "output_type": "stream",
     "text": [
      "6\n"
     ]
    }
   ],
   "source": [
    "import ifcopenshell\n",
    "\n",
    "model = ifcopenshell.open('files/7m900_tue_hello_wall_with_door_ifc4.ifc')\n",
    "\n",
    "counter = 0\n",
    "psvs = model.by_type('IfcPropertySingleValue')\n",
    "for psv in psvs:\n",
    "    t = psv.NominalValue\n",
    "    if(psv.NominalValue.is_a('IfcText')):\n",
    "        counter = counter+1\n",
    "\n",
    "print(counter)\n"
   ]
  },
  {
   "cell_type": "markdown",
   "metadata": {},
   "source": [
    "## 1.9 Adding information into IFC properties\n",
    "A last example shows how one can load information and add it to specific properties of elements in the IFC file. \n",
    "\n",
    "*Task:* Analyze the following code."
   ]
  },
  {
   "cell_type": "code",
   "execution_count": 32,
   "metadata": {},
   "outputs": [],
   "source": [
    "import ifcopenshell\n",
    "import uuid\n",
    "\n",
    "model = ifcopenshell.open('files/7m900_tue_hello_wall_with_door_ifc4.ifc')\n",
    "\n",
    "ownerhistory = model.by_type('IfcOwnerHistory')[0]\n",
    "prop_set_guid = ifcopenshell.guid.compress(uuid.uuid1().hex)\n",
    "\n",
    "property_values = [\n",
    "    model.createIfcPropertySingleValue(\"My own property\", \"Description of My Own Property\", model.create_entity(\"IfcText\", \t\"some textual Value\"), None),\n",
    "    model.createIfcPropertySingleValue(\"isMadeUp\", \"whether or not this is a made up value\", model.create_entity(\"IfcBoolean\", True), None)\n",
    "]\n",
    "\n",
    "property_set = model.createIfcPropertySet(prop_set_guid, ownerhistory, \"MyOwnPropSet\", None, property_values)\n",
    "rel_guid = ifcopenshell.guid.compress(uuid.uuid1().hex)\n",
    "\n",
    "doors = model.by_type('IfcDoor')\n",
    "for door in doors:\n",
    "    model.createIfcRelDefinesByProperties(rel_guid, ownerhistory, None, None, [door], property_set)\n",
    "\n",
    "model.write(r'files/properties_added.ifc') \n"
   ]
  },
  {
   "cell_type": "markdown",
   "metadata": {},
   "source": [
    "## 1.10 Continue online\n",
    "For many more examples, please turn to https://blenderbim.org/docs-python/ifcopenshell-python/hello_world.html. "
   ]
  }
 ],
 "metadata": {
  "celltoolbar": "Slideshow",
  "kernelspec": {
   "display_name": "Python 3 (ipykernel)",
   "language": "python",
   "name": "python3"
  },
  "language_info": {
   "codemirror_mode": {
    "name": "ipython",
    "version": 3
   },
   "file_extension": ".py",
   "mimetype": "text/x-python",
   "name": "python",
   "nbconvert_exporter": "python",
   "pygments_lexer": "ipython3",
   "version": "3.9.1"
  },
  "toc-autonumbering": true,
  "toc-showcode": false,
  "vscode": {
   "interpreter": {
    "hash": "f2dd3983abb08711ebf993e9d2c0a41f3cbbd887271685058242b02efa6cdf3e"
   }
  }
 },
 "nbformat": 4,
 "nbformat_minor": 4
}
