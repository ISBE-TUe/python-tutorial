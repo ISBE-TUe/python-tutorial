{
 "cells": [
  {
   "cell_type": "markdown",
   "metadata": {},
   "source": [
    "# Introduction to Python\n",
    "\n",
    "- Python currently has two active versions: Python 2 and Python 3.\n",
    "- Python 2 was released in 2000, and its latest release, 2.7, came out in 2010.\n",
    "- Python 3 was first released in 2008. The current version is 3.11.0, and each new version is released around 17 months apart.\n",
    "- Many Python applications and libraries still use Python 2, but Python 3 is recommended for future software.\n",
    "- Python is a powerful, general-purpose programming language with a wide range of applications such as, \n",
    "  - Data science: analytics and visualization\n",
    "  - Machine learning\n",
    "  - Web development: websites and web apps\n",
    "  - Financial analysis\n",
    "  - Desktop applications\n",
    "  - Business applications"
   ]
  },
  {
   "cell_type": "markdown",
   "metadata": {},
   "source": [
    "## Installation\n",
    "Latest version of Python can be downloaded from offical website here --> https://www.python.org/downloads/"
   ]
  },
  {
   "cell_type": "markdown",
   "metadata": {},
   "source": [
    "## Comments\n",
    "Commenting is a way to tell a computer to ignore a part of a program. Text written in a program but not run by the computer is called a comment. Python interprets anything after a # as a comment."
   ]
  },
  {
   "cell_type": "code",
   "execution_count": null,
   "metadata": {},
   "outputs": [],
   "source": [
    "def weather_prediction_for_tomorrow():\n",
    "    pass\n",
    "\n",
    "def new_code():\n",
    "    pass"
   ]
  },
  {
   "cell_type": "code",
   "execution_count": null,
   "metadata": {},
   "outputs": [],
   "source": [
    "# Provide context for why something is written the way it is:\n",
    "# This variable will be used to count the number of times anyone use the word architecture\n",
    "architecture_count = 0\n",
    "\n",
    "# Help other people reading the code understand it faster:\n",
    "# This code will calculate the weather prediction for tomorrow\n",
    "weather_prediction_for_tomorrow()\n",
    "\n",
    "# Ignore a line of code and see how a program will run without it:\n",
    "# value = old_code()\n",
    "value = new_code()"
   ]
  },
  {
   "cell_type": "markdown",
   "metadata": {},
   "source": [
    "## Print function"
   ]
  },
  {
   "cell_type": "markdown",
   "metadata": {},
   "source": [
    " In Python, the print() function is used to tell a computer to talk. The message to be printed should be surrounded by quotes (i.e a string).\n",
    " The printed words that appear in console."
   ]
  },
  {
   "cell_type": "code",
   "execution_count": null,
   "metadata": {},
   "outputs": [
    {
     "name": "stdout",
     "output_type": "stream",
     "text": [
      "Hello World.\n"
     ]
    }
   ],
   "source": [
    "print(\"Hello World.\")"
   ]
  },
  {
   "cell_type": "code",
   "execution_count": null,
   "metadata": {},
   "outputs": [
    {
     "name": "stdout",
     "output_type": "stream",
     "text": [
      "Hello and welcome to Pyhton for Beginners Course, Lasitha!\n"
     ]
    }
   ],
   "source": [
    "my_name = \"Lasitha\"\n",
    "print(\"Hello and welcome to Pyhton for Beginners Course, \" + my_name + \"!\")"
   ]
  },
  {
   "cell_type": "markdown",
   "metadata": {},
   "source": [
    "## Variables\n",
    "Programming languages offer a method of storing data for reuse. Variables are containers for storing values. In Python, we assign variables by using the equals sign (=). Variables can hold data of many types such as text, numbers, sequences, boolean. Python has no command for declaring a variable. A variable is created the moment you first assign a value to it. Variables do not need to be declared with any particular type, and can even change type after they have been set. When naming variable, you cannot use reserved keywords."
   ]
  },
  {
   "cell_type": "code",
   "execution_count": null,
   "metadata": {},
   "outputs": [
    {
     "data": {
      "text/plain": [
       "['False',\n",
       " 'None',\n",
       " 'True',\n",
       " 'and',\n",
       " 'as',\n",
       " 'assert',\n",
       " 'async',\n",
       " 'await',\n",
       " 'break',\n",
       " 'class',\n",
       " 'continue',\n",
       " 'def',\n",
       " 'del',\n",
       " 'elif',\n",
       " 'else',\n",
       " 'except',\n",
       " 'finally',\n",
       " 'for',\n",
       " 'from',\n",
       " 'global',\n",
       " 'if',\n",
       " 'import',\n",
       " 'in',\n",
       " 'is',\n",
       " 'lambda',\n",
       " 'nonlocal',\n",
       " 'not',\n",
       " 'or',\n",
       " 'pass',\n",
       " 'raise',\n",
       " 'return',\n",
       " 'try',\n",
       " 'while',\n",
       " 'with',\n",
       " 'yield']"
      ]
     },
     "metadata": {},
     "output_type": "display_data"
    }
   ],
   "source": [
    "import keyword\n",
    "\n",
    "keyword.kwlist"
   ]
  },
  {
   "cell_type": "code",
   "execution_count": null,
   "metadata": {},
   "outputs": [
    {
     "name": "stdout",
     "output_type": "stream",
     "text": [
      "Hello there\n"
     ]
    }
   ],
   "source": [
    "# declare the variable\n",
    "message_string = \"Hello there\"\n",
    "\n",
    "# Prints \"Hello there\"\n",
    "print(message_string)"
   ]
  },
  {
   "cell_type": "markdown",
   "metadata": {},
   "source": [
    "In the above example, we store the message “Hello there” in a variable called message_string. Variables can’t have spaces or symbols in their names other than an underscore (_). They can’t begin with numbers but they can have numbers after the first letter (e.g., cool_variable_5 is acceptable)."
   ]
  },
  {
   "cell_type": "markdown",
   "metadata": {},
   "source": [
    "If the context of a program changes, we can update a variable but perform the same logical process on it. We want to create a variable message_string, assign a welcome message, and print the greeting. After we greet the user, we want to wish them goodbye at the end. We then update message_string to a departure message and print that out."
   ]
  },
  {
   "cell_type": "code",
   "execution_count": null,
   "metadata": {},
   "outputs": [
    {
     "name": "stdout",
     "output_type": "stream",
     "text": [
      "Hello there!\n",
      "Thank you, good bye!\n"
     ]
    }
   ],
   "source": [
    "# Greeting\n",
    "message_string = \"Hello there!\"\n",
    "print(message_string)\n",
    "\n",
    "# Farewell\n",
    "message_string = \"Thank you, good bye!\"\n",
    "print(message_string)"
   ]
  },
  {
   "cell_type": "code",
   "execution_count": null,
   "metadata": {},
   "outputs": [],
   "source": [
    "my_variable = 123\n",
    "my_variable = \"One Two Three\""
   ]
  },
  {
   "cell_type": "markdown",
   "metadata": {},
   "source": [
    "After line 1, my_variable is an int. After line 2, my_variable is a str."
   ]
  },
  {
   "cell_type": "markdown",
   "metadata": {},
   "source": [
    "## Multi-line Strings\n",
    "By using three quote-marks (\"\"\" or ''') instead of one, we tell the program that the string doesn’t end until the next triple-quote."
   ]
  },
  {
   "cell_type": "code",
   "execution_count": null,
   "metadata": {},
   "outputs": [
    {
     "data": {
      "text/plain": [
       "'\\nThis is a mutiline text!.\\nThis is a mutiline text!.\\nThis is a mutiline text!.\\nThis is a mutiline text!.\\nThis is a mutiline text!.\\n'"
      ]
     },
     "metadata": {},
     "output_type": "display_data"
    }
   ],
   "source": [
    "multiline_text = \"\"\"\n",
    "This is a mutiline text!.\n",
    "This is a mutiline text!.\n",
    "This is a mutiline text!.\n",
    "This is a mutiline text!.\n",
    "This is a mutiline text!.\n",
    "\"\"\"\n",
    "\n",
    "multiline_text"
   ]
  },
  {
   "cell_type": "markdown",
   "metadata": {},
   "source": [
    "## Errors"
   ]
  },
  {
   "cell_type": "markdown",
   "metadata": {},
   "source": [
    "Programming languages attempt to understand and explain mistakes made in the code.\n",
    "\n",
    "Python refers to these mistakes as errors and will point to the location where an error occurred with a ^ character. When programs throw errors that we didn’t expect to encounter we call those errors bugs. Programmers call the process of updating the program so that it no longer produces unexpected errors debugging.\n",
    "\n",
    "Two common errors that we encounter while writing Python are SyntaxError and NameError.\n",
    "\n",
    "SyntaxError means there is something wrong with the way your program is written — punctuation that does not belong, a command where it is not expected, or a missing parenthesis can all trigger a SyntaxError.\n",
    "\n",
    "A NameError occurs when the Python interpreter sees a word it does not recognize. Code that contains something that looks like a variable but was never defined will throw a NameError."
   ]
  },
  {
   "cell_type": "code",
   "execution_count": null,
   "metadata": {},
   "outputs": [
    {
     "ename": "SyntaxError",
     "evalue": "unterminated string literal (detected at line 1) (968202474.py, line 1)",
     "output_type": "error",
     "traceback": [
      "\u001b[1;36m  Cell \u001b[1;32mIn[12], line 1\u001b[1;36m\u001b[0m\n",
      "\u001b[1;33m    print('This string has mismatched quote marks!\")\u001b[0m\n",
      "\u001b[1;37m          ^\u001b[0m\n",
      "\u001b[1;31mSyntaxError\u001b[0m\u001b[1;31m:\u001b[0m unterminated string literal (detected at line 1)\n"
     ]
    }
   ],
   "source": [
    "print('This string has mismatched quote marks!\")"
   ]
  },
  {
   "cell_type": "code",
   "execution_count": null,
   "metadata": {},
   "outputs": [
    {
     "name": "stdout",
     "output_type": "stream",
     "text": [
      "This string has mismatched quote marks!\n"
     ]
    }
   ],
   "source": [
    "print('This string has mismatched quote marks!')"
   ]
  },
  {
   "cell_type": "code",
   "execution_count": null,
   "metadata": {},
   "outputs": [
    {
     "ename": "NameError",
     "evalue": "name 'my_age' is not defined",
     "output_type": "error",
     "traceback": [
      "\u001b[1;31m---------------------------------------------------------------------------\u001b[0m\n",
      "\u001b[1;31mNameError\u001b[0m                                 Traceback (most recent call last)\n",
      "Cell \u001b[1;32mIn[14], line 2\u001b[0m\n",
      "\u001b[0;32m      1\u001b[0m \u001b[39m# we have not define a variable called my_age\u001b[39;00m\n",
      "\u001b[1;32m----> 2\u001b[0m \u001b[39mprint\u001b[39m(my_age)\n",
      "\n",
      "\u001b[1;31mNameError\u001b[0m: name 'my_age' is not defined"
     ]
    }
   ],
   "source": [
    "# we have not define a variable called my_age\n",
    "print(my_age)"
   ]
  }
 ],
 "metadata": {
  "kernelspec": {
   "display_name": "Python 3.10.7 ('venv': venv)",
   "language": "python",
   "name": "python3"
  },
  "language_info": {
   "name": "python",
   "version": "3.10.7"
  },
  "orig_nbformat": 4,
  "vscode": {
   "interpreter": {
    "hash": "328d38edb4a47e72717e062bae5904cf5f8811ba316934a40a547226342d9fc7"
   }
  }
 },
 "nbformat": 4,
 "nbformat_minor": 2
}
